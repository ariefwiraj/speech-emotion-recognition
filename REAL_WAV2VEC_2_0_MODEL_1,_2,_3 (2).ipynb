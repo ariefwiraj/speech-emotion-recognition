{
  "nbformat": 4,
  "nbformat_minor": 0,
  "metadata": {
    "colab": {
      "provenance": [],
      "gpuType": "T4",
      "collapsed_sections": [
        "uU1g4gTKxmve",
        "3nbkuFQG3fF9",
        "Zpt6VcWz5YCt"
      ]
    },
    "kernelspec": {
      "name": "python3",
      "display_name": "Python 3"
    },
    "language_info": {
      "name": "python"
    },
    "accelerator": "GPU",
    "widgets": {
      "application/vnd.jupyter.widget-state+json": {
        "d66fdb792f3d4a5893ada02593e73e5e": {
          "model_module": "@jupyter-widgets/controls",
          "model_name": "HBoxModel",
          "model_module_version": "1.5.0",
          "state": {
            "_dom_classes": [],
            "_model_module": "@jupyter-widgets/controls",
            "_model_module_version": "1.5.0",
            "_model_name": "HBoxModel",
            "_view_count": null,
            "_view_module": "@jupyter-widgets/controls",
            "_view_module_version": "1.5.0",
            "_view_name": "HBoxView",
            "box_style": "",
            "children": [
              "IPY_MODEL_1cd14a2a3633498a8842ffc717425f92",
              "IPY_MODEL_522c1f79337145cfbcb90aa404cca7a0",
              "IPY_MODEL_35494ad39f6c4c23828354cf4d290cfc"
            ],
            "layout": "IPY_MODEL_15ce62c19e514f11b623bba60761032d"
          }
        },
        "1cd14a2a3633498a8842ffc717425f92": {
          "model_module": "@jupyter-widgets/controls",
          "model_name": "HTMLModel",
          "model_module_version": "1.5.0",
          "state": {
            "_dom_classes": [],
            "_model_module": "@jupyter-widgets/controls",
            "_model_module_version": "1.5.0",
            "_model_name": "HTMLModel",
            "_view_count": null,
            "_view_module": "@jupyter-widgets/controls",
            "_view_module_version": "1.5.0",
            "_view_name": "HTMLView",
            "description": "",
            "description_tooltip": null,
            "layout": "IPY_MODEL_72a3a24beb1f4ccf9dbf9676bdc7e180",
            "placeholder": "​",
            "style": "IPY_MODEL_c2a18b87b1504476b2362db64de27614",
            "value": "Map: 100%"
          }
        },
        "522c1f79337145cfbcb90aa404cca7a0": {
          "model_module": "@jupyter-widgets/controls",
          "model_name": "FloatProgressModel",
          "model_module_version": "1.5.0",
          "state": {
            "_dom_classes": [],
            "_model_module": "@jupyter-widgets/controls",
            "_model_module_version": "1.5.0",
            "_model_name": "FloatProgressModel",
            "_view_count": null,
            "_view_module": "@jupyter-widgets/controls",
            "_view_module_version": "1.5.0",
            "_view_name": "ProgressView",
            "bar_style": "success",
            "description": "",
            "description_tooltip": null,
            "layout": "IPY_MODEL_84cee8717bed4dfebab3d82ecb850d10",
            "max": 192,
            "min": 0,
            "orientation": "horizontal",
            "style": "IPY_MODEL_221b90835dfd4e96b25f2feac9cb5359",
            "value": 192
          }
        },
        "35494ad39f6c4c23828354cf4d290cfc": {
          "model_module": "@jupyter-widgets/controls",
          "model_name": "HTMLModel",
          "model_module_version": "1.5.0",
          "state": {
            "_dom_classes": [],
            "_model_module": "@jupyter-widgets/controls",
            "_model_module_version": "1.5.0",
            "_model_name": "HTMLModel",
            "_view_count": null,
            "_view_module": "@jupyter-widgets/controls",
            "_view_module_version": "1.5.0",
            "_view_name": "HTMLView",
            "description": "",
            "description_tooltip": null,
            "layout": "IPY_MODEL_a48617d48cd24c95adf879a915a0543f",
            "placeholder": "​",
            "style": "IPY_MODEL_4e7fde08009542f195ab20b5fa996706",
            "value": " 192/192 [00:03&lt;00:00, 56.56 examples/s]"
          }
        },
        "15ce62c19e514f11b623bba60761032d": {
          "model_module": "@jupyter-widgets/base",
          "model_name": "LayoutModel",
          "model_module_version": "1.2.0",
          "state": {
            "_model_module": "@jupyter-widgets/base",
            "_model_module_version": "1.2.0",
            "_model_name": "LayoutModel",
            "_view_count": null,
            "_view_module": "@jupyter-widgets/base",
            "_view_module_version": "1.2.0",
            "_view_name": "LayoutView",
            "align_content": null,
            "align_items": null,
            "align_self": null,
            "border": null,
            "bottom": null,
            "display": null,
            "flex": null,
            "flex_flow": null,
            "grid_area": null,
            "grid_auto_columns": null,
            "grid_auto_flow": null,
            "grid_auto_rows": null,
            "grid_column": null,
            "grid_gap": null,
            "grid_row": null,
            "grid_template_areas": null,
            "grid_template_columns": null,
            "grid_template_rows": null,
            "height": null,
            "justify_content": null,
            "justify_items": null,
            "left": null,
            "margin": null,
            "max_height": null,
            "max_width": null,
            "min_height": null,
            "min_width": null,
            "object_fit": null,
            "object_position": null,
            "order": null,
            "overflow": null,
            "overflow_x": null,
            "overflow_y": null,
            "padding": null,
            "right": null,
            "top": null,
            "visibility": null,
            "width": null
          }
        },
        "72a3a24beb1f4ccf9dbf9676bdc7e180": {
          "model_module": "@jupyter-widgets/base",
          "model_name": "LayoutModel",
          "model_module_version": "1.2.0",
          "state": {
            "_model_module": "@jupyter-widgets/base",
            "_model_module_version": "1.2.0",
            "_model_name": "LayoutModel",
            "_view_count": null,
            "_view_module": "@jupyter-widgets/base",
            "_view_module_version": "1.2.0",
            "_view_name": "LayoutView",
            "align_content": null,
            "align_items": null,
            "align_self": null,
            "border": null,
            "bottom": null,
            "display": null,
            "flex": null,
            "flex_flow": null,
            "grid_area": null,
            "grid_auto_columns": null,
            "grid_auto_flow": null,
            "grid_auto_rows": null,
            "grid_column": null,
            "grid_gap": null,
            "grid_row": null,
            "grid_template_areas": null,
            "grid_template_columns": null,
            "grid_template_rows": null,
            "height": null,
            "justify_content": null,
            "justify_items": null,
            "left": null,
            "margin": null,
            "max_height": null,
            "max_width": null,
            "min_height": null,
            "min_width": null,
            "object_fit": null,
            "object_position": null,
            "order": null,
            "overflow": null,
            "overflow_x": null,
            "overflow_y": null,
            "padding": null,
            "right": null,
            "top": null,
            "visibility": null,
            "width": null
          }
        },
        "c2a18b87b1504476b2362db64de27614": {
          "model_module": "@jupyter-widgets/controls",
          "model_name": "DescriptionStyleModel",
          "model_module_version": "1.5.0",
          "state": {
            "_model_module": "@jupyter-widgets/controls",
            "_model_module_version": "1.5.0",
            "_model_name": "DescriptionStyleModel",
            "_view_count": null,
            "_view_module": "@jupyter-widgets/base",
            "_view_module_version": "1.2.0",
            "_view_name": "StyleView",
            "description_width": ""
          }
        },
        "84cee8717bed4dfebab3d82ecb850d10": {
          "model_module": "@jupyter-widgets/base",
          "model_name": "LayoutModel",
          "model_module_version": "1.2.0",
          "state": {
            "_model_module": "@jupyter-widgets/base",
            "_model_module_version": "1.2.0",
            "_model_name": "LayoutModel",
            "_view_count": null,
            "_view_module": "@jupyter-widgets/base",
            "_view_module_version": "1.2.0",
            "_view_name": "LayoutView",
            "align_content": null,
            "align_items": null,
            "align_self": null,
            "border": null,
            "bottom": null,
            "display": null,
            "flex": null,
            "flex_flow": null,
            "grid_area": null,
            "grid_auto_columns": null,
            "grid_auto_flow": null,
            "grid_auto_rows": null,
            "grid_column": null,
            "grid_gap": null,
            "grid_row": null,
            "grid_template_areas": null,
            "grid_template_columns": null,
            "grid_template_rows": null,
            "height": null,
            "justify_content": null,
            "justify_items": null,
            "left": null,
            "margin": null,
            "max_height": null,
            "max_width": null,
            "min_height": null,
            "min_width": null,
            "object_fit": null,
            "object_position": null,
            "order": null,
            "overflow": null,
            "overflow_x": null,
            "overflow_y": null,
            "padding": null,
            "right": null,
            "top": null,
            "visibility": null,
            "width": null
          }
        },
        "221b90835dfd4e96b25f2feac9cb5359": {
          "model_module": "@jupyter-widgets/controls",
          "model_name": "ProgressStyleModel",
          "model_module_version": "1.5.0",
          "state": {
            "_model_module": "@jupyter-widgets/controls",
            "_model_module_version": "1.5.0",
            "_model_name": "ProgressStyleModel",
            "_view_count": null,
            "_view_module": "@jupyter-widgets/base",
            "_view_module_version": "1.2.0",
            "_view_name": "StyleView",
            "bar_color": null,
            "description_width": ""
          }
        },
        "a48617d48cd24c95adf879a915a0543f": {
          "model_module": "@jupyter-widgets/base",
          "model_name": "LayoutModel",
          "model_module_version": "1.2.0",
          "state": {
            "_model_module": "@jupyter-widgets/base",
            "_model_module_version": "1.2.0",
            "_model_name": "LayoutModel",
            "_view_count": null,
            "_view_module": "@jupyter-widgets/base",
            "_view_module_version": "1.2.0",
            "_view_name": "LayoutView",
            "align_content": null,
            "align_items": null,
            "align_self": null,
            "border": null,
            "bottom": null,
            "display": null,
            "flex": null,
            "flex_flow": null,
            "grid_area": null,
            "grid_auto_columns": null,
            "grid_auto_flow": null,
            "grid_auto_rows": null,
            "grid_column": null,
            "grid_gap": null,
            "grid_row": null,
            "grid_template_areas": null,
            "grid_template_columns": null,
            "grid_template_rows": null,
            "height": null,
            "justify_content": null,
            "justify_items": null,
            "left": null,
            "margin": null,
            "max_height": null,
            "max_width": null,
            "min_height": null,
            "min_width": null,
            "object_fit": null,
            "object_position": null,
            "order": null,
            "overflow": null,
            "overflow_x": null,
            "overflow_y": null,
            "padding": null,
            "right": null,
            "top": null,
            "visibility": null,
            "width": null
          }
        },
        "4e7fde08009542f195ab20b5fa996706": {
          "model_module": "@jupyter-widgets/controls",
          "model_name": "DescriptionStyleModel",
          "model_module_version": "1.5.0",
          "state": {
            "_model_module": "@jupyter-widgets/controls",
            "_model_module_version": "1.5.0",
            "_model_name": "DescriptionStyleModel",
            "_view_count": null,
            "_view_module": "@jupyter-widgets/base",
            "_view_module_version": "1.2.0",
            "_view_name": "StyleView",
            "description_width": ""
          }
        },
        "35d429e43e3149cb98cd1acbc6a51ad9": {
          "model_module": "@jupyter-widgets/controls",
          "model_name": "HBoxModel",
          "model_module_version": "1.5.0",
          "state": {
            "_dom_classes": [],
            "_model_module": "@jupyter-widgets/controls",
            "_model_module_version": "1.5.0",
            "_model_name": "HBoxModel",
            "_view_count": null,
            "_view_module": "@jupyter-widgets/controls",
            "_view_module_version": "1.5.0",
            "_view_name": "HBoxView",
            "box_style": "",
            "children": [
              "IPY_MODEL_210fd1feb8a94f84b18104dd4c066736",
              "IPY_MODEL_a0a27e18d49c4224bf3812b5c3b46dea",
              "IPY_MODEL_dc0035f711a94b91851e1a028c925f5b"
            ],
            "layout": "IPY_MODEL_378de3db5a7d444e8743ba8ee4bea341"
          }
        },
        "210fd1feb8a94f84b18104dd4c066736": {
          "model_module": "@jupyter-widgets/controls",
          "model_name": "HTMLModel",
          "model_module_version": "1.5.0",
          "state": {
            "_dom_classes": [],
            "_model_module": "@jupyter-widgets/controls",
            "_model_module_version": "1.5.0",
            "_model_name": "HTMLModel",
            "_view_count": null,
            "_view_module": "@jupyter-widgets/controls",
            "_view_module_version": "1.5.0",
            "_view_name": "HTMLView",
            "description": "",
            "description_tooltip": null,
            "layout": "IPY_MODEL_a97068cf5d244a83a8bb81c993db527c",
            "placeholder": "​",
            "style": "IPY_MODEL_edc1e30a765243dea49ca3399acc806c",
            "value": "Map: 100%"
          }
        },
        "a0a27e18d49c4224bf3812b5c3b46dea": {
          "model_module": "@jupyter-widgets/controls",
          "model_name": "FloatProgressModel",
          "model_module_version": "1.5.0",
          "state": {
            "_dom_classes": [],
            "_model_module": "@jupyter-widgets/controls",
            "_model_module_version": "1.5.0",
            "_model_name": "FloatProgressModel",
            "_view_count": null,
            "_view_module": "@jupyter-widgets/controls",
            "_view_module_version": "1.5.0",
            "_view_name": "ProgressView",
            "bar_style": "success",
            "description": "",
            "description_tooltip": null,
            "layout": "IPY_MODEL_d9847d75e6294ba986fa188dad71410e",
            "max": 48,
            "min": 0,
            "orientation": "horizontal",
            "style": "IPY_MODEL_4266d3388f114283b30b194f201de8de",
            "value": 48
          }
        },
        "dc0035f711a94b91851e1a028c925f5b": {
          "model_module": "@jupyter-widgets/controls",
          "model_name": "HTMLModel",
          "model_module_version": "1.5.0",
          "state": {
            "_dom_classes": [],
            "_model_module": "@jupyter-widgets/controls",
            "_model_module_version": "1.5.0",
            "_model_name": "HTMLModel",
            "_view_count": null,
            "_view_module": "@jupyter-widgets/controls",
            "_view_module_version": "1.5.0",
            "_view_name": "HTMLView",
            "description": "",
            "description_tooltip": null,
            "layout": "IPY_MODEL_6e36350a610845efb667f7ed86b1cfd0",
            "placeholder": "​",
            "style": "IPY_MODEL_4aca6b16692f4989bf09039504507f4d",
            "value": " 48/48 [00:00&lt;00:00, 96.02 examples/s]"
          }
        },
        "378de3db5a7d444e8743ba8ee4bea341": {
          "model_module": "@jupyter-widgets/base",
          "model_name": "LayoutModel",
          "model_module_version": "1.2.0",
          "state": {
            "_model_module": "@jupyter-widgets/base",
            "_model_module_version": "1.2.0",
            "_model_name": "LayoutModel",
            "_view_count": null,
            "_view_module": "@jupyter-widgets/base",
            "_view_module_version": "1.2.0",
            "_view_name": "LayoutView",
            "align_content": null,
            "align_items": null,
            "align_self": null,
            "border": null,
            "bottom": null,
            "display": null,
            "flex": null,
            "flex_flow": null,
            "grid_area": null,
            "grid_auto_columns": null,
            "grid_auto_flow": null,
            "grid_auto_rows": null,
            "grid_column": null,
            "grid_gap": null,
            "grid_row": null,
            "grid_template_areas": null,
            "grid_template_columns": null,
            "grid_template_rows": null,
            "height": null,
            "justify_content": null,
            "justify_items": null,
            "left": null,
            "margin": null,
            "max_height": null,
            "max_width": null,
            "min_height": null,
            "min_width": null,
            "object_fit": null,
            "object_position": null,
            "order": null,
            "overflow": null,
            "overflow_x": null,
            "overflow_y": null,
            "padding": null,
            "right": null,
            "top": null,
            "visibility": null,
            "width": null
          }
        },
        "a97068cf5d244a83a8bb81c993db527c": {
          "model_module": "@jupyter-widgets/base",
          "model_name": "LayoutModel",
          "model_module_version": "1.2.0",
          "state": {
            "_model_module": "@jupyter-widgets/base",
            "_model_module_version": "1.2.0",
            "_model_name": "LayoutModel",
            "_view_count": null,
            "_view_module": "@jupyter-widgets/base",
            "_view_module_version": "1.2.0",
            "_view_name": "LayoutView",
            "align_content": null,
            "align_items": null,
            "align_self": null,
            "border": null,
            "bottom": null,
            "display": null,
            "flex": null,
            "flex_flow": null,
            "grid_area": null,
            "grid_auto_columns": null,
            "grid_auto_flow": null,
            "grid_auto_rows": null,
            "grid_column": null,
            "grid_gap": null,
            "grid_row": null,
            "grid_template_areas": null,
            "grid_template_columns": null,
            "grid_template_rows": null,
            "height": null,
            "justify_content": null,
            "justify_items": null,
            "left": null,
            "margin": null,
            "max_height": null,
            "max_width": null,
            "min_height": null,
            "min_width": null,
            "object_fit": null,
            "object_position": null,
            "order": null,
            "overflow": null,
            "overflow_x": null,
            "overflow_y": null,
            "padding": null,
            "right": null,
            "top": null,
            "visibility": null,
            "width": null
          }
        },
        "edc1e30a765243dea49ca3399acc806c": {
          "model_module": "@jupyter-widgets/controls",
          "model_name": "DescriptionStyleModel",
          "model_module_version": "1.5.0",
          "state": {
            "_model_module": "@jupyter-widgets/controls",
            "_model_module_version": "1.5.0",
            "_model_name": "DescriptionStyleModel",
            "_view_count": null,
            "_view_module": "@jupyter-widgets/base",
            "_view_module_version": "1.2.0",
            "_view_name": "StyleView",
            "description_width": ""
          }
        },
        "d9847d75e6294ba986fa188dad71410e": {
          "model_module": "@jupyter-widgets/base",
          "model_name": "LayoutModel",
          "model_module_version": "1.2.0",
          "state": {
            "_model_module": "@jupyter-widgets/base",
            "_model_module_version": "1.2.0",
            "_model_name": "LayoutModel",
            "_view_count": null,
            "_view_module": "@jupyter-widgets/base",
            "_view_module_version": "1.2.0",
            "_view_name": "LayoutView",
            "align_content": null,
            "align_items": null,
            "align_self": null,
            "border": null,
            "bottom": null,
            "display": null,
            "flex": null,
            "flex_flow": null,
            "grid_area": null,
            "grid_auto_columns": null,
            "grid_auto_flow": null,
            "grid_auto_rows": null,
            "grid_column": null,
            "grid_gap": null,
            "grid_row": null,
            "grid_template_areas": null,
            "grid_template_columns": null,
            "grid_template_rows": null,
            "height": null,
            "justify_content": null,
            "justify_items": null,
            "left": null,
            "margin": null,
            "max_height": null,
            "max_width": null,
            "min_height": null,
            "min_width": null,
            "object_fit": null,
            "object_position": null,
            "order": null,
            "overflow": null,
            "overflow_x": null,
            "overflow_y": null,
            "padding": null,
            "right": null,
            "top": null,
            "visibility": null,
            "width": null
          }
        },
        "4266d3388f114283b30b194f201de8de": {
          "model_module": "@jupyter-widgets/controls",
          "model_name": "ProgressStyleModel",
          "model_module_version": "1.5.0",
          "state": {
            "_model_module": "@jupyter-widgets/controls",
            "_model_module_version": "1.5.0",
            "_model_name": "ProgressStyleModel",
            "_view_count": null,
            "_view_module": "@jupyter-widgets/base",
            "_view_module_version": "1.2.0",
            "_view_name": "StyleView",
            "bar_color": null,
            "description_width": ""
          }
        },
        "6e36350a610845efb667f7ed86b1cfd0": {
          "model_module": "@jupyter-widgets/base",
          "model_name": "LayoutModel",
          "model_module_version": "1.2.0",
          "state": {
            "_model_module": "@jupyter-widgets/base",
            "_model_module_version": "1.2.0",
            "_model_name": "LayoutModel",
            "_view_count": null,
            "_view_module": "@jupyter-widgets/base",
            "_view_module_version": "1.2.0",
            "_view_name": "LayoutView",
            "align_content": null,
            "align_items": null,
            "align_self": null,
            "border": null,
            "bottom": null,
            "display": null,
            "flex": null,
            "flex_flow": null,
            "grid_area": null,
            "grid_auto_columns": null,
            "grid_auto_flow": null,
            "grid_auto_rows": null,
            "grid_column": null,
            "grid_gap": null,
            "grid_row": null,
            "grid_template_areas": null,
            "grid_template_columns": null,
            "grid_template_rows": null,
            "height": null,
            "justify_content": null,
            "justify_items": null,
            "left": null,
            "margin": null,
            "max_height": null,
            "max_width": null,
            "min_height": null,
            "min_width": null,
            "object_fit": null,
            "object_position": null,
            "order": null,
            "overflow": null,
            "overflow_x": null,
            "overflow_y": null,
            "padding": null,
            "right": null,
            "top": null,
            "visibility": null,
            "width": null
          }
        },
        "4aca6b16692f4989bf09039504507f4d": {
          "model_module": "@jupyter-widgets/controls",
          "model_name": "DescriptionStyleModel",
          "model_module_version": "1.5.0",
          "state": {
            "_model_module": "@jupyter-widgets/controls",
            "_model_module_version": "1.5.0",
            "_model_name": "DescriptionStyleModel",
            "_view_count": null,
            "_view_module": "@jupyter-widgets/base",
            "_view_module_version": "1.2.0",
            "_view_name": "StyleView",
            "description_width": ""
          }
        },
        "6eb02a4b7c624ad9911776754e75d668": {
          "model_module": "@jupyter-widgets/controls",
          "model_name": "HBoxModel",
          "model_module_version": "1.5.0",
          "state": {
            "_dom_classes": [],
            "_model_module": "@jupyter-widgets/controls",
            "_model_module_version": "1.5.0",
            "_model_name": "HBoxModel",
            "_view_count": null,
            "_view_module": "@jupyter-widgets/controls",
            "_view_module_version": "1.5.0",
            "_view_name": "HBoxView",
            "box_style": "",
            "children": [
              "IPY_MODEL_af28310e89cf43b09331eb8ca65aaf59",
              "IPY_MODEL_644397cdc2e44396a4dfcee32557d26c",
              "IPY_MODEL_c9cac9ead20a49b88e38df21d5111baf"
            ],
            "layout": "IPY_MODEL_173ee9e06ac0441b85a205fb06dcfa31"
          }
        },
        "af28310e89cf43b09331eb8ca65aaf59": {
          "model_module": "@jupyter-widgets/controls",
          "model_name": "HTMLModel",
          "model_module_version": "1.5.0",
          "state": {
            "_dom_classes": [],
            "_model_module": "@jupyter-widgets/controls",
            "_model_module_version": "1.5.0",
            "_model_name": "HTMLModel",
            "_view_count": null,
            "_view_module": "@jupyter-widgets/controls",
            "_view_module_version": "1.5.0",
            "_view_name": "HTMLView",
            "description": "",
            "description_tooltip": null,
            "layout": "IPY_MODEL_3f0bdecaf448437b9150a58bef1cf716",
            "placeholder": "​",
            "style": "IPY_MODEL_1d2cc05c2af74d03864318637d37f40a",
            "value": "Map: 100%"
          }
        },
        "644397cdc2e44396a4dfcee32557d26c": {
          "model_module": "@jupyter-widgets/controls",
          "model_name": "FloatProgressModel",
          "model_module_version": "1.5.0",
          "state": {
            "_dom_classes": [],
            "_model_module": "@jupyter-widgets/controls",
            "_model_module_version": "1.5.0",
            "_model_name": "FloatProgressModel",
            "_view_count": null,
            "_view_module": "@jupyter-widgets/controls",
            "_view_module_version": "1.5.0",
            "_view_name": "ProgressView",
            "bar_style": "success",
            "description": "",
            "description_tooltip": null,
            "layout": "IPY_MODEL_d647bf4f61b84c25a226c5fe99a9b742",
            "max": 192,
            "min": 0,
            "orientation": "horizontal",
            "style": "IPY_MODEL_865e7fa5279a4e04b660ce691d6aee07",
            "value": 192
          }
        },
        "c9cac9ead20a49b88e38df21d5111baf": {
          "model_module": "@jupyter-widgets/controls",
          "model_name": "HTMLModel",
          "model_module_version": "1.5.0",
          "state": {
            "_dom_classes": [],
            "_model_module": "@jupyter-widgets/controls",
            "_model_module_version": "1.5.0",
            "_model_name": "HTMLModel",
            "_view_count": null,
            "_view_module": "@jupyter-widgets/controls",
            "_view_module_version": "1.5.0",
            "_view_name": "HTMLView",
            "description": "",
            "description_tooltip": null,
            "layout": "IPY_MODEL_8efc5fae50fe4706bdff84aea21c7046",
            "placeholder": "​",
            "style": "IPY_MODEL_20eebf5dc9e546c6b3b309ea17caf047",
            "value": " 192/192 [00:01&lt;00:00, 139.25 examples/s]"
          }
        },
        "173ee9e06ac0441b85a205fb06dcfa31": {
          "model_module": "@jupyter-widgets/base",
          "model_name": "LayoutModel",
          "model_module_version": "1.2.0",
          "state": {
            "_model_module": "@jupyter-widgets/base",
            "_model_module_version": "1.2.0",
            "_model_name": "LayoutModel",
            "_view_count": null,
            "_view_module": "@jupyter-widgets/base",
            "_view_module_version": "1.2.0",
            "_view_name": "LayoutView",
            "align_content": null,
            "align_items": null,
            "align_self": null,
            "border": null,
            "bottom": null,
            "display": null,
            "flex": null,
            "flex_flow": null,
            "grid_area": null,
            "grid_auto_columns": null,
            "grid_auto_flow": null,
            "grid_auto_rows": null,
            "grid_column": null,
            "grid_gap": null,
            "grid_row": null,
            "grid_template_areas": null,
            "grid_template_columns": null,
            "grid_template_rows": null,
            "height": null,
            "justify_content": null,
            "justify_items": null,
            "left": null,
            "margin": null,
            "max_height": null,
            "max_width": null,
            "min_height": null,
            "min_width": null,
            "object_fit": null,
            "object_position": null,
            "order": null,
            "overflow": null,
            "overflow_x": null,
            "overflow_y": null,
            "padding": null,
            "right": null,
            "top": null,
            "visibility": null,
            "width": null
          }
        },
        "3f0bdecaf448437b9150a58bef1cf716": {
          "model_module": "@jupyter-widgets/base",
          "model_name": "LayoutModel",
          "model_module_version": "1.2.0",
          "state": {
            "_model_module": "@jupyter-widgets/base",
            "_model_module_version": "1.2.0",
            "_model_name": "LayoutModel",
            "_view_count": null,
            "_view_module": "@jupyter-widgets/base",
            "_view_module_version": "1.2.0",
            "_view_name": "LayoutView",
            "align_content": null,
            "align_items": null,
            "align_self": null,
            "border": null,
            "bottom": null,
            "display": null,
            "flex": null,
            "flex_flow": null,
            "grid_area": null,
            "grid_auto_columns": null,
            "grid_auto_flow": null,
            "grid_auto_rows": null,
            "grid_column": null,
            "grid_gap": null,
            "grid_row": null,
            "grid_template_areas": null,
            "grid_template_columns": null,
            "grid_template_rows": null,
            "height": null,
            "justify_content": null,
            "justify_items": null,
            "left": null,
            "margin": null,
            "max_height": null,
            "max_width": null,
            "min_height": null,
            "min_width": null,
            "object_fit": null,
            "object_position": null,
            "order": null,
            "overflow": null,
            "overflow_x": null,
            "overflow_y": null,
            "padding": null,
            "right": null,
            "top": null,
            "visibility": null,
            "width": null
          }
        },
        "1d2cc05c2af74d03864318637d37f40a": {
          "model_module": "@jupyter-widgets/controls",
          "model_name": "DescriptionStyleModel",
          "model_module_version": "1.5.0",
          "state": {
            "_model_module": "@jupyter-widgets/controls",
            "_model_module_version": "1.5.0",
            "_model_name": "DescriptionStyleModel",
            "_view_count": null,
            "_view_module": "@jupyter-widgets/base",
            "_view_module_version": "1.2.0",
            "_view_name": "StyleView",
            "description_width": ""
          }
        },
        "d647bf4f61b84c25a226c5fe99a9b742": {
          "model_module": "@jupyter-widgets/base",
          "model_name": "LayoutModel",
          "model_module_version": "1.2.0",
          "state": {
            "_model_module": "@jupyter-widgets/base",
            "_model_module_version": "1.2.0",
            "_model_name": "LayoutModel",
            "_view_count": null,
            "_view_module": "@jupyter-widgets/base",
            "_view_module_version": "1.2.0",
            "_view_name": "LayoutView",
            "align_content": null,
            "align_items": null,
            "align_self": null,
            "border": null,
            "bottom": null,
            "display": null,
            "flex": null,
            "flex_flow": null,
            "grid_area": null,
            "grid_auto_columns": null,
            "grid_auto_flow": null,
            "grid_auto_rows": null,
            "grid_column": null,
            "grid_gap": null,
            "grid_row": null,
            "grid_template_areas": null,
            "grid_template_columns": null,
            "grid_template_rows": null,
            "height": null,
            "justify_content": null,
            "justify_items": null,
            "left": null,
            "margin": null,
            "max_height": null,
            "max_width": null,
            "min_height": null,
            "min_width": null,
            "object_fit": null,
            "object_position": null,
            "order": null,
            "overflow": null,
            "overflow_x": null,
            "overflow_y": null,
            "padding": null,
            "right": null,
            "top": null,
            "visibility": null,
            "width": null
          }
        },
        "865e7fa5279a4e04b660ce691d6aee07": {
          "model_module": "@jupyter-widgets/controls",
          "model_name": "ProgressStyleModel",
          "model_module_version": "1.5.0",
          "state": {
            "_model_module": "@jupyter-widgets/controls",
            "_model_module_version": "1.5.0",
            "_model_name": "ProgressStyleModel",
            "_view_count": null,
            "_view_module": "@jupyter-widgets/base",
            "_view_module_version": "1.2.0",
            "_view_name": "StyleView",
            "bar_color": null,
            "description_width": ""
          }
        },
        "8efc5fae50fe4706bdff84aea21c7046": {
          "model_module": "@jupyter-widgets/base",
          "model_name": "LayoutModel",
          "model_module_version": "1.2.0",
          "state": {
            "_model_module": "@jupyter-widgets/base",
            "_model_module_version": "1.2.0",
            "_model_name": "LayoutModel",
            "_view_count": null,
            "_view_module": "@jupyter-widgets/base",
            "_view_module_version": "1.2.0",
            "_view_name": "LayoutView",
            "align_content": null,
            "align_items": null,
            "align_self": null,
            "border": null,
            "bottom": null,
            "display": null,
            "flex": null,
            "flex_flow": null,
            "grid_area": null,
            "grid_auto_columns": null,
            "grid_auto_flow": null,
            "grid_auto_rows": null,
            "grid_column": null,
            "grid_gap": null,
            "grid_row": null,
            "grid_template_areas": null,
            "grid_template_columns": null,
            "grid_template_rows": null,
            "height": null,
            "justify_content": null,
            "justify_items": null,
            "left": null,
            "margin": null,
            "max_height": null,
            "max_width": null,
            "min_height": null,
            "min_width": null,
            "object_fit": null,
            "object_position": null,
            "order": null,
            "overflow": null,
            "overflow_x": null,
            "overflow_y": null,
            "padding": null,
            "right": null,
            "top": null,
            "visibility": null,
            "width": null
          }
        },
        "20eebf5dc9e546c6b3b309ea17caf047": {
          "model_module": "@jupyter-widgets/controls",
          "model_name": "DescriptionStyleModel",
          "model_module_version": "1.5.0",
          "state": {
            "_model_module": "@jupyter-widgets/controls",
            "_model_module_version": "1.5.0",
            "_model_name": "DescriptionStyleModel",
            "_view_count": null,
            "_view_module": "@jupyter-widgets/base",
            "_view_module_version": "1.2.0",
            "_view_name": "StyleView",
            "description_width": ""
          }
        },
        "a30b9389e8a64ec8af1b2ca2a772693c": {
          "model_module": "@jupyter-widgets/controls",
          "model_name": "HBoxModel",
          "model_module_version": "1.5.0",
          "state": {
            "_dom_classes": [],
            "_model_module": "@jupyter-widgets/controls",
            "_model_module_version": "1.5.0",
            "_model_name": "HBoxModel",
            "_view_count": null,
            "_view_module": "@jupyter-widgets/controls",
            "_view_module_version": "1.5.0",
            "_view_name": "HBoxView",
            "box_style": "",
            "children": [
              "IPY_MODEL_b8da2a6d68e2450785b1f8801141ace6",
              "IPY_MODEL_93ae3d83bc5e4dd8872e400faa971dbd",
              "IPY_MODEL_041121b21a6e422b8cd63f4728636297"
            ],
            "layout": "IPY_MODEL_cf267bef6ccc43a1b51d5903b96b4df8"
          }
        },
        "b8da2a6d68e2450785b1f8801141ace6": {
          "model_module": "@jupyter-widgets/controls",
          "model_name": "HTMLModel",
          "model_module_version": "1.5.0",
          "state": {
            "_dom_classes": [],
            "_model_module": "@jupyter-widgets/controls",
            "_model_module_version": "1.5.0",
            "_model_name": "HTMLModel",
            "_view_count": null,
            "_view_module": "@jupyter-widgets/controls",
            "_view_module_version": "1.5.0",
            "_view_name": "HTMLView",
            "description": "",
            "description_tooltip": null,
            "layout": "IPY_MODEL_a0fe757924c74cbab95c322be67f8d82",
            "placeholder": "​",
            "style": "IPY_MODEL_09d6868b0e384e62a2a69f8264b75816",
            "value": "Map: 100%"
          }
        },
        "93ae3d83bc5e4dd8872e400faa971dbd": {
          "model_module": "@jupyter-widgets/controls",
          "model_name": "FloatProgressModel",
          "model_module_version": "1.5.0",
          "state": {
            "_dom_classes": [],
            "_model_module": "@jupyter-widgets/controls",
            "_model_module_version": "1.5.0",
            "_model_name": "FloatProgressModel",
            "_view_count": null,
            "_view_module": "@jupyter-widgets/controls",
            "_view_module_version": "1.5.0",
            "_view_name": "ProgressView",
            "bar_style": "success",
            "description": "",
            "description_tooltip": null,
            "layout": "IPY_MODEL_5e71521995494924b6ada2b6db88a14d",
            "max": 48,
            "min": 0,
            "orientation": "horizontal",
            "style": "IPY_MODEL_6f8dbf0fa6ae46a98147f954f40859e0",
            "value": 48
          }
        },
        "041121b21a6e422b8cd63f4728636297": {
          "model_module": "@jupyter-widgets/controls",
          "model_name": "HTMLModel",
          "model_module_version": "1.5.0",
          "state": {
            "_dom_classes": [],
            "_model_module": "@jupyter-widgets/controls",
            "_model_module_version": "1.5.0",
            "_model_name": "HTMLModel",
            "_view_count": null,
            "_view_module": "@jupyter-widgets/controls",
            "_view_module_version": "1.5.0",
            "_view_name": "HTMLView",
            "description": "",
            "description_tooltip": null,
            "layout": "IPY_MODEL_abb8995882b345f8a6a534002f628e01",
            "placeholder": "​",
            "style": "IPY_MODEL_e73453db01194c6ab6a4c0010f4f915e",
            "value": " 48/48 [00:00&lt;00:00, 177.04 examples/s]"
          }
        },
        "cf267bef6ccc43a1b51d5903b96b4df8": {
          "model_module": "@jupyter-widgets/base",
          "model_name": "LayoutModel",
          "model_module_version": "1.2.0",
          "state": {
            "_model_module": "@jupyter-widgets/base",
            "_model_module_version": "1.2.0",
            "_model_name": "LayoutModel",
            "_view_count": null,
            "_view_module": "@jupyter-widgets/base",
            "_view_module_version": "1.2.0",
            "_view_name": "LayoutView",
            "align_content": null,
            "align_items": null,
            "align_self": null,
            "border": null,
            "bottom": null,
            "display": null,
            "flex": null,
            "flex_flow": null,
            "grid_area": null,
            "grid_auto_columns": null,
            "grid_auto_flow": null,
            "grid_auto_rows": null,
            "grid_column": null,
            "grid_gap": null,
            "grid_row": null,
            "grid_template_areas": null,
            "grid_template_columns": null,
            "grid_template_rows": null,
            "height": null,
            "justify_content": null,
            "justify_items": null,
            "left": null,
            "margin": null,
            "max_height": null,
            "max_width": null,
            "min_height": null,
            "min_width": null,
            "object_fit": null,
            "object_position": null,
            "order": null,
            "overflow": null,
            "overflow_x": null,
            "overflow_y": null,
            "padding": null,
            "right": null,
            "top": null,
            "visibility": null,
            "width": null
          }
        },
        "a0fe757924c74cbab95c322be67f8d82": {
          "model_module": "@jupyter-widgets/base",
          "model_name": "LayoutModel",
          "model_module_version": "1.2.0",
          "state": {
            "_model_module": "@jupyter-widgets/base",
            "_model_module_version": "1.2.0",
            "_model_name": "LayoutModel",
            "_view_count": null,
            "_view_module": "@jupyter-widgets/base",
            "_view_module_version": "1.2.0",
            "_view_name": "LayoutView",
            "align_content": null,
            "align_items": null,
            "align_self": null,
            "border": null,
            "bottom": null,
            "display": null,
            "flex": null,
            "flex_flow": null,
            "grid_area": null,
            "grid_auto_columns": null,
            "grid_auto_flow": null,
            "grid_auto_rows": null,
            "grid_column": null,
            "grid_gap": null,
            "grid_row": null,
            "grid_template_areas": null,
            "grid_template_columns": null,
            "grid_template_rows": null,
            "height": null,
            "justify_content": null,
            "justify_items": null,
            "left": null,
            "margin": null,
            "max_height": null,
            "max_width": null,
            "min_height": null,
            "min_width": null,
            "object_fit": null,
            "object_position": null,
            "order": null,
            "overflow": null,
            "overflow_x": null,
            "overflow_y": null,
            "padding": null,
            "right": null,
            "top": null,
            "visibility": null,
            "width": null
          }
        },
        "09d6868b0e384e62a2a69f8264b75816": {
          "model_module": "@jupyter-widgets/controls",
          "model_name": "DescriptionStyleModel",
          "model_module_version": "1.5.0",
          "state": {
            "_model_module": "@jupyter-widgets/controls",
            "_model_module_version": "1.5.0",
            "_model_name": "DescriptionStyleModel",
            "_view_count": null,
            "_view_module": "@jupyter-widgets/base",
            "_view_module_version": "1.2.0",
            "_view_name": "StyleView",
            "description_width": ""
          }
        },
        "5e71521995494924b6ada2b6db88a14d": {
          "model_module": "@jupyter-widgets/base",
          "model_name": "LayoutModel",
          "model_module_version": "1.2.0",
          "state": {
            "_model_module": "@jupyter-widgets/base",
            "_model_module_version": "1.2.0",
            "_model_name": "LayoutModel",
            "_view_count": null,
            "_view_module": "@jupyter-widgets/base",
            "_view_module_version": "1.2.0",
            "_view_name": "LayoutView",
            "align_content": null,
            "align_items": null,
            "align_self": null,
            "border": null,
            "bottom": null,
            "display": null,
            "flex": null,
            "flex_flow": null,
            "grid_area": null,
            "grid_auto_columns": null,
            "grid_auto_flow": null,
            "grid_auto_rows": null,
            "grid_column": null,
            "grid_gap": null,
            "grid_row": null,
            "grid_template_areas": null,
            "grid_template_columns": null,
            "grid_template_rows": null,
            "height": null,
            "justify_content": null,
            "justify_items": null,
            "left": null,
            "margin": null,
            "max_height": null,
            "max_width": null,
            "min_height": null,
            "min_width": null,
            "object_fit": null,
            "object_position": null,
            "order": null,
            "overflow": null,
            "overflow_x": null,
            "overflow_y": null,
            "padding": null,
            "right": null,
            "top": null,
            "visibility": null,
            "width": null
          }
        },
        "6f8dbf0fa6ae46a98147f954f40859e0": {
          "model_module": "@jupyter-widgets/controls",
          "model_name": "ProgressStyleModel",
          "model_module_version": "1.5.0",
          "state": {
            "_model_module": "@jupyter-widgets/controls",
            "_model_module_version": "1.5.0",
            "_model_name": "ProgressStyleModel",
            "_view_count": null,
            "_view_module": "@jupyter-widgets/base",
            "_view_module_version": "1.2.0",
            "_view_name": "StyleView",
            "bar_color": null,
            "description_width": ""
          }
        },
        "abb8995882b345f8a6a534002f628e01": {
          "model_module": "@jupyter-widgets/base",
          "model_name": "LayoutModel",
          "model_module_version": "1.2.0",
          "state": {
            "_model_module": "@jupyter-widgets/base",
            "_model_module_version": "1.2.0",
            "_model_name": "LayoutModel",
            "_view_count": null,
            "_view_module": "@jupyter-widgets/base",
            "_view_module_version": "1.2.0",
            "_view_name": "LayoutView",
            "align_content": null,
            "align_items": null,
            "align_self": null,
            "border": null,
            "bottom": null,
            "display": null,
            "flex": null,
            "flex_flow": null,
            "grid_area": null,
            "grid_auto_columns": null,
            "grid_auto_flow": null,
            "grid_auto_rows": null,
            "grid_column": null,
            "grid_gap": null,
            "grid_row": null,
            "grid_template_areas": null,
            "grid_template_columns": null,
            "grid_template_rows": null,
            "height": null,
            "justify_content": null,
            "justify_items": null,
            "left": null,
            "margin": null,
            "max_height": null,
            "max_width": null,
            "min_height": null,
            "min_width": null,
            "object_fit": null,
            "object_position": null,
            "order": null,
            "overflow": null,
            "overflow_x": null,
            "overflow_y": null,
            "padding": null,
            "right": null,
            "top": null,
            "visibility": null,
            "width": null
          }
        },
        "e73453db01194c6ab6a4c0010f4f915e": {
          "model_module": "@jupyter-widgets/controls",
          "model_name": "DescriptionStyleModel",
          "model_module_version": "1.5.0",
          "state": {
            "_model_module": "@jupyter-widgets/controls",
            "_model_module_version": "1.5.0",
            "_model_name": "DescriptionStyleModel",
            "_view_count": null,
            "_view_module": "@jupyter-widgets/base",
            "_view_module_version": "1.2.0",
            "_view_name": "StyleView",
            "description_width": ""
          }
        },
        "4a0f86afe937476fb73f8568ea89b257": {
          "model_module": "@jupyter-widgets/controls",
          "model_name": "HBoxModel",
          "model_module_version": "1.5.0",
          "state": {
            "_dom_classes": [],
            "_model_module": "@jupyter-widgets/controls",
            "_model_module_version": "1.5.0",
            "_model_name": "HBoxModel",
            "_view_count": null,
            "_view_module": "@jupyter-widgets/controls",
            "_view_module_version": "1.5.0",
            "_view_name": "HBoxView",
            "box_style": "",
            "children": [
              "IPY_MODEL_041183393fd04bba808f9ea555f91b07",
              "IPY_MODEL_ffc485dae2e7437887dc75bf6d194d2d",
              "IPY_MODEL_382dd975da3f49d9be18a74a6ef6bbab"
            ],
            "layout": "IPY_MODEL_0c2135c4d7b9490f89f6ca5fa2ab0fbc"
          }
        },
        "041183393fd04bba808f9ea555f91b07": {
          "model_module": "@jupyter-widgets/controls",
          "model_name": "HTMLModel",
          "model_module_version": "1.5.0",
          "state": {
            "_dom_classes": [],
            "_model_module": "@jupyter-widgets/controls",
            "_model_module_version": "1.5.0",
            "_model_name": "HTMLModel",
            "_view_count": null,
            "_view_module": "@jupyter-widgets/controls",
            "_view_module_version": "1.5.0",
            "_view_name": "HTMLView",
            "description": "",
            "description_tooltip": null,
            "layout": "IPY_MODEL_1f106882306040c28e80f77f761220ab",
            "placeholder": "​",
            "style": "IPY_MODEL_d96d173790ca4d17884bf86896750e12",
            "value": "Map: 100%"
          }
        },
        "ffc485dae2e7437887dc75bf6d194d2d": {
          "model_module": "@jupyter-widgets/controls",
          "model_name": "FloatProgressModel",
          "model_module_version": "1.5.0",
          "state": {
            "_dom_classes": [],
            "_model_module": "@jupyter-widgets/controls",
            "_model_module_version": "1.5.0",
            "_model_name": "FloatProgressModel",
            "_view_count": null,
            "_view_module": "@jupyter-widgets/controls",
            "_view_module_version": "1.5.0",
            "_view_name": "ProgressView",
            "bar_style": "success",
            "description": "",
            "description_tooltip": null,
            "layout": "IPY_MODEL_d20040cafa304ad28fd77cbfe5b01ed3",
            "max": 384,
            "min": 0,
            "orientation": "horizontal",
            "style": "IPY_MODEL_004e937bfa8c487d93a8f25f94931675",
            "value": 384
          }
        },
        "382dd975da3f49d9be18a74a6ef6bbab": {
          "model_module": "@jupyter-widgets/controls",
          "model_name": "HTMLModel",
          "model_module_version": "1.5.0",
          "state": {
            "_dom_classes": [],
            "_model_module": "@jupyter-widgets/controls",
            "_model_module_version": "1.5.0",
            "_model_name": "HTMLModel",
            "_view_count": null,
            "_view_module": "@jupyter-widgets/controls",
            "_view_module_version": "1.5.0",
            "_view_name": "HTMLView",
            "description": "",
            "description_tooltip": null,
            "layout": "IPY_MODEL_fa0125f4aafa46b7866880e962fd4462",
            "placeholder": "​",
            "style": "IPY_MODEL_b39b33717ecd4c3ba454a0651828c70a",
            "value": " 384/384 [00:03&lt;00:00, 101.86 examples/s]"
          }
        },
        "0c2135c4d7b9490f89f6ca5fa2ab0fbc": {
          "model_module": "@jupyter-widgets/base",
          "model_name": "LayoutModel",
          "model_module_version": "1.2.0",
          "state": {
            "_model_module": "@jupyter-widgets/base",
            "_model_module_version": "1.2.0",
            "_model_name": "LayoutModel",
            "_view_count": null,
            "_view_module": "@jupyter-widgets/base",
            "_view_module_version": "1.2.0",
            "_view_name": "LayoutView",
            "align_content": null,
            "align_items": null,
            "align_self": null,
            "border": null,
            "bottom": null,
            "display": null,
            "flex": null,
            "flex_flow": null,
            "grid_area": null,
            "grid_auto_columns": null,
            "grid_auto_flow": null,
            "grid_auto_rows": null,
            "grid_column": null,
            "grid_gap": null,
            "grid_row": null,
            "grid_template_areas": null,
            "grid_template_columns": null,
            "grid_template_rows": null,
            "height": null,
            "justify_content": null,
            "justify_items": null,
            "left": null,
            "margin": null,
            "max_height": null,
            "max_width": null,
            "min_height": null,
            "min_width": null,
            "object_fit": null,
            "object_position": null,
            "order": null,
            "overflow": null,
            "overflow_x": null,
            "overflow_y": null,
            "padding": null,
            "right": null,
            "top": null,
            "visibility": null,
            "width": null
          }
        },
        "1f106882306040c28e80f77f761220ab": {
          "model_module": "@jupyter-widgets/base",
          "model_name": "LayoutModel",
          "model_module_version": "1.2.0",
          "state": {
            "_model_module": "@jupyter-widgets/base",
            "_model_module_version": "1.2.0",
            "_model_name": "LayoutModel",
            "_view_count": null,
            "_view_module": "@jupyter-widgets/base",
            "_view_module_version": "1.2.0",
            "_view_name": "LayoutView",
            "align_content": null,
            "align_items": null,
            "align_self": null,
            "border": null,
            "bottom": null,
            "display": null,
            "flex": null,
            "flex_flow": null,
            "grid_area": null,
            "grid_auto_columns": null,
            "grid_auto_flow": null,
            "grid_auto_rows": null,
            "grid_column": null,
            "grid_gap": null,
            "grid_row": null,
            "grid_template_areas": null,
            "grid_template_columns": null,
            "grid_template_rows": null,
            "height": null,
            "justify_content": null,
            "justify_items": null,
            "left": null,
            "margin": null,
            "max_height": null,
            "max_width": null,
            "min_height": null,
            "min_width": null,
            "object_fit": null,
            "object_position": null,
            "order": null,
            "overflow": null,
            "overflow_x": null,
            "overflow_y": null,
            "padding": null,
            "right": null,
            "top": null,
            "visibility": null,
            "width": null
          }
        },
        "d96d173790ca4d17884bf86896750e12": {
          "model_module": "@jupyter-widgets/controls",
          "model_name": "DescriptionStyleModel",
          "model_module_version": "1.5.0",
          "state": {
            "_model_module": "@jupyter-widgets/controls",
            "_model_module_version": "1.5.0",
            "_model_name": "DescriptionStyleModel",
            "_view_count": null,
            "_view_module": "@jupyter-widgets/base",
            "_view_module_version": "1.2.0",
            "_view_name": "StyleView",
            "description_width": ""
          }
        },
        "d20040cafa304ad28fd77cbfe5b01ed3": {
          "model_module": "@jupyter-widgets/base",
          "model_name": "LayoutModel",
          "model_module_version": "1.2.0",
          "state": {
            "_model_module": "@jupyter-widgets/base",
            "_model_module_version": "1.2.0",
            "_model_name": "LayoutModel",
            "_view_count": null,
            "_view_module": "@jupyter-widgets/base",
            "_view_module_version": "1.2.0",
            "_view_name": "LayoutView",
            "align_content": null,
            "align_items": null,
            "align_self": null,
            "border": null,
            "bottom": null,
            "display": null,
            "flex": null,
            "flex_flow": null,
            "grid_area": null,
            "grid_auto_columns": null,
            "grid_auto_flow": null,
            "grid_auto_rows": null,
            "grid_column": null,
            "grid_gap": null,
            "grid_row": null,
            "grid_template_areas": null,
            "grid_template_columns": null,
            "grid_template_rows": null,
            "height": null,
            "justify_content": null,
            "justify_items": null,
            "left": null,
            "margin": null,
            "max_height": null,
            "max_width": null,
            "min_height": null,
            "min_width": null,
            "object_fit": null,
            "object_position": null,
            "order": null,
            "overflow": null,
            "overflow_x": null,
            "overflow_y": null,
            "padding": null,
            "right": null,
            "top": null,
            "visibility": null,
            "width": null
          }
        },
        "004e937bfa8c487d93a8f25f94931675": {
          "model_module": "@jupyter-widgets/controls",
          "model_name": "ProgressStyleModel",
          "model_module_version": "1.5.0",
          "state": {
            "_model_module": "@jupyter-widgets/controls",
            "_model_module_version": "1.5.0",
            "_model_name": "ProgressStyleModel",
            "_view_count": null,
            "_view_module": "@jupyter-widgets/base",
            "_view_module_version": "1.2.0",
            "_view_name": "StyleView",
            "bar_color": null,
            "description_width": ""
          }
        },
        "fa0125f4aafa46b7866880e962fd4462": {
          "model_module": "@jupyter-widgets/base",
          "model_name": "LayoutModel",
          "model_module_version": "1.2.0",
          "state": {
            "_model_module": "@jupyter-widgets/base",
            "_model_module_version": "1.2.0",
            "_model_name": "LayoutModel",
            "_view_count": null,
            "_view_module": "@jupyter-widgets/base",
            "_view_module_version": "1.2.0",
            "_view_name": "LayoutView",
            "align_content": null,
            "align_items": null,
            "align_self": null,
            "border": null,
            "bottom": null,
            "display": null,
            "flex": null,
            "flex_flow": null,
            "grid_area": null,
            "grid_auto_columns": null,
            "grid_auto_flow": null,
            "grid_auto_rows": null,
            "grid_column": null,
            "grid_gap": null,
            "grid_row": null,
            "grid_template_areas": null,
            "grid_template_columns": null,
            "grid_template_rows": null,
            "height": null,
            "justify_content": null,
            "justify_items": null,
            "left": null,
            "margin": null,
            "max_height": null,
            "max_width": null,
            "min_height": null,
            "min_width": null,
            "object_fit": null,
            "object_position": null,
            "order": null,
            "overflow": null,
            "overflow_x": null,
            "overflow_y": null,
            "padding": null,
            "right": null,
            "top": null,
            "visibility": null,
            "width": null
          }
        },
        "b39b33717ecd4c3ba454a0651828c70a": {
          "model_module": "@jupyter-widgets/controls",
          "model_name": "DescriptionStyleModel",
          "model_module_version": "1.5.0",
          "state": {
            "_model_module": "@jupyter-widgets/controls",
            "_model_module_version": "1.5.0",
            "_model_name": "DescriptionStyleModel",
            "_view_count": null,
            "_view_module": "@jupyter-widgets/base",
            "_view_module_version": "1.2.0",
            "_view_name": "StyleView",
            "description_width": ""
          }
        },
        "3f3fcb60d32643258ed3f96f678397a5": {
          "model_module": "@jupyter-widgets/controls",
          "model_name": "HBoxModel",
          "model_module_version": "1.5.0",
          "state": {
            "_dom_classes": [],
            "_model_module": "@jupyter-widgets/controls",
            "_model_module_version": "1.5.0",
            "_model_name": "HBoxModel",
            "_view_count": null,
            "_view_module": "@jupyter-widgets/controls",
            "_view_module_version": "1.5.0",
            "_view_name": "HBoxView",
            "box_style": "",
            "children": [
              "IPY_MODEL_086b1a8daa81486991dcdb812d255c71",
              "IPY_MODEL_35f89dcef7d240b9b98398c304f8105c",
              "IPY_MODEL_c74645519a2a4443bf73060374f1803c"
            ],
            "layout": "IPY_MODEL_4cc649e4394c4818891417fd18e78733"
          }
        },
        "086b1a8daa81486991dcdb812d255c71": {
          "model_module": "@jupyter-widgets/controls",
          "model_name": "HTMLModel",
          "model_module_version": "1.5.0",
          "state": {
            "_dom_classes": [],
            "_model_module": "@jupyter-widgets/controls",
            "_model_module_version": "1.5.0",
            "_model_name": "HTMLModel",
            "_view_count": null,
            "_view_module": "@jupyter-widgets/controls",
            "_view_module_version": "1.5.0",
            "_view_name": "HTMLView",
            "description": "",
            "description_tooltip": null,
            "layout": "IPY_MODEL_9c5ec858dfb644949f09887c488da9ff",
            "placeholder": "​",
            "style": "IPY_MODEL_9fcdc03ddccc420186c9905364d2fc1d",
            "value": "Map: 100%"
          }
        },
        "35f89dcef7d240b9b98398c304f8105c": {
          "model_module": "@jupyter-widgets/controls",
          "model_name": "FloatProgressModel",
          "model_module_version": "1.5.0",
          "state": {
            "_dom_classes": [],
            "_model_module": "@jupyter-widgets/controls",
            "_model_module_version": "1.5.0",
            "_model_name": "FloatProgressModel",
            "_view_count": null,
            "_view_module": "@jupyter-widgets/controls",
            "_view_module_version": "1.5.0",
            "_view_name": "ProgressView",
            "bar_style": "success",
            "description": "",
            "description_tooltip": null,
            "layout": "IPY_MODEL_8b5e7417240e48b09651cc1231ec68d8",
            "max": 96,
            "min": 0,
            "orientation": "horizontal",
            "style": "IPY_MODEL_6de89beb58f9480882641ac410c53bc4",
            "value": 96
          }
        },
        "c74645519a2a4443bf73060374f1803c": {
          "model_module": "@jupyter-widgets/controls",
          "model_name": "HTMLModel",
          "model_module_version": "1.5.0",
          "state": {
            "_dom_classes": [],
            "_model_module": "@jupyter-widgets/controls",
            "_model_module_version": "1.5.0",
            "_model_name": "HTMLModel",
            "_view_count": null,
            "_view_module": "@jupyter-widgets/controls",
            "_view_module_version": "1.5.0",
            "_view_name": "HTMLView",
            "description": "",
            "description_tooltip": null,
            "layout": "IPY_MODEL_2d143bae291049739c781a5fbfc58865",
            "placeholder": "​",
            "style": "IPY_MODEL_de263360315b465c98117917b79825ea",
            "value": " 96/96 [00:00&lt;00:00, 161.64 examples/s]"
          }
        },
        "4cc649e4394c4818891417fd18e78733": {
          "model_module": "@jupyter-widgets/base",
          "model_name": "LayoutModel",
          "model_module_version": "1.2.0",
          "state": {
            "_model_module": "@jupyter-widgets/base",
            "_model_module_version": "1.2.0",
            "_model_name": "LayoutModel",
            "_view_count": null,
            "_view_module": "@jupyter-widgets/base",
            "_view_module_version": "1.2.0",
            "_view_name": "LayoutView",
            "align_content": null,
            "align_items": null,
            "align_self": null,
            "border": null,
            "bottom": null,
            "display": null,
            "flex": null,
            "flex_flow": null,
            "grid_area": null,
            "grid_auto_columns": null,
            "grid_auto_flow": null,
            "grid_auto_rows": null,
            "grid_column": null,
            "grid_gap": null,
            "grid_row": null,
            "grid_template_areas": null,
            "grid_template_columns": null,
            "grid_template_rows": null,
            "height": null,
            "justify_content": null,
            "justify_items": null,
            "left": null,
            "margin": null,
            "max_height": null,
            "max_width": null,
            "min_height": null,
            "min_width": null,
            "object_fit": null,
            "object_position": null,
            "order": null,
            "overflow": null,
            "overflow_x": null,
            "overflow_y": null,
            "padding": null,
            "right": null,
            "top": null,
            "visibility": null,
            "width": null
          }
        },
        "9c5ec858dfb644949f09887c488da9ff": {
          "model_module": "@jupyter-widgets/base",
          "model_name": "LayoutModel",
          "model_module_version": "1.2.0",
          "state": {
            "_model_module": "@jupyter-widgets/base",
            "_model_module_version": "1.2.0",
            "_model_name": "LayoutModel",
            "_view_count": null,
            "_view_module": "@jupyter-widgets/base",
            "_view_module_version": "1.2.0",
            "_view_name": "LayoutView",
            "align_content": null,
            "align_items": null,
            "align_self": null,
            "border": null,
            "bottom": null,
            "display": null,
            "flex": null,
            "flex_flow": null,
            "grid_area": null,
            "grid_auto_columns": null,
            "grid_auto_flow": null,
            "grid_auto_rows": null,
            "grid_column": null,
            "grid_gap": null,
            "grid_row": null,
            "grid_template_areas": null,
            "grid_template_columns": null,
            "grid_template_rows": null,
            "height": null,
            "justify_content": null,
            "justify_items": null,
            "left": null,
            "margin": null,
            "max_height": null,
            "max_width": null,
            "min_height": null,
            "min_width": null,
            "object_fit": null,
            "object_position": null,
            "order": null,
            "overflow": null,
            "overflow_x": null,
            "overflow_y": null,
            "padding": null,
            "right": null,
            "top": null,
            "visibility": null,
            "width": null
          }
        },
        "9fcdc03ddccc420186c9905364d2fc1d": {
          "model_module": "@jupyter-widgets/controls",
          "model_name": "DescriptionStyleModel",
          "model_module_version": "1.5.0",
          "state": {
            "_model_module": "@jupyter-widgets/controls",
            "_model_module_version": "1.5.0",
            "_model_name": "DescriptionStyleModel",
            "_view_count": null,
            "_view_module": "@jupyter-widgets/base",
            "_view_module_version": "1.2.0",
            "_view_name": "StyleView",
            "description_width": ""
          }
        },
        "8b5e7417240e48b09651cc1231ec68d8": {
          "model_module": "@jupyter-widgets/base",
          "model_name": "LayoutModel",
          "model_module_version": "1.2.0",
          "state": {
            "_model_module": "@jupyter-widgets/base",
            "_model_module_version": "1.2.0",
            "_model_name": "LayoutModel",
            "_view_count": null,
            "_view_module": "@jupyter-widgets/base",
            "_view_module_version": "1.2.0",
            "_view_name": "LayoutView",
            "align_content": null,
            "align_items": null,
            "align_self": null,
            "border": null,
            "bottom": null,
            "display": null,
            "flex": null,
            "flex_flow": null,
            "grid_area": null,
            "grid_auto_columns": null,
            "grid_auto_flow": null,
            "grid_auto_rows": null,
            "grid_column": null,
            "grid_gap": null,
            "grid_row": null,
            "grid_template_areas": null,
            "grid_template_columns": null,
            "grid_template_rows": null,
            "height": null,
            "justify_content": null,
            "justify_items": null,
            "left": null,
            "margin": null,
            "max_height": null,
            "max_width": null,
            "min_height": null,
            "min_width": null,
            "object_fit": null,
            "object_position": null,
            "order": null,
            "overflow": null,
            "overflow_x": null,
            "overflow_y": null,
            "padding": null,
            "right": null,
            "top": null,
            "visibility": null,
            "width": null
          }
        },
        "6de89beb58f9480882641ac410c53bc4": {
          "model_module": "@jupyter-widgets/controls",
          "model_name": "ProgressStyleModel",
          "model_module_version": "1.5.0",
          "state": {
            "_model_module": "@jupyter-widgets/controls",
            "_model_module_version": "1.5.0",
            "_model_name": "ProgressStyleModel",
            "_view_count": null,
            "_view_module": "@jupyter-widgets/base",
            "_view_module_version": "1.2.0",
            "_view_name": "StyleView",
            "bar_color": null,
            "description_width": ""
          }
        },
        "2d143bae291049739c781a5fbfc58865": {
          "model_module": "@jupyter-widgets/base",
          "model_name": "LayoutModel",
          "model_module_version": "1.2.0",
          "state": {
            "_model_module": "@jupyter-widgets/base",
            "_model_module_version": "1.2.0",
            "_model_name": "LayoutModel",
            "_view_count": null,
            "_view_module": "@jupyter-widgets/base",
            "_view_module_version": "1.2.0",
            "_view_name": "LayoutView",
            "align_content": null,
            "align_items": null,
            "align_self": null,
            "border": null,
            "bottom": null,
            "display": null,
            "flex": null,
            "flex_flow": null,
            "grid_area": null,
            "grid_auto_columns": null,
            "grid_auto_flow": null,
            "grid_auto_rows": null,
            "grid_column": null,
            "grid_gap": null,
            "grid_row": null,
            "grid_template_areas": null,
            "grid_template_columns": null,
            "grid_template_rows": null,
            "height": null,
            "justify_content": null,
            "justify_items": null,
            "left": null,
            "margin": null,
            "max_height": null,
            "max_width": null,
            "min_height": null,
            "min_width": null,
            "object_fit": null,
            "object_position": null,
            "order": null,
            "overflow": null,
            "overflow_x": null,
            "overflow_y": null,
            "padding": null,
            "right": null,
            "top": null,
            "visibility": null,
            "width": null
          }
        },
        "de263360315b465c98117917b79825ea": {
          "model_module": "@jupyter-widgets/controls",
          "model_name": "DescriptionStyleModel",
          "model_module_version": "1.5.0",
          "state": {
            "_model_module": "@jupyter-widgets/controls",
            "_model_module_version": "1.5.0",
            "_model_name": "DescriptionStyleModel",
            "_view_count": null,
            "_view_module": "@jupyter-widgets/base",
            "_view_module_version": "1.2.0",
            "_view_name": "StyleView",
            "description_width": ""
          }
        },
        "09c0babb8e9d4d9391ca7138d909cf19": {
          "model_module": "@jupyter-widgets/controls",
          "model_name": "HBoxModel",
          "model_module_version": "1.5.0",
          "state": {
            "_dom_classes": [],
            "_model_module": "@jupyter-widgets/controls",
            "_model_module_version": "1.5.0",
            "_model_name": "HBoxModel",
            "_view_count": null,
            "_view_module": "@jupyter-widgets/controls",
            "_view_module_version": "1.5.0",
            "_view_name": "HBoxView",
            "box_style": "",
            "children": [
              "IPY_MODEL_6752c95ae0624989b1e45c5422ea78be",
              "IPY_MODEL_63f7018739d34ba4a463f35c40223fcf",
              "IPY_MODEL_55cc3d037bab48debf07b9cebc9cb087"
            ],
            "layout": "IPY_MODEL_239592c807dc44fdb655cf0948317544"
          }
        },
        "6752c95ae0624989b1e45c5422ea78be": {
          "model_module": "@jupyter-widgets/controls",
          "model_name": "HTMLModel",
          "model_module_version": "1.5.0",
          "state": {
            "_dom_classes": [],
            "_model_module": "@jupyter-widgets/controls",
            "_model_module_version": "1.5.0",
            "_model_name": "HTMLModel",
            "_view_count": null,
            "_view_module": "@jupyter-widgets/controls",
            "_view_module_version": "1.5.0",
            "_view_name": "HTMLView",
            "description": "",
            "description_tooltip": null,
            "layout": "IPY_MODEL_e7ba71b96f0343b1824156556759e1d2",
            "placeholder": "​",
            "style": "IPY_MODEL_49c478693923460bb40c9627ec56bc5a",
            "value": "Map: 100%"
          }
        },
        "63f7018739d34ba4a463f35c40223fcf": {
          "model_module": "@jupyter-widgets/controls",
          "model_name": "FloatProgressModel",
          "model_module_version": "1.5.0",
          "state": {
            "_dom_classes": [],
            "_model_module": "@jupyter-widgets/controls",
            "_model_module_version": "1.5.0",
            "_model_name": "FloatProgressModel",
            "_view_count": null,
            "_view_module": "@jupyter-widgets/controls",
            "_view_module_version": "1.5.0",
            "_view_name": "ProgressView",
            "bar_style": "success",
            "description": "",
            "description_tooltip": null,
            "layout": "IPY_MODEL_dd1ed1f477064b9ab995dea77556ac8c",
            "max": 240,
            "min": 0,
            "orientation": "horizontal",
            "style": "IPY_MODEL_f0b4276a5ea5402f8d4e5158c3e36c4b",
            "value": 240
          }
        },
        "55cc3d037bab48debf07b9cebc9cb087": {
          "model_module": "@jupyter-widgets/controls",
          "model_name": "HTMLModel",
          "model_module_version": "1.5.0",
          "state": {
            "_dom_classes": [],
            "_model_module": "@jupyter-widgets/controls",
            "_model_module_version": "1.5.0",
            "_model_name": "HTMLModel",
            "_view_count": null,
            "_view_module": "@jupyter-widgets/controls",
            "_view_module_version": "1.5.0",
            "_view_name": "HTMLView",
            "description": "",
            "description_tooltip": null,
            "layout": "IPY_MODEL_49509adaa6794d86965fd2d8906b5156",
            "placeholder": "​",
            "style": "IPY_MODEL_7aceabd832884a90a7ff10353494f50e",
            "value": " 240/240 [00:10&lt;00:00, 23.56 examples/s]"
          }
        },
        "239592c807dc44fdb655cf0948317544": {
          "model_module": "@jupyter-widgets/base",
          "model_name": "LayoutModel",
          "model_module_version": "1.2.0",
          "state": {
            "_model_module": "@jupyter-widgets/base",
            "_model_module_version": "1.2.0",
            "_model_name": "LayoutModel",
            "_view_count": null,
            "_view_module": "@jupyter-widgets/base",
            "_view_module_version": "1.2.0",
            "_view_name": "LayoutView",
            "align_content": null,
            "align_items": null,
            "align_self": null,
            "border": null,
            "bottom": null,
            "display": null,
            "flex": null,
            "flex_flow": null,
            "grid_area": null,
            "grid_auto_columns": null,
            "grid_auto_flow": null,
            "grid_auto_rows": null,
            "grid_column": null,
            "grid_gap": null,
            "grid_row": null,
            "grid_template_areas": null,
            "grid_template_columns": null,
            "grid_template_rows": null,
            "height": null,
            "justify_content": null,
            "justify_items": null,
            "left": null,
            "margin": null,
            "max_height": null,
            "max_width": null,
            "min_height": null,
            "min_width": null,
            "object_fit": null,
            "object_position": null,
            "order": null,
            "overflow": null,
            "overflow_x": null,
            "overflow_y": null,
            "padding": null,
            "right": null,
            "top": null,
            "visibility": null,
            "width": null
          }
        },
        "e7ba71b96f0343b1824156556759e1d2": {
          "model_module": "@jupyter-widgets/base",
          "model_name": "LayoutModel",
          "model_module_version": "1.2.0",
          "state": {
            "_model_module": "@jupyter-widgets/base",
            "_model_module_version": "1.2.0",
            "_model_name": "LayoutModel",
            "_view_count": null,
            "_view_module": "@jupyter-widgets/base",
            "_view_module_version": "1.2.0",
            "_view_name": "LayoutView",
            "align_content": null,
            "align_items": null,
            "align_self": null,
            "border": null,
            "bottom": null,
            "display": null,
            "flex": null,
            "flex_flow": null,
            "grid_area": null,
            "grid_auto_columns": null,
            "grid_auto_flow": null,
            "grid_auto_rows": null,
            "grid_column": null,
            "grid_gap": null,
            "grid_row": null,
            "grid_template_areas": null,
            "grid_template_columns": null,
            "grid_template_rows": null,
            "height": null,
            "justify_content": null,
            "justify_items": null,
            "left": null,
            "margin": null,
            "max_height": null,
            "max_width": null,
            "min_height": null,
            "min_width": null,
            "object_fit": null,
            "object_position": null,
            "order": null,
            "overflow": null,
            "overflow_x": null,
            "overflow_y": null,
            "padding": null,
            "right": null,
            "top": null,
            "visibility": null,
            "width": null
          }
        },
        "49c478693923460bb40c9627ec56bc5a": {
          "model_module": "@jupyter-widgets/controls",
          "model_name": "DescriptionStyleModel",
          "model_module_version": "1.5.0",
          "state": {
            "_model_module": "@jupyter-widgets/controls",
            "_model_module_version": "1.5.0",
            "_model_name": "DescriptionStyleModel",
            "_view_count": null,
            "_view_module": "@jupyter-widgets/base",
            "_view_module_version": "1.2.0",
            "_view_name": "StyleView",
            "description_width": ""
          }
        },
        "dd1ed1f477064b9ab995dea77556ac8c": {
          "model_module": "@jupyter-widgets/base",
          "model_name": "LayoutModel",
          "model_module_version": "1.2.0",
          "state": {
            "_model_module": "@jupyter-widgets/base",
            "_model_module_version": "1.2.0",
            "_model_name": "LayoutModel",
            "_view_count": null,
            "_view_module": "@jupyter-widgets/base",
            "_view_module_version": "1.2.0",
            "_view_name": "LayoutView",
            "align_content": null,
            "align_items": null,
            "align_self": null,
            "border": null,
            "bottom": null,
            "display": null,
            "flex": null,
            "flex_flow": null,
            "grid_area": null,
            "grid_auto_columns": null,
            "grid_auto_flow": null,
            "grid_auto_rows": null,
            "grid_column": null,
            "grid_gap": null,
            "grid_row": null,
            "grid_template_areas": null,
            "grid_template_columns": null,
            "grid_template_rows": null,
            "height": null,
            "justify_content": null,
            "justify_items": null,
            "left": null,
            "margin": null,
            "max_height": null,
            "max_width": null,
            "min_height": null,
            "min_width": null,
            "object_fit": null,
            "object_position": null,
            "order": null,
            "overflow": null,
            "overflow_x": null,
            "overflow_y": null,
            "padding": null,
            "right": null,
            "top": null,
            "visibility": null,
            "width": null
          }
        },
        "f0b4276a5ea5402f8d4e5158c3e36c4b": {
          "model_module": "@jupyter-widgets/controls",
          "model_name": "ProgressStyleModel",
          "model_module_version": "1.5.0",
          "state": {
            "_model_module": "@jupyter-widgets/controls",
            "_model_module_version": "1.5.0",
            "_model_name": "ProgressStyleModel",
            "_view_count": null,
            "_view_module": "@jupyter-widgets/base",
            "_view_module_version": "1.2.0",
            "_view_name": "StyleView",
            "bar_color": null,
            "description_width": ""
          }
        },
        "49509adaa6794d86965fd2d8906b5156": {
          "model_module": "@jupyter-widgets/base",
          "model_name": "LayoutModel",
          "model_module_version": "1.2.0",
          "state": {
            "_model_module": "@jupyter-widgets/base",
            "_model_module_version": "1.2.0",
            "_model_name": "LayoutModel",
            "_view_count": null,
            "_view_module": "@jupyter-widgets/base",
            "_view_module_version": "1.2.0",
            "_view_name": "LayoutView",
            "align_content": null,
            "align_items": null,
            "align_self": null,
            "border": null,
            "bottom": null,
            "display": null,
            "flex": null,
            "flex_flow": null,
            "grid_area": null,
            "grid_auto_columns": null,
            "grid_auto_flow": null,
            "grid_auto_rows": null,
            "grid_column": null,
            "grid_gap": null,
            "grid_row": null,
            "grid_template_areas": null,
            "grid_template_columns": null,
            "grid_template_rows": null,
            "height": null,
            "justify_content": null,
            "justify_items": null,
            "left": null,
            "margin": null,
            "max_height": null,
            "max_width": null,
            "min_height": null,
            "min_width": null,
            "object_fit": null,
            "object_position": null,
            "order": null,
            "overflow": null,
            "overflow_x": null,
            "overflow_y": null,
            "padding": null,
            "right": null,
            "top": null,
            "visibility": null,
            "width": null
          }
        },
        "7aceabd832884a90a7ff10353494f50e": {
          "model_module": "@jupyter-widgets/controls",
          "model_name": "DescriptionStyleModel",
          "model_module_version": "1.5.0",
          "state": {
            "_model_module": "@jupyter-widgets/controls",
            "_model_module_version": "1.5.0",
            "_model_name": "DescriptionStyleModel",
            "_view_count": null,
            "_view_module": "@jupyter-widgets/base",
            "_view_module_version": "1.2.0",
            "_view_name": "StyleView",
            "description_width": ""
          }
        },
        "5483657d0c3944bbacd12198d5a6f712": {
          "model_module": "@jupyter-widgets/controls",
          "model_name": "HBoxModel",
          "model_module_version": "1.5.0",
          "state": {
            "_dom_classes": [],
            "_model_module": "@jupyter-widgets/controls",
            "_model_module_version": "1.5.0",
            "_model_name": "HBoxModel",
            "_view_count": null,
            "_view_module": "@jupyter-widgets/controls",
            "_view_module_version": "1.5.0",
            "_view_name": "HBoxView",
            "box_style": "",
            "children": [
              "IPY_MODEL_07e9ea131e094b54928be25702b3b16e",
              "IPY_MODEL_289b99b8802449839298a07eb99546ad",
              "IPY_MODEL_08db1408686c44c9a7e8ab86406b0754"
            ],
            "layout": "IPY_MODEL_909adcb05d8e41dfbb38d85a31d70226"
          }
        },
        "07e9ea131e094b54928be25702b3b16e": {
          "model_module": "@jupyter-widgets/controls",
          "model_name": "HTMLModel",
          "model_module_version": "1.5.0",
          "state": {
            "_dom_classes": [],
            "_model_module": "@jupyter-widgets/controls",
            "_model_module_version": "1.5.0",
            "_model_name": "HTMLModel",
            "_view_count": null,
            "_view_module": "@jupyter-widgets/controls",
            "_view_module_version": "1.5.0",
            "_view_name": "HTMLView",
            "description": "",
            "description_tooltip": null,
            "layout": "IPY_MODEL_7c47b244f4a042278906ac0d08621802",
            "placeholder": "​",
            "style": "IPY_MODEL_6434588627b44a1dbbdbcb650e591c7f",
            "value": "Map: 100%"
          }
        },
        "289b99b8802449839298a07eb99546ad": {
          "model_module": "@jupyter-widgets/controls",
          "model_name": "FloatProgressModel",
          "model_module_version": "1.5.0",
          "state": {
            "_dom_classes": [],
            "_model_module": "@jupyter-widgets/controls",
            "_model_module_version": "1.5.0",
            "_model_name": "FloatProgressModel",
            "_view_count": null,
            "_view_module": "@jupyter-widgets/controls",
            "_view_module_version": "1.5.0",
            "_view_name": "ProgressView",
            "bar_style": "success",
            "description": "",
            "description_tooltip": null,
            "layout": "IPY_MODEL_cc32b6142b5f491cbc7b0fbe2f4cc99c",
            "max": 240,
            "min": 0,
            "orientation": "horizontal",
            "style": "IPY_MODEL_7c178c20ac9c4c2693245746550b2c68",
            "value": 240
          }
        },
        "08db1408686c44c9a7e8ab86406b0754": {
          "model_module": "@jupyter-widgets/controls",
          "model_name": "HTMLModel",
          "model_module_version": "1.5.0",
          "state": {
            "_dom_classes": [],
            "_model_module": "@jupyter-widgets/controls",
            "_model_module_version": "1.5.0",
            "_model_name": "HTMLModel",
            "_view_count": null,
            "_view_module": "@jupyter-widgets/controls",
            "_view_module_version": "1.5.0",
            "_view_name": "HTMLView",
            "description": "",
            "description_tooltip": null,
            "layout": "IPY_MODEL_a347c700cb4547c08c4c6616df7fb467",
            "placeholder": "​",
            "style": "IPY_MODEL_a8382f0d98e542ab8326d2ad20d4245e",
            "value": " 240/240 [00:05&lt;00:00, 44.81 examples/s]"
          }
        },
        "909adcb05d8e41dfbb38d85a31d70226": {
          "model_module": "@jupyter-widgets/base",
          "model_name": "LayoutModel",
          "model_module_version": "1.2.0",
          "state": {
            "_model_module": "@jupyter-widgets/base",
            "_model_module_version": "1.2.0",
            "_model_name": "LayoutModel",
            "_view_count": null,
            "_view_module": "@jupyter-widgets/base",
            "_view_module_version": "1.2.0",
            "_view_name": "LayoutView",
            "align_content": null,
            "align_items": null,
            "align_self": null,
            "border": null,
            "bottom": null,
            "display": null,
            "flex": null,
            "flex_flow": null,
            "grid_area": null,
            "grid_auto_columns": null,
            "grid_auto_flow": null,
            "grid_auto_rows": null,
            "grid_column": null,
            "grid_gap": null,
            "grid_row": null,
            "grid_template_areas": null,
            "grid_template_columns": null,
            "grid_template_rows": null,
            "height": null,
            "justify_content": null,
            "justify_items": null,
            "left": null,
            "margin": null,
            "max_height": null,
            "max_width": null,
            "min_height": null,
            "min_width": null,
            "object_fit": null,
            "object_position": null,
            "order": null,
            "overflow": null,
            "overflow_x": null,
            "overflow_y": null,
            "padding": null,
            "right": null,
            "top": null,
            "visibility": null,
            "width": null
          }
        },
        "7c47b244f4a042278906ac0d08621802": {
          "model_module": "@jupyter-widgets/base",
          "model_name": "LayoutModel",
          "model_module_version": "1.2.0",
          "state": {
            "_model_module": "@jupyter-widgets/base",
            "_model_module_version": "1.2.0",
            "_model_name": "LayoutModel",
            "_view_count": null,
            "_view_module": "@jupyter-widgets/base",
            "_view_module_version": "1.2.0",
            "_view_name": "LayoutView",
            "align_content": null,
            "align_items": null,
            "align_self": null,
            "border": null,
            "bottom": null,
            "display": null,
            "flex": null,
            "flex_flow": null,
            "grid_area": null,
            "grid_auto_columns": null,
            "grid_auto_flow": null,
            "grid_auto_rows": null,
            "grid_column": null,
            "grid_gap": null,
            "grid_row": null,
            "grid_template_areas": null,
            "grid_template_columns": null,
            "grid_template_rows": null,
            "height": null,
            "justify_content": null,
            "justify_items": null,
            "left": null,
            "margin": null,
            "max_height": null,
            "max_width": null,
            "min_height": null,
            "min_width": null,
            "object_fit": null,
            "object_position": null,
            "order": null,
            "overflow": null,
            "overflow_x": null,
            "overflow_y": null,
            "padding": null,
            "right": null,
            "top": null,
            "visibility": null,
            "width": null
          }
        },
        "6434588627b44a1dbbdbcb650e591c7f": {
          "model_module": "@jupyter-widgets/controls",
          "model_name": "DescriptionStyleModel",
          "model_module_version": "1.5.0",
          "state": {
            "_model_module": "@jupyter-widgets/controls",
            "_model_module_version": "1.5.0",
            "_model_name": "DescriptionStyleModel",
            "_view_count": null,
            "_view_module": "@jupyter-widgets/base",
            "_view_module_version": "1.2.0",
            "_view_name": "StyleView",
            "description_width": ""
          }
        },
        "cc32b6142b5f491cbc7b0fbe2f4cc99c": {
          "model_module": "@jupyter-widgets/base",
          "model_name": "LayoutModel",
          "model_module_version": "1.2.0",
          "state": {
            "_model_module": "@jupyter-widgets/base",
            "_model_module_version": "1.2.0",
            "_model_name": "LayoutModel",
            "_view_count": null,
            "_view_module": "@jupyter-widgets/base",
            "_view_module_version": "1.2.0",
            "_view_name": "LayoutView",
            "align_content": null,
            "align_items": null,
            "align_self": null,
            "border": null,
            "bottom": null,
            "display": null,
            "flex": null,
            "flex_flow": null,
            "grid_area": null,
            "grid_auto_columns": null,
            "grid_auto_flow": null,
            "grid_auto_rows": null,
            "grid_column": null,
            "grid_gap": null,
            "grid_row": null,
            "grid_template_areas": null,
            "grid_template_columns": null,
            "grid_template_rows": null,
            "height": null,
            "justify_content": null,
            "justify_items": null,
            "left": null,
            "margin": null,
            "max_height": null,
            "max_width": null,
            "min_height": null,
            "min_width": null,
            "object_fit": null,
            "object_position": null,
            "order": null,
            "overflow": null,
            "overflow_x": null,
            "overflow_y": null,
            "padding": null,
            "right": null,
            "top": null,
            "visibility": null,
            "width": null
          }
        },
        "7c178c20ac9c4c2693245746550b2c68": {
          "model_module": "@jupyter-widgets/controls",
          "model_name": "ProgressStyleModel",
          "model_module_version": "1.5.0",
          "state": {
            "_model_module": "@jupyter-widgets/controls",
            "_model_module_version": "1.5.0",
            "_model_name": "ProgressStyleModel",
            "_view_count": null,
            "_view_module": "@jupyter-widgets/base",
            "_view_module_version": "1.2.0",
            "_view_name": "StyleView",
            "bar_color": null,
            "description_width": ""
          }
        },
        "a347c700cb4547c08c4c6616df7fb467": {
          "model_module": "@jupyter-widgets/base",
          "model_name": "LayoutModel",
          "model_module_version": "1.2.0",
          "state": {
            "_model_module": "@jupyter-widgets/base",
            "_model_module_version": "1.2.0",
            "_model_name": "LayoutModel",
            "_view_count": null,
            "_view_module": "@jupyter-widgets/base",
            "_view_module_version": "1.2.0",
            "_view_name": "LayoutView",
            "align_content": null,
            "align_items": null,
            "align_self": null,
            "border": null,
            "bottom": null,
            "display": null,
            "flex": null,
            "flex_flow": null,
            "grid_area": null,
            "grid_auto_columns": null,
            "grid_auto_flow": null,
            "grid_auto_rows": null,
            "grid_column": null,
            "grid_gap": null,
            "grid_row": null,
            "grid_template_areas": null,
            "grid_template_columns": null,
            "grid_template_rows": null,
            "height": null,
            "justify_content": null,
            "justify_items": null,
            "left": null,
            "margin": null,
            "max_height": null,
            "max_width": null,
            "min_height": null,
            "min_width": null,
            "object_fit": null,
            "object_position": null,
            "order": null,
            "overflow": null,
            "overflow_x": null,
            "overflow_y": null,
            "padding": null,
            "right": null,
            "top": null,
            "visibility": null,
            "width": null
          }
        },
        "a8382f0d98e542ab8326d2ad20d4245e": {
          "model_module": "@jupyter-widgets/controls",
          "model_name": "DescriptionStyleModel",
          "model_module_version": "1.5.0",
          "state": {
            "_model_module": "@jupyter-widgets/controls",
            "_model_module_version": "1.5.0",
            "_model_name": "DescriptionStyleModel",
            "_view_count": null,
            "_view_module": "@jupyter-widgets/base",
            "_view_module_version": "1.2.0",
            "_view_name": "StyleView",
            "description_width": ""
          }
        }
      }
    }
  },
  "cells": [
    {
      "cell_type": "code",
      "execution_count": 1,
      "metadata": {
        "colab": {
          "base_uri": "https://localhost:8080/"
        },
        "id": "kJGzpkVphXb0",
        "outputId": "fcf00e74-7b3e-4726-af94-7f4eabe09825"
      },
      "outputs": [
        {
          "output_type": "stream",
          "name": "stdout",
          "text": [
            "Requirement already satisfied: transformers in /usr/local/lib/python3.11/dist-packages (4.53.1)\n",
            "Requirement already satisfied: datasets in /usr/local/lib/python3.11/dist-packages (2.14.4)\n",
            "Requirement already satisfied: torchaudio in /usr/local/lib/python3.11/dist-packages (2.6.0+cu124)\n",
            "Requirement already satisfied: librosa in /usr/local/lib/python3.11/dist-packages (0.11.0)\n",
            "Requirement already satisfied: filelock in /usr/local/lib/python3.11/dist-packages (from transformers) (3.18.0)\n",
            "Requirement already satisfied: huggingface-hub<1.0,>=0.30.0 in /usr/local/lib/python3.11/dist-packages (from transformers) (0.33.2)\n",
            "Requirement already satisfied: numpy>=1.17 in /usr/local/lib/python3.11/dist-packages (from transformers) (2.0.2)\n",
            "Requirement already satisfied: packaging>=20.0 in /usr/local/lib/python3.11/dist-packages (from transformers) (24.2)\n",
            "Requirement already satisfied: pyyaml>=5.1 in /usr/local/lib/python3.11/dist-packages (from transformers) (6.0.2)\n",
            "Requirement already satisfied: regex!=2019.12.17 in /usr/local/lib/python3.11/dist-packages (from transformers) (2024.11.6)\n",
            "Requirement already satisfied: requests in /usr/local/lib/python3.11/dist-packages (from transformers) (2.32.3)\n",
            "Requirement already satisfied: tokenizers<0.22,>=0.21 in /usr/local/lib/python3.11/dist-packages (from transformers) (0.21.2)\n",
            "Requirement already satisfied: safetensors>=0.4.3 in /usr/local/lib/python3.11/dist-packages (from transformers) (0.5.3)\n",
            "Requirement already satisfied: tqdm>=4.27 in /usr/local/lib/python3.11/dist-packages (from transformers) (4.67.1)\n",
            "Requirement already satisfied: pyarrow>=8.0.0 in /usr/local/lib/python3.11/dist-packages (from datasets) (18.1.0)\n",
            "Requirement already satisfied: dill<0.3.8,>=0.3.0 in /usr/local/lib/python3.11/dist-packages (from datasets) (0.3.7)\n",
            "Requirement already satisfied: pandas in /usr/local/lib/python3.11/dist-packages (from datasets) (2.2.2)\n",
            "Requirement already satisfied: xxhash in /usr/local/lib/python3.11/dist-packages (from datasets) (3.5.0)\n",
            "Requirement already satisfied: multiprocess in /usr/local/lib/python3.11/dist-packages (from datasets) (0.70.15)\n",
            "Requirement already satisfied: fsspec>=2021.11.1 in /usr/local/lib/python3.11/dist-packages (from fsspec[http]>=2021.11.1->datasets) (2025.3.2)\n",
            "Requirement already satisfied: aiohttp in /usr/local/lib/python3.11/dist-packages (from datasets) (3.11.15)\n",
            "Requirement already satisfied: torch==2.6.0 in /usr/local/lib/python3.11/dist-packages (from torchaudio) (2.6.0+cu124)\n",
            "Requirement already satisfied: typing-extensions>=4.10.0 in /usr/local/lib/python3.11/dist-packages (from torch==2.6.0->torchaudio) (4.14.1)\n",
            "Requirement already satisfied: networkx in /usr/local/lib/python3.11/dist-packages (from torch==2.6.0->torchaudio) (3.5)\n",
            "Requirement already satisfied: jinja2 in /usr/local/lib/python3.11/dist-packages (from torch==2.6.0->torchaudio) (3.1.6)\n",
            "Collecting nvidia-cuda-nvrtc-cu12==12.4.127 (from torch==2.6.0->torchaudio)\n",
            "  Downloading nvidia_cuda_nvrtc_cu12-12.4.127-py3-none-manylinux2014_x86_64.whl.metadata (1.5 kB)\n",
            "Collecting nvidia-cuda-runtime-cu12==12.4.127 (from torch==2.6.0->torchaudio)\n",
            "  Downloading nvidia_cuda_runtime_cu12-12.4.127-py3-none-manylinux2014_x86_64.whl.metadata (1.5 kB)\n",
            "Collecting nvidia-cuda-cupti-cu12==12.4.127 (from torch==2.6.0->torchaudio)\n",
            "  Downloading nvidia_cuda_cupti_cu12-12.4.127-py3-none-manylinux2014_x86_64.whl.metadata (1.6 kB)\n",
            "Collecting nvidia-cudnn-cu12==9.1.0.70 (from torch==2.6.0->torchaudio)\n",
            "  Downloading nvidia_cudnn_cu12-9.1.0.70-py3-none-manylinux2014_x86_64.whl.metadata (1.6 kB)\n",
            "Collecting nvidia-cublas-cu12==12.4.5.8 (from torch==2.6.0->torchaudio)\n",
            "  Downloading nvidia_cublas_cu12-12.4.5.8-py3-none-manylinux2014_x86_64.whl.metadata (1.5 kB)\n",
            "Collecting nvidia-cufft-cu12==11.2.1.3 (from torch==2.6.0->torchaudio)\n",
            "  Downloading nvidia_cufft_cu12-11.2.1.3-py3-none-manylinux2014_x86_64.whl.metadata (1.5 kB)\n",
            "Collecting nvidia-curand-cu12==10.3.5.147 (from torch==2.6.0->torchaudio)\n",
            "  Downloading nvidia_curand_cu12-10.3.5.147-py3-none-manylinux2014_x86_64.whl.metadata (1.5 kB)\n",
            "Collecting nvidia-cusolver-cu12==11.6.1.9 (from torch==2.6.0->torchaudio)\n",
            "  Downloading nvidia_cusolver_cu12-11.6.1.9-py3-none-manylinux2014_x86_64.whl.metadata (1.6 kB)\n",
            "Collecting nvidia-cusparse-cu12==12.3.1.170 (from torch==2.6.0->torchaudio)\n",
            "  Downloading nvidia_cusparse_cu12-12.3.1.170-py3-none-manylinux2014_x86_64.whl.metadata (1.6 kB)\n",
            "Requirement already satisfied: nvidia-cusparselt-cu12==0.6.2 in /usr/local/lib/python3.11/dist-packages (from torch==2.6.0->torchaudio) (0.6.2)\n",
            "Requirement already satisfied: nvidia-nccl-cu12==2.21.5 in /usr/local/lib/python3.11/dist-packages (from torch==2.6.0->torchaudio) (2.21.5)\n",
            "Requirement already satisfied: nvidia-nvtx-cu12==12.4.127 in /usr/local/lib/python3.11/dist-packages (from torch==2.6.0->torchaudio) (12.4.127)\n",
            "Collecting nvidia-nvjitlink-cu12==12.4.127 (from torch==2.6.0->torchaudio)\n",
            "  Downloading nvidia_nvjitlink_cu12-12.4.127-py3-none-manylinux2014_x86_64.whl.metadata (1.5 kB)\n",
            "Requirement already satisfied: triton==3.2.0 in /usr/local/lib/python3.11/dist-packages (from torch==2.6.0->torchaudio) (3.2.0)\n",
            "Requirement already satisfied: sympy==1.13.1 in /usr/local/lib/python3.11/dist-packages (from torch==2.6.0->torchaudio) (1.13.1)\n",
            "Requirement already satisfied: mpmath<1.4,>=1.1.0 in /usr/local/lib/python3.11/dist-packages (from sympy==1.13.1->torch==2.6.0->torchaudio) (1.3.0)\n",
            "Requirement already satisfied: audioread>=2.1.9 in /usr/local/lib/python3.11/dist-packages (from librosa) (3.0.1)\n",
            "Requirement already satisfied: numba>=0.51.0 in /usr/local/lib/python3.11/dist-packages (from librosa) (0.60.0)\n",
            "Requirement already satisfied: scipy>=1.6.0 in /usr/local/lib/python3.11/dist-packages (from librosa) (1.15.3)\n",
            "Requirement already satisfied: scikit-learn>=1.1.0 in /usr/local/lib/python3.11/dist-packages (from librosa) (1.6.1)\n",
            "Requirement already satisfied: joblib>=1.0 in /usr/local/lib/python3.11/dist-packages (from librosa) (1.5.1)\n",
            "Requirement already satisfied: decorator>=4.3.0 in /usr/local/lib/python3.11/dist-packages (from librosa) (4.4.2)\n",
            "Requirement already satisfied: soundfile>=0.12.1 in /usr/local/lib/python3.11/dist-packages (from librosa) (0.13.1)\n",
            "Requirement already satisfied: pooch>=1.1 in /usr/local/lib/python3.11/dist-packages (from librosa) (1.8.2)\n",
            "Requirement already satisfied: soxr>=0.3.2 in /usr/local/lib/python3.11/dist-packages (from librosa) (0.5.0.post1)\n",
            "Requirement already satisfied: lazy_loader>=0.1 in /usr/local/lib/python3.11/dist-packages (from librosa) (0.4)\n",
            "Requirement already satisfied: msgpack>=1.0 in /usr/local/lib/python3.11/dist-packages (from librosa) (1.1.1)\n",
            "Requirement already satisfied: aiohappyeyeballs>=2.3.0 in /usr/local/lib/python3.11/dist-packages (from aiohttp->datasets) (2.6.1)\n",
            "Requirement already satisfied: aiosignal>=1.1.2 in /usr/local/lib/python3.11/dist-packages (from aiohttp->datasets) (1.4.0)\n",
            "Requirement already satisfied: attrs>=17.3.0 in /usr/local/lib/python3.11/dist-packages (from aiohttp->datasets) (25.3.0)\n",
            "Requirement already satisfied: frozenlist>=1.1.1 in /usr/local/lib/python3.11/dist-packages (from aiohttp->datasets) (1.7.0)\n",
            "Requirement already satisfied: multidict<7.0,>=4.5 in /usr/local/lib/python3.11/dist-packages (from aiohttp->datasets) (6.6.3)\n",
            "Requirement already satisfied: propcache>=0.2.0 in /usr/local/lib/python3.11/dist-packages (from aiohttp->datasets) (0.3.2)\n",
            "Requirement already satisfied: yarl<2.0,>=1.17.0 in /usr/local/lib/python3.11/dist-packages (from aiohttp->datasets) (1.20.1)\n",
            "Requirement already satisfied: hf-xet<2.0.0,>=1.1.2 in /usr/local/lib/python3.11/dist-packages (from huggingface-hub<1.0,>=0.30.0->transformers) (1.1.5)\n",
            "Requirement already satisfied: llvmlite<0.44,>=0.43.0dev0 in /usr/local/lib/python3.11/dist-packages (from numba>=0.51.0->librosa) (0.43.0)\n",
            "Requirement already satisfied: platformdirs>=2.5.0 in /usr/local/lib/python3.11/dist-packages (from pooch>=1.1->librosa) (4.3.8)\n",
            "Requirement already satisfied: charset-normalizer<4,>=2 in /usr/local/lib/python3.11/dist-packages (from requests->transformers) (3.4.2)\n",
            "Requirement already satisfied: idna<4,>=2.5 in /usr/local/lib/python3.11/dist-packages (from requests->transformers) (3.10)\n",
            "Requirement already satisfied: urllib3<3,>=1.21.1 in /usr/local/lib/python3.11/dist-packages (from requests->transformers) (2.4.0)\n",
            "Requirement already satisfied: certifi>=2017.4.17 in /usr/local/lib/python3.11/dist-packages (from requests->transformers) (2025.6.15)\n",
            "Requirement already satisfied: threadpoolctl>=3.1.0 in /usr/local/lib/python3.11/dist-packages (from scikit-learn>=1.1.0->librosa) (3.6.0)\n",
            "Requirement already satisfied: cffi>=1.0 in /usr/local/lib/python3.11/dist-packages (from soundfile>=0.12.1->librosa) (1.17.1)\n",
            "Requirement already satisfied: python-dateutil>=2.8.2 in /usr/local/lib/python3.11/dist-packages (from pandas->datasets) (2.9.0.post0)\n",
            "Requirement already satisfied: pytz>=2020.1 in /usr/local/lib/python3.11/dist-packages (from pandas->datasets) (2025.2)\n",
            "Requirement already satisfied: tzdata>=2022.7 in /usr/local/lib/python3.11/dist-packages (from pandas->datasets) (2025.2)\n",
            "Requirement already satisfied: pycparser in /usr/local/lib/python3.11/dist-packages (from cffi>=1.0->soundfile>=0.12.1->librosa) (2.22)\n",
            "Requirement already satisfied: six>=1.5 in /usr/local/lib/python3.11/dist-packages (from python-dateutil>=2.8.2->pandas->datasets) (1.17.0)\n",
            "Requirement already satisfied: MarkupSafe>=2.0 in /usr/local/lib/python3.11/dist-packages (from jinja2->torch==2.6.0->torchaudio) (3.0.2)\n",
            "Downloading nvidia_cublas_cu12-12.4.5.8-py3-none-manylinux2014_x86_64.whl (363.4 MB)\n",
            "\u001b[2K   \u001b[90m━━━━━━━━━━━━━━━━━━━━━━━━━━━━━━━━━━━━━━━━\u001b[0m \u001b[32m363.4/363.4 MB\u001b[0m \u001b[31m4.6 MB/s\u001b[0m eta \u001b[36m0:00:00\u001b[0m\n",
            "\u001b[?25hDownloading nvidia_cuda_cupti_cu12-12.4.127-py3-none-manylinux2014_x86_64.whl (13.8 MB)\n",
            "\u001b[2K   \u001b[90m━━━━━━━━━━━━━━━━━━━━━━━━━━━━━━━━━━━━━━━━\u001b[0m \u001b[32m13.8/13.8 MB\u001b[0m \u001b[31m23.6 MB/s\u001b[0m eta \u001b[36m0:00:00\u001b[0m\n",
            "\u001b[?25hDownloading nvidia_cuda_nvrtc_cu12-12.4.127-py3-none-manylinux2014_x86_64.whl (24.6 MB)\n",
            "\u001b[2K   \u001b[90m━━━━━━━━━━━━━━━━━━━━━━━━━━━━━━━━━━━━━━━━\u001b[0m \u001b[32m24.6/24.6 MB\u001b[0m \u001b[31m25.3 MB/s\u001b[0m eta \u001b[36m0:00:00\u001b[0m\n",
            "\u001b[?25hDownloading nvidia_cuda_runtime_cu12-12.4.127-py3-none-manylinux2014_x86_64.whl (883 kB)\n",
            "\u001b[2K   \u001b[90m━━━━━━━━━━━━━━━━━━━━━━━━━━━━━━━━━━━━━━━━\u001b[0m \u001b[32m883.7/883.7 kB\u001b[0m \u001b[31m24.7 MB/s\u001b[0m eta \u001b[36m0:00:00\u001b[0m\n",
            "\u001b[?25hDownloading nvidia_cudnn_cu12-9.1.0.70-py3-none-manylinux2014_x86_64.whl (664.8 MB)\n",
            "\u001b[2K   \u001b[90m━━━━━━━━━━━━━━━━━━━━━━━━━━━━━━━━━━━━━━━━\u001b[0m \u001b[32m664.8/664.8 MB\u001b[0m \u001b[31m2.5 MB/s\u001b[0m eta \u001b[36m0:00:00\u001b[0m\n",
            "\u001b[?25hDownloading nvidia_cufft_cu12-11.2.1.3-py3-none-manylinux2014_x86_64.whl (211.5 MB)\n",
            "\u001b[2K   \u001b[90m━━━━━━━━━━━━━━━━━━━━━━━━━━━━━━━━━━━━━━━━\u001b[0m \u001b[32m211.5/211.5 MB\u001b[0m \u001b[31m6.4 MB/s\u001b[0m eta \u001b[36m0:00:00\u001b[0m\n",
            "\u001b[?25hDownloading nvidia_curand_cu12-10.3.5.147-py3-none-manylinux2014_x86_64.whl (56.3 MB)\n",
            "\u001b[2K   \u001b[90m━━━━━━━━━━━━━━━━━━━━━━━━━━━━━━━━━━━━━━━━\u001b[0m \u001b[32m56.3/56.3 MB\u001b[0m \u001b[31m9.6 MB/s\u001b[0m eta \u001b[36m0:00:00\u001b[0m\n",
            "\u001b[?25hDownloading nvidia_cusolver_cu12-11.6.1.9-py3-none-manylinux2014_x86_64.whl (127.9 MB)\n",
            "\u001b[2K   \u001b[90m━━━━━━━━━━━━━━━━━━━━━━━━━━━━━━━━━━━━━━━━\u001b[0m \u001b[32m127.9/127.9 MB\u001b[0m \u001b[31m9.1 MB/s\u001b[0m eta \u001b[36m0:00:00\u001b[0m\n",
            "\u001b[?25hDownloading nvidia_cusparse_cu12-12.3.1.170-py3-none-manylinux2014_x86_64.whl (207.5 MB)\n",
            "\u001b[2K   \u001b[90m━━━━━━━━━━━━━━━━━━━━━━━━━━━━━━━━━━━━━━━━\u001b[0m \u001b[32m207.5/207.5 MB\u001b[0m \u001b[31m3.8 MB/s\u001b[0m eta \u001b[36m0:00:00\u001b[0m\n",
            "\u001b[?25hDownloading nvidia_nvjitlink_cu12-12.4.127-py3-none-manylinux2014_x86_64.whl (21.1 MB)\n",
            "\u001b[2K   \u001b[90m━━━━━━━━━━━━━━━━━━━━━━━━━━━━━━━━━━━━━━━━\u001b[0m \u001b[32m21.1/21.1 MB\u001b[0m \u001b[31m19.1 MB/s\u001b[0m eta \u001b[36m0:00:00\u001b[0m\n",
            "\u001b[?25hInstalling collected packages: nvidia-nvjitlink-cu12, nvidia-curand-cu12, nvidia-cufft-cu12, nvidia-cuda-runtime-cu12, nvidia-cuda-nvrtc-cu12, nvidia-cuda-cupti-cu12, nvidia-cublas-cu12, nvidia-cusparse-cu12, nvidia-cudnn-cu12, nvidia-cusolver-cu12\n",
            "  Attempting uninstall: nvidia-nvjitlink-cu12\n",
            "    Found existing installation: nvidia-nvjitlink-cu12 12.5.82\n",
            "    Uninstalling nvidia-nvjitlink-cu12-12.5.82:\n",
            "      Successfully uninstalled nvidia-nvjitlink-cu12-12.5.82\n",
            "  Attempting uninstall: nvidia-curand-cu12\n",
            "    Found existing installation: nvidia-curand-cu12 10.3.6.82\n",
            "    Uninstalling nvidia-curand-cu12-10.3.6.82:\n",
            "      Successfully uninstalled nvidia-curand-cu12-10.3.6.82\n",
            "  Attempting uninstall: nvidia-cufft-cu12\n",
            "    Found existing installation: nvidia-cufft-cu12 11.2.3.61\n",
            "    Uninstalling nvidia-cufft-cu12-11.2.3.61:\n",
            "      Successfully uninstalled nvidia-cufft-cu12-11.2.3.61\n",
            "  Attempting uninstall: nvidia-cuda-runtime-cu12\n",
            "    Found existing installation: nvidia-cuda-runtime-cu12 12.5.82\n",
            "    Uninstalling nvidia-cuda-runtime-cu12-12.5.82:\n",
            "      Successfully uninstalled nvidia-cuda-runtime-cu12-12.5.82\n",
            "  Attempting uninstall: nvidia-cuda-nvrtc-cu12\n",
            "    Found existing installation: nvidia-cuda-nvrtc-cu12 12.5.82\n",
            "    Uninstalling nvidia-cuda-nvrtc-cu12-12.5.82:\n",
            "      Successfully uninstalled nvidia-cuda-nvrtc-cu12-12.5.82\n",
            "  Attempting uninstall: nvidia-cuda-cupti-cu12\n",
            "    Found existing installation: nvidia-cuda-cupti-cu12 12.5.82\n",
            "    Uninstalling nvidia-cuda-cupti-cu12-12.5.82:\n",
            "      Successfully uninstalled nvidia-cuda-cupti-cu12-12.5.82\n",
            "  Attempting uninstall: nvidia-cublas-cu12\n",
            "    Found existing installation: nvidia-cublas-cu12 12.5.3.2\n",
            "    Uninstalling nvidia-cublas-cu12-12.5.3.2:\n",
            "      Successfully uninstalled nvidia-cublas-cu12-12.5.3.2\n",
            "  Attempting uninstall: nvidia-cusparse-cu12\n",
            "    Found existing installation: nvidia-cusparse-cu12 12.5.1.3\n",
            "    Uninstalling nvidia-cusparse-cu12-12.5.1.3:\n",
            "      Successfully uninstalled nvidia-cusparse-cu12-12.5.1.3\n",
            "  Attempting uninstall: nvidia-cudnn-cu12\n",
            "    Found existing installation: nvidia-cudnn-cu12 9.3.0.75\n",
            "    Uninstalling nvidia-cudnn-cu12-9.3.0.75:\n",
            "      Successfully uninstalled nvidia-cudnn-cu12-9.3.0.75\n",
            "  Attempting uninstall: nvidia-cusolver-cu12\n",
            "    Found existing installation: nvidia-cusolver-cu12 11.6.3.83\n",
            "    Uninstalling nvidia-cusolver-cu12-11.6.3.83:\n",
            "      Successfully uninstalled nvidia-cusolver-cu12-11.6.3.83\n",
            "Successfully installed nvidia-cublas-cu12-12.4.5.8 nvidia-cuda-cupti-cu12-12.4.127 nvidia-cuda-nvrtc-cu12-12.4.127 nvidia-cuda-runtime-cu12-12.4.127 nvidia-cudnn-cu12-9.1.0.70 nvidia-cufft-cu12-11.2.1.3 nvidia-curand-cu12-10.3.5.147 nvidia-cusolver-cu12-11.6.1.9 nvidia-cusparse-cu12-12.3.1.170 nvidia-nvjitlink-cu12-12.4.127\n"
          ]
        }
      ],
      "source": [
        "!pip install transformers datasets torchaudio librosa"
      ]
    },
    {
      "cell_type": "code",
      "source": [
        "!pip install -U librosa numba numpy"
      ],
      "metadata": {
        "colab": {
          "base_uri": "https://localhost:8080/",
          "height": 1000
        },
        "id": "LtQwbnJOkPSl",
        "outputId": "c0f4bc48-596d-485f-eb36-8907e095b390"
      },
      "execution_count": 2,
      "outputs": [
        {
          "output_type": "stream",
          "name": "stdout",
          "text": [
            "Requirement already satisfied: librosa in /usr/local/lib/python3.11/dist-packages (0.11.0)\n",
            "Requirement already satisfied: numba in /usr/local/lib/python3.11/dist-packages (0.60.0)\n",
            "Collecting numba\n",
            "  Downloading numba-0.61.2-cp311-cp311-manylinux2014_x86_64.manylinux_2_17_x86_64.whl.metadata (2.8 kB)\n",
            "Requirement already satisfied: numpy in /usr/local/lib/python3.11/dist-packages (2.0.2)\n",
            "Collecting numpy\n",
            "  Downloading numpy-2.3.1-cp311-cp311-manylinux_2_28_x86_64.whl.metadata (62 kB)\n",
            "\u001b[2K     \u001b[90m━━━━━━━━━━━━━━━━━━━━━━━━━━━━━━━━━━━━━━━\u001b[0m \u001b[32m62.1/62.1 kB\u001b[0m \u001b[31m496.3 kB/s\u001b[0m eta \u001b[36m0:00:00\u001b[0m\n",
            "\u001b[?25hRequirement already satisfied: audioread>=2.1.9 in /usr/local/lib/python3.11/dist-packages (from librosa) (3.0.1)\n",
            "Requirement already satisfied: scipy>=1.6.0 in /usr/local/lib/python3.11/dist-packages (from librosa) (1.15.3)\n",
            "Requirement already satisfied: scikit-learn>=1.1.0 in /usr/local/lib/python3.11/dist-packages (from librosa) (1.6.1)\n",
            "Requirement already satisfied: joblib>=1.0 in /usr/local/lib/python3.11/dist-packages (from librosa) (1.5.1)\n",
            "Requirement already satisfied: decorator>=4.3.0 in /usr/local/lib/python3.11/dist-packages (from librosa) (4.4.2)\n",
            "Requirement already satisfied: soundfile>=0.12.1 in /usr/local/lib/python3.11/dist-packages (from librosa) (0.13.1)\n",
            "Requirement already satisfied: pooch>=1.1 in /usr/local/lib/python3.11/dist-packages (from librosa) (1.8.2)\n",
            "Requirement already satisfied: soxr>=0.3.2 in /usr/local/lib/python3.11/dist-packages (from librosa) (0.5.0.post1)\n",
            "Requirement already satisfied: typing_extensions>=4.1.1 in /usr/local/lib/python3.11/dist-packages (from librosa) (4.14.1)\n",
            "Requirement already satisfied: lazy_loader>=0.1 in /usr/local/lib/python3.11/dist-packages (from librosa) (0.4)\n",
            "Requirement already satisfied: msgpack>=1.0 in /usr/local/lib/python3.11/dist-packages (from librosa) (1.1.1)\n",
            "Collecting llvmlite<0.45,>=0.44.0dev0 (from numba)\n",
            "  Downloading llvmlite-0.44.0-cp311-cp311-manylinux_2_17_x86_64.manylinux2014_x86_64.whl.metadata (4.8 kB)\n",
            "Collecting numpy\n",
            "  Downloading numpy-2.2.6-cp311-cp311-manylinux_2_17_x86_64.manylinux2014_x86_64.whl.metadata (62 kB)\n",
            "\u001b[2K     \u001b[90m━━━━━━━━━━━━━━━━━━━━━━━━━━━━━━━━━━━━━━━━\u001b[0m \u001b[32m62.0/62.0 kB\u001b[0m \u001b[31m1.6 MB/s\u001b[0m eta \u001b[36m0:00:00\u001b[0m\n",
            "\u001b[?25hRequirement already satisfied: packaging in /usr/local/lib/python3.11/dist-packages (from lazy_loader>=0.1->librosa) (24.2)\n",
            "Requirement already satisfied: platformdirs>=2.5.0 in /usr/local/lib/python3.11/dist-packages (from pooch>=1.1->librosa) (4.3.8)\n",
            "Requirement already satisfied: requests>=2.19.0 in /usr/local/lib/python3.11/dist-packages (from pooch>=1.1->librosa) (2.32.3)\n",
            "Requirement already satisfied: threadpoolctl>=3.1.0 in /usr/local/lib/python3.11/dist-packages (from scikit-learn>=1.1.0->librosa) (3.6.0)\n",
            "Requirement already satisfied: cffi>=1.0 in /usr/local/lib/python3.11/dist-packages (from soundfile>=0.12.1->librosa) (1.17.1)\n",
            "Requirement already satisfied: pycparser in /usr/local/lib/python3.11/dist-packages (from cffi>=1.0->soundfile>=0.12.1->librosa) (2.22)\n",
            "Requirement already satisfied: charset-normalizer<4,>=2 in /usr/local/lib/python3.11/dist-packages (from requests>=2.19.0->pooch>=1.1->librosa) (3.4.2)\n",
            "Requirement already satisfied: idna<4,>=2.5 in /usr/local/lib/python3.11/dist-packages (from requests>=2.19.0->pooch>=1.1->librosa) (3.10)\n",
            "Requirement already satisfied: urllib3<3,>=1.21.1 in /usr/local/lib/python3.11/dist-packages (from requests>=2.19.0->pooch>=1.1->librosa) (2.4.0)\n",
            "Requirement already satisfied: certifi>=2017.4.17 in /usr/local/lib/python3.11/dist-packages (from requests>=2.19.0->pooch>=1.1->librosa) (2025.6.15)\n",
            "Downloading numba-0.61.2-cp311-cp311-manylinux2014_x86_64.manylinux_2_17_x86_64.whl (3.8 MB)\n",
            "\u001b[2K   \u001b[90m━━━━━━━━━━━━━━━━━━━━━━━━━━━━━━━━━━━━━━━━\u001b[0m \u001b[32m3.8/3.8 MB\u001b[0m \u001b[31m9.8 MB/s\u001b[0m eta \u001b[36m0:00:00\u001b[0m\n",
            "\u001b[?25hDownloading numpy-2.2.6-cp311-cp311-manylinux_2_17_x86_64.manylinux2014_x86_64.whl (16.8 MB)\n",
            "\u001b[2K   \u001b[90m━━━━━━━━━━━━━━━━━━━━━━━━━━━━━━━━━━━━━━━━\u001b[0m \u001b[32m16.8/16.8 MB\u001b[0m \u001b[31m35.6 MB/s\u001b[0m eta \u001b[36m0:00:00\u001b[0m\n",
            "\u001b[?25hDownloading llvmlite-0.44.0-cp311-cp311-manylinux_2_17_x86_64.manylinux2014_x86_64.whl (42.4 MB)\n",
            "\u001b[2K   \u001b[90m━━━━━━━━━━━━━━━━━━━━━━━━━━━━━━━━━━━━━━━━\u001b[0m \u001b[32m42.4/42.4 MB\u001b[0m \u001b[31m17.9 MB/s\u001b[0m eta \u001b[36m0:00:00\u001b[0m\n",
            "\u001b[?25hInstalling collected packages: numpy, llvmlite, numba\n",
            "  Attempting uninstall: numpy\n",
            "    Found existing installation: numpy 2.0.2\n",
            "    Uninstalling numpy-2.0.2:\n",
            "      Successfully uninstalled numpy-2.0.2\n",
            "  Attempting uninstall: llvmlite\n",
            "    Found existing installation: llvmlite 0.43.0\n",
            "    Uninstalling llvmlite-0.43.0:\n",
            "      Successfully uninstalled llvmlite-0.43.0\n",
            "  Attempting uninstall: numba\n",
            "    Found existing installation: numba 0.60.0\n",
            "    Uninstalling numba-0.60.0:\n",
            "      Successfully uninstalled numba-0.60.0\n",
            "\u001b[31mERROR: pip's dependency resolver does not currently take into account all the packages that are installed. This behaviour is the source of the following dependency conflicts.\n",
            "tensorflow 2.18.0 requires numpy<2.1.0,>=1.26.0, but you have numpy 2.2.6 which is incompatible.\n",
            "cuml-cu12 25.2.1 requires numba<0.61.0a0,>=0.59.1, but you have numba 0.61.2 which is incompatible.\n",
            "cudf-cu12 25.2.1 requires numba<0.61.0a0,>=0.59.1, but you have numba 0.61.2 which is incompatible.\n",
            "dask-cuda 25.2.0 requires numba<0.61.0a0,>=0.59.1, but you have numba 0.61.2 which is incompatible.\n",
            "distributed-ucxx-cu12 0.42.0 requires numba<0.61.0a0,>=0.59.1, but you have numba 0.61.2 which is incompatible.\u001b[0m\u001b[31m\n",
            "\u001b[0mSuccessfully installed llvmlite-0.44.0 numba-0.61.2 numpy-2.2.6\n"
          ]
        },
        {
          "output_type": "display_data",
          "data": {
            "application/vnd.colab-display-data+json": {
              "pip_warning": {
                "packages": [
                  "numpy"
                ]
              },
              "id": "00f0cff025b141769a7edc04f347cb84"
            }
          },
          "metadata": {}
        }
      ]
    },
    {
      "cell_type": "code",
      "source": [
        "# Jika ingin menggunakan GPU\n",
        "import torch\n",
        "device = torch.device(\"cuda\" if torch.cuda.is_available() else \"cpu\")\n",
        "print(\"Using device:\", device)"
      ],
      "metadata": {
        "colab": {
          "base_uri": "https://localhost:8080/"
        },
        "id": "vUpcf9rNhZNy",
        "outputId": "e24145de-8527-48bc-8ab0-64faa58153e1"
      },
      "execution_count": 1,
      "outputs": [
        {
          "output_type": "stream",
          "name": "stdout",
          "text": [
            "Using device: cuda\n"
          ]
        }
      ]
    },
    {
      "cell_type": "code",
      "source": [
        "from google.colab import drive\n",
        "drive.mount('/content/drive')"
      ],
      "metadata": {
        "colab": {
          "base_uri": "https://localhost:8080/"
        },
        "id": "KPnQkh_uhZ4j",
        "outputId": "6511dabd-b4c2-49b4-c938-bed495fcdd3e"
      },
      "execution_count": 2,
      "outputs": [
        {
          "output_type": "stream",
          "name": "stdout",
          "text": [
            "Mounted at /content/drive\n"
          ]
        }
      ]
    },
    {
      "cell_type": "markdown",
      "source": [
        "## train model 1 (bhs indonesia) wav2vec 2.0 pretrained model dari facebook/wav2vec2-base (parameter sama dgn pretrained)"
      ],
      "metadata": {
        "id": "l5HEvdUZqXun"
      }
    },
    {
      "cell_type": "code",
      "source": [
        "# =========================================================\n",
        "# === 0. IMPORT\n",
        "# =========================================================\n",
        "\n",
        "import os\n",
        "import numpy as np\n",
        "import pandas as pd\n",
        "import matplotlib.pyplot as plt\n",
        "import torch\n",
        "\n",
        "from sklearn.model_selection import train_test_split\n",
        "from sklearn.metrics import (\n",
        "    accuracy_score, f1_score, precision_score, recall_score,\n",
        "    confusion_matrix, ConfusionMatrixDisplay, classification_report\n",
        ")\n",
        "\n",
        "from datasets import Dataset, Audio\n",
        "from transformers import (\n",
        "    Wav2Vec2Processor,\n",
        "    Wav2Vec2ForSequenceClassification,\n",
        "    TrainingArguments,\n",
        "    Trainer,\n",
        "    EarlyStoppingCallback\n",
        ")"
      ],
      "metadata": {
        "id": "NPjUa6MPhcHO"
      },
      "execution_count": 1,
      "outputs": []
    },
    {
      "cell_type": "code",
      "source": [
        "def load_data_from_folder(data_dir, allowed_labels):\n",
        "    all_data = []\n",
        "    for label in os.listdir(data_dir):\n",
        "        if label.lower() in allowed_labels:\n",
        "            label_dir = os.path.join(data_dir, label)\n",
        "            for file in os.listdir(label_dir):\n",
        "                if file.endswith(\".wav\"):\n",
        "                    all_data.append({\n",
        "                        \"path\": os.path.join(label_dir, file),\n",
        "                        \"label\": label.lower()\n",
        "                    })\n",
        "    df = pd.DataFrame(all_data)\n",
        "    return df"
      ],
      "metadata": {
        "id": "hy99deyPhde-"
      },
      "execution_count": 2,
      "outputs": []
    },
    {
      "cell_type": "code",
      "source": [
        "def encode_labels(df):\n",
        "    unique_labels = sorted(df[\"label\"].unique())\n",
        "    label2id = {label: idx for idx, label in enumerate(unique_labels)}\n",
        "    id2label = {v: k for k, v in label2id.items()}\n",
        "    df[\"label_id\"] = df[\"label\"].map(label2id)\n",
        "    return df, label2id, id2label\n"
      ],
      "metadata": {
        "id": "FvI5dFw7hedY"
      },
      "execution_count": 3,
      "outputs": []
    },
    {
      "cell_type": "code",
      "source": [
        "def stratified_split(df, test_size=0.2, seed=42):\n",
        "    train_df, test_df = train_test_split(\n",
        "        df,\n",
        "        test_size=test_size,\n",
        "        stratify=df[\"label\"],\n",
        "        random_state=seed\n",
        "    )\n",
        "    return train_df.reset_index(drop=True), test_df.reset_index(drop=True)"
      ],
      "metadata": {
        "id": "07kzbT66hfn2"
      },
      "execution_count": 4,
      "outputs": []
    },
    {
      "cell_type": "code",
      "source": [
        "# =========================================================\n",
        "# === 2. PREPARE HF DATASET\n",
        "# =========================================================\n",
        "\n",
        "def prepare_hf_dataset(train_df, test_df, processor):\n",
        "    train_dataset = Dataset.from_pandas(train_df)\n",
        "    test_dataset = Dataset.from_pandas(test_df)\n",
        "\n",
        "    train_dataset = train_dataset.cast_column(\"path\", Audio(sampling_rate=16000))\n",
        "    test_dataset = test_dataset.cast_column(\"path\", Audio(sampling_rate=16000))\n",
        "\n",
        "    def preprocess(batch):\n",
        "        audio_arrays = [x[\"array\"] for x in batch[\"path\"]]\n",
        "        inputs = processor(audio_arrays, sampling_rate=16000, padding=True, return_tensors=\"pt\")\n",
        "        inputs[\"labels\"] = batch[\"label_id\"]\n",
        "        return inputs\n",
        "\n",
        "    train_dataset = train_dataset.map(preprocess, batched=True, remove_columns=[\"path\", \"label\"])\n",
        "    test_dataset = test_dataset.map(preprocess, batched=True, remove_columns=[\"path\", \"label\"])\n",
        "\n",
        "    return train_dataset, test_dataset"
      ],
      "metadata": {
        "id": "pcuPx9bHhgsk"
      },
      "execution_count": 5,
      "outputs": []
    },
    {
      "cell_type": "code",
      "source": [
        "# =========================================================\n",
        "# === 3. METRICS\n",
        "# =========================================================\n",
        "\n",
        "def compute_metrics(pred):\n",
        "    preds = np.argmax(pred.predictions, axis=1)\n",
        "    labels = pred.label_ids\n",
        "    return {\n",
        "        \"accuracy\": accuracy_score(labels, preds),\n",
        "        \"f1\": f1_score(labels, preds, average='weighted'),\n",
        "        \"precision\": precision_score(labels, preds, average='weighted'),\n",
        "        \"recall\": recall_score(labels, preds, average='weighted')\n",
        "    }"
      ],
      "metadata": {
        "id": "Fo_T2iithh2M"
      },
      "execution_count": 6,
      "outputs": []
    },
    {
      "cell_type": "code",
      "source": [
        "def train_model(\n",
        "    train_dataset,\n",
        "    eval_dataset,\n",
        "    label2id,\n",
        "    id2label,\n",
        "    processor,\n",
        "    output_dir\n",
        "):\n",
        "\n",
        "    # Load Pretrained Model\n",
        "    model = Wav2Vec2ForSequenceClassification.from_pretrained(\n",
        "        \"facebook/wav2vec2-base\",\n",
        "        num_labels=len(label2id),\n",
        "        label2id=label2id,\n",
        "        id2label=id2label,\n",
        "        problem_type=\"single_label_classification\"\n",
        "    )\n",
        "\n",
        "    # Define Training Arguments\n",
        "    # training_args = TrainingArguments(\n",
        "    #     output_dir=output_dir,\n",
        "    #     eval_strategy=\"epoch\",\n",
        "    #     save_strategy=\"epoch\",\n",
        "    #     learning_rate=1e-4,\n",
        "    #     per_device_train_batch_size=4,\n",
        "    #     per_device_eval_batch_size=4,\n",
        "    #     gradient_accumulation_steps=2,\n",
        "    #     num_train_epochs=10,\n",
        "    #     seed=42,\n",
        "    #     fp16=True,\n",
        "    #     save_total_limit=2,\n",
        "    #     # load_best_model_at_end=True,\n",
        "    #     metric_for_best_model=\"accuracy\",\n",
        "    #     greater_is_better=True,\n",
        "    #     logging_steps=10,\n",
        "    #     lr_scheduler_type=\"linear\"\n",
        "    # )\n",
        "    training_args = TrainingArguments(\n",
        "        output_dir=output_dir,\n",
        "        eval_strategy=\"epoch\",\n",
        "        save_strategy=\"epoch\",\n",
        "        learning_rate=3e-5,                          # ✅ lebih kecil → stabil untuk data kecil\n",
        "        per_device_train_batch_size=2,              # ✅ batch kecil → lebih hati-hati\n",
        "        per_device_eval_batch_size=2,\n",
        "        gradient_accumulation_steps=4,              # ✅ agar batch efektif tetap besar\n",
        "        num_train_epochs=10,                        # ✅ cukup banyak, tapi early stopping akan batasi\n",
        "        warmup_ratio=0.1,                           # ✅ pemanasan, penting untuk dataset kecil\n",
        "        weight_decay=0.01,                          # ✅ regularisasi ringan\n",
        "        logging_steps=10,\n",
        "        seed=42,\n",
        "        fp16=True,\n",
        "        save_total_limit=2,\n",
        "        load_best_model_at_end=True,\n",
        "        metric_for_best_model=\"accuracy\",\n",
        "        greater_is_better=True,\n",
        "        lr_scheduler_type=\"linear\"\n",
        "    )\n",
        "\n",
        "    # Define Trainer\n",
        "    trainer = Trainer(\n",
        "        model=model,\n",
        "        args=training_args,\n",
        "        train_dataset=train_dataset,\n",
        "        eval_dataset=eval_dataset,\n",
        "        tokenizer=processor,\n",
        "        compute_metrics=compute_metrics,\n",
        "        callbacks=[\n",
        "            EarlyStoppingCallback(early_stopping_patience=3)\n",
        "        ]\n",
        "    )\n",
        "\n",
        "    # === TRAIN ===\n",
        "    trainer.train()\n",
        "    trainer.evaluate()\n",
        "\n",
        "    # === PREDICT ON TEST SET ===\n",
        "    predictions = trainer.predict(eval_dataset)\n",
        "    preds = np.argmax(predictions.predictions, axis=1)\n",
        "    labels = predictions.label_ids\n",
        "\n",
        "    # === CLASSIFICATION REPORT ===\n",
        "    print(\"\\n=== Classification Report ===\")\n",
        "    target_names = [id2label[i] for i in sorted(id2label.keys())]\n",
        "    report_text = classification_report(labels, preds, target_names=target_names)\n",
        "    print(report_text)\n",
        "\n",
        "    # Save Classification Report to CSV\n",
        "    report_dict = classification_report(labels, preds, target_names=target_names, output_dict=True)\n",
        "    pd.DataFrame(report_dict).transpose().to_csv(os.path.join(output_dir, \"classification_report.csv\"))\n",
        "    print(f\"\\n✅ Classification report saved to: {output_dir}/classification_report.csv\")\n",
        "\n",
        "    # === CONFUSION MATRICES ===\n",
        "    os.makedirs(os.path.join(output_dir, \"confusion_matrices\"), exist_ok=True)\n",
        "\n",
        "    # Raw Confusion Matrix\n",
        "    cm_raw = confusion_matrix(labels, preds)\n",
        "    fig, ax = plt.subplots(figsize=(8, 8))\n",
        "    disp = ConfusionMatrixDisplay(confusion_matrix=cm_raw, display_labels=target_names)\n",
        "    disp.plot(ax=ax, cmap=\"Blues\", values_format=\"d\", xticks_rotation=45)\n",
        "    plt.title(\"Confusion Matrix (Raw)\")\n",
        "    raw_path = os.path.join(output_dir, \"confusion_matrices\", \"confusion_matrix_raw.png\")\n",
        "    plt.savefig(raw_path)\n",
        "    plt.show()\n",
        "\n",
        "    # Normalized Confusion Matrix\n",
        "    cm_norm = confusion_matrix(labels, preds, normalize=\"true\")\n",
        "    fig, ax = plt.subplots(figsize=(8, 8))\n",
        "    disp = ConfusionMatrixDisplay(confusion_matrix=cm_norm, display_labels=target_names)\n",
        "    disp.plot(ax=ax, cmap=\"Greens\", values_format=\".2f\", xticks_rotation=45)\n",
        "    plt.title(\"Confusion Matrix (Normalized)\")\n",
        "    norm_path = os.path.join(output_dir, \"confusion_matrices\", \"confusion_matrix_normalized.png\")\n",
        "    plt.savefig(norm_path)\n",
        "    plt.show()\n",
        "\n",
        "    print(f\"\\n✅ Confusion matrices saved to: {os.path.join(output_dir, 'confusion_matrices')}\")"
      ],
      "metadata": {
        "id": "hI8XHZsKhlU7"
      },
      "execution_count": 7,
      "outputs": []
    },
    {
      "cell_type": "code",
      "source": [
        "# =========================================================\n",
        "# === 5. MAIN PIPELINE\n",
        "# =========================================================\n",
        "\n",
        "# 5.1 Config\n",
        "allowed_labels = [\"disgust\", \"happy\", \"neutral\", \"surprise\"]\n",
        "data_dir = \"/content/drive/MyDrive/dataset/datasetindo_sorted_preprocess_4s\"\n",
        "output_dir = \"/content/drive/MyDrive/model/hasil-train-wav2vec2--basemodel/indonesia\"\n",
        "\n",
        "# 5.2 Load Data\n",
        "df = load_data_from_folder(data_dir, allowed_labels)\n",
        "df, label2id, id2label = encode_labels(df)\n",
        "train_df, test_df = stratified_split(df)\n",
        "\n",
        "print(\"\\n✅ Data Loaded\")\n",
        "print(df.head())\n",
        "print(df['label'].value_counts())\n",
        "print(\"\\nTrain Split:\")\n",
        "print(train_df['label'].value_counts())\n",
        "print(\"\\nTest Split:\")\n",
        "print(test_df['label'].value_counts())"
      ],
      "metadata": {
        "colab": {
          "base_uri": "https://localhost:8080/"
        },
        "id": "0b9n8Fz9hxKO",
        "outputId": "b6b623a2-419b-4bcb-d7a6-22276f00f6c4"
      },
      "execution_count": 8,
      "outputs": [
        {
          "output_type": "stream",
          "name": "stdout",
          "text": [
            "\n",
            "✅ Data Loaded\n",
            "                                                path    label  label_id\n",
            "0  /content/drive/MyDrive/dataset/datasetindo_sor...  neutral         2\n",
            "1  /content/drive/MyDrive/dataset/datasetindo_sor...  neutral         2\n",
            "2  /content/drive/MyDrive/dataset/datasetindo_sor...  neutral         2\n",
            "3  /content/drive/MyDrive/dataset/datasetindo_sor...  neutral         2\n",
            "4  /content/drive/MyDrive/dataset/datasetindo_sor...  neutral         2\n",
            "label\n",
            "neutral     60\n",
            "surprise    60\n",
            "disgust     60\n",
            "happy       60\n",
            "Name: count, dtype: int64\n",
            "\n",
            "Train Split:\n",
            "label\n",
            "happy       48\n",
            "neutral     48\n",
            "surprise    48\n",
            "disgust     48\n",
            "Name: count, dtype: int64\n",
            "\n",
            "Test Split:\n",
            "label\n",
            "disgust     12\n",
            "surprise    12\n",
            "neutral     12\n",
            "happy       12\n",
            "Name: count, dtype: int64\n"
          ]
        }
      ]
    },
    {
      "cell_type": "code",
      "source": [
        "# 5.3 Load Processor\n",
        "processor = Wav2Vec2Processor.from_pretrained(\"facebook/wav2vec2-base\")\n",
        "print(\"\\n✅ Processor Loaded\")\n"
      ],
      "metadata": {
        "colab": {
          "base_uri": "https://localhost:8080/"
        },
        "id": "7Pxm4Sqijo4-",
        "outputId": "1ee18c4b-6e04-4800-9686-0fcd503159b9"
      },
      "execution_count": 9,
      "outputs": [
        {
          "output_type": "stream",
          "name": "stderr",
          "text": [
            "/usr/local/lib/python3.11/dist-packages/huggingface_hub/utils/_auth.py:94: UserWarning: \n",
            "The secret `HF_TOKEN` does not exist in your Colab secrets.\n",
            "To authenticate with the Hugging Face Hub, create a token in your settings tab (https://huggingface.co/settings/tokens), set it as secret in your Google Colab and restart your session.\n",
            "You will be able to reuse this secret in all of your notebooks.\n",
            "Please note that authentication is recommended but still optional to access public models or datasets.\n",
            "  warnings.warn(\n",
            "/usr/local/lib/python3.11/dist-packages/transformers/configuration_utils.py:309: UserWarning: Passing `gradient_checkpointing` to a config initialization is deprecated and will be removed in v5 Transformers. Using `model.gradient_checkpointing_enable()` instead, or if you are using the `Trainer` API, pass `gradient_checkpointing=True` in your `TrainingArguments`.\n",
            "  warnings.warn(\n"
          ]
        },
        {
          "output_type": "stream",
          "name": "stdout",
          "text": [
            "\n",
            "✅ Processor Loaded\n"
          ]
        }
      ]
    },
    {
      "cell_type": "code",
      "source": [
        "# 5.4 Prepare HF Dataset\n",
        "train_dataset, eval_dataset = prepare_hf_dataset(train_df, test_df, processor)\n",
        "print(\"\\n✅ Dataset Prepared\")\n",
        "print(train_dataset)\n",
        "print(train_dataset.features)"
      ],
      "metadata": {
        "colab": {
          "base_uri": "https://localhost:8080/",
          "height": 203,
          "referenced_widgets": [
            "d66fdb792f3d4a5893ada02593e73e5e",
            "1cd14a2a3633498a8842ffc717425f92",
            "522c1f79337145cfbcb90aa404cca7a0",
            "35494ad39f6c4c23828354cf4d290cfc",
            "15ce62c19e514f11b623bba60761032d",
            "72a3a24beb1f4ccf9dbf9676bdc7e180",
            "c2a18b87b1504476b2362db64de27614",
            "84cee8717bed4dfebab3d82ecb850d10",
            "221b90835dfd4e96b25f2feac9cb5359",
            "a48617d48cd24c95adf879a915a0543f",
            "4e7fde08009542f195ab20b5fa996706",
            "35d429e43e3149cb98cd1acbc6a51ad9",
            "210fd1feb8a94f84b18104dd4c066736",
            "a0a27e18d49c4224bf3812b5c3b46dea",
            "dc0035f711a94b91851e1a028c925f5b",
            "378de3db5a7d444e8743ba8ee4bea341",
            "a97068cf5d244a83a8bb81c993db527c",
            "edc1e30a765243dea49ca3399acc806c",
            "d9847d75e6294ba986fa188dad71410e",
            "4266d3388f114283b30b194f201de8de",
            "6e36350a610845efb667f7ed86b1cfd0",
            "4aca6b16692f4989bf09039504507f4d"
          ]
        },
        "id": "cXno7FE3j9g9",
        "outputId": "aecb0f48-acaf-4d6a-db0d-0bcd9be9e18f"
      },
      "execution_count": 10,
      "outputs": [
        {
          "output_type": "display_data",
          "data": {
            "text/plain": [
              "Map:   0%|          | 0/192 [00:00<?, ? examples/s]"
            ],
            "application/vnd.jupyter.widget-view+json": {
              "version_major": 2,
              "version_minor": 0,
              "model_id": "d66fdb792f3d4a5893ada02593e73e5e"
            }
          },
          "metadata": {}
        },
        {
          "output_type": "display_data",
          "data": {
            "text/plain": [
              "Map:   0%|          | 0/48 [00:00<?, ? examples/s]"
            ],
            "application/vnd.jupyter.widget-view+json": {
              "version_major": 2,
              "version_minor": 0,
              "model_id": "35d429e43e3149cb98cd1acbc6a51ad9"
            }
          },
          "metadata": {}
        },
        {
          "output_type": "stream",
          "name": "stdout",
          "text": [
            "\n",
            "✅ Dataset Prepared\n",
            "Dataset({\n",
            "    features: ['label_id', 'input_values', 'labels'],\n",
            "    num_rows: 192\n",
            "})\n",
            "{'label_id': Value(dtype='int64', id=None), 'input_values': Sequence(feature=Value(dtype='float32', id=None), length=-1, id=None), 'labels': Value(dtype='int64', id=None)}\n"
          ]
        }
      ]
    },
    {
      "cell_type": "code",
      "source": [
        "import wandb\n",
        "wandb.init(mode=\"disabled\")"
      ],
      "metadata": {
        "colab": {
          "base_uri": "https://localhost:8080/",
          "height": 38
        },
        "id": "B4-hNogKl-MB",
        "outputId": "01140dda-e3ba-49c3-cff6-5b0130c57f20"
      },
      "execution_count": 11,
      "outputs": [
        {
          "output_type": "execute_result",
          "data": {
            "text/html": [
              "<button onClick=\"this.nextSibling.style.display='block';this.style.display='none';\">Display W&B run</button><iframe src='https://wandb.ai/dummy/dummy/runs/4fuoqwpc?jupyter=true' style='border:none;width:100%;height:420px;display:none;'></iframe>"
            ],
            "text/plain": [
              "<wandb.sdk.wandb_run.Run at 0x7a3b7e0bc5d0>"
            ]
          },
          "metadata": {},
          "execution_count": 11
        }
      ]
    },
    {
      "cell_type": "code",
      "source": [
        "# 5.6 Train Model\n",
        "train_model(train_dataset, eval_dataset, label2id, id2label, processor, output_dir)"
      ],
      "metadata": {
        "colab": {
          "base_uri": "https://localhost:8080/",
          "height": 1000
        },
        "id": "UDZUKsUukAcc",
        "outputId": "f2ca43b1-b317-4864-a075-d0829b77a653"
      },
      "execution_count": 12,
      "outputs": [
        {
          "output_type": "stream",
          "name": "stderr",
          "text": [
            "/usr/local/lib/python3.11/dist-packages/transformers/configuration_utils.py:309: UserWarning: Passing `gradient_checkpointing` to a config initialization is deprecated and will be removed in v5 Transformers. Using `model.gradient_checkpointing_enable()` instead, or if you are using the `Trainer` API, pass `gradient_checkpointing=True` in your `TrainingArguments`.\n",
            "  warnings.warn(\n",
            "Some weights of Wav2Vec2ForSequenceClassification were not initialized from the model checkpoint at facebook/wav2vec2-base and are newly initialized: ['classifier.bias', 'classifier.weight', 'projector.bias', 'projector.weight']\n",
            "You should probably TRAIN this model on a down-stream task to be able to use it for predictions and inference.\n",
            "/tmp/ipython-input-7-153388167.py:60: FutureWarning: `tokenizer` is deprecated and will be removed in version 5.0.0 for `Trainer.__init__`. Use `processing_class` instead.\n",
            "  trainer = Trainer(\n",
            "\u001b[34m\u001b[1mwandb\u001b[0m: \u001b[33mWARNING\u001b[0m The `run_name` is currently set to the same value as `TrainingArguments.output_dir`. If this was not intended, please specify a different run name by setting the `TrainingArguments.run_name` parameter.\n"
          ]
        },
        {
          "output_type": "display_data",
          "data": {
            "text/plain": [
              "<IPython.core.display.HTML object>"
            ],
            "text/html": [
              "\n",
              "    <div>\n",
              "      \n",
              "      <progress value='192' max='240' style='width:300px; height:20px; vertical-align: middle;'></progress>\n",
              "      [192/240 04:32 < 01:08, 0.70 it/s, Epoch 8/10]\n",
              "    </div>\n",
              "    <table border=\"1\" class=\"dataframe\">\n",
              "  <thead>\n",
              " <tr style=\"text-align: left;\">\n",
              "      <th>Epoch</th>\n",
              "      <th>Training Loss</th>\n",
              "      <th>Validation Loss</th>\n",
              "      <th>Accuracy</th>\n",
              "      <th>F1</th>\n",
              "      <th>Precision</th>\n",
              "      <th>Recall</th>\n",
              "    </tr>\n",
              "  </thead>\n",
              "  <tbody>\n",
              "    <tr>\n",
              "      <td>1</td>\n",
              "      <td>1.385400</td>\n",
              "      <td>1.371623</td>\n",
              "      <td>0.270833</td>\n",
              "      <td>0.139163</td>\n",
              "      <td>0.190217</td>\n",
              "      <td>0.270833</td>\n",
              "    </tr>\n",
              "    <tr>\n",
              "      <td>2</td>\n",
              "      <td>1.332300</td>\n",
              "      <td>1.209920</td>\n",
              "      <td>0.583333</td>\n",
              "      <td>0.491814</td>\n",
              "      <td>0.669258</td>\n",
              "      <td>0.583333</td>\n",
              "    </tr>\n",
              "    <tr>\n",
              "      <td>3</td>\n",
              "      <td>1.075500</td>\n",
              "      <td>1.169149</td>\n",
              "      <td>0.500000</td>\n",
              "      <td>0.402632</td>\n",
              "      <td>0.370879</td>\n",
              "      <td>0.500000</td>\n",
              "    </tr>\n",
              "    <tr>\n",
              "      <td>4</td>\n",
              "      <td>0.937700</td>\n",
              "      <td>0.946645</td>\n",
              "      <td>0.750000</td>\n",
              "      <td>0.738529</td>\n",
              "      <td>0.835883</td>\n",
              "      <td>0.750000</td>\n",
              "    </tr>\n",
              "    <tr>\n",
              "      <td>5</td>\n",
              "      <td>0.693400</td>\n",
              "      <td>0.586149</td>\n",
              "      <td>0.937500</td>\n",
              "      <td>0.937291</td>\n",
              "      <td>0.941558</td>\n",
              "      <td>0.937500</td>\n",
              "    </tr>\n",
              "    <tr>\n",
              "      <td>6</td>\n",
              "      <td>0.508400</td>\n",
              "      <td>0.504626</td>\n",
              "      <td>0.916667</td>\n",
              "      <td>0.915898</td>\n",
              "      <td>0.925000</td>\n",
              "      <td>0.916667</td>\n",
              "    </tr>\n",
              "    <tr>\n",
              "      <td>7</td>\n",
              "      <td>0.329400</td>\n",
              "      <td>0.462477</td>\n",
              "      <td>0.916667</td>\n",
              "      <td>0.915638</td>\n",
              "      <td>0.930769</td>\n",
              "      <td>0.916667</td>\n",
              "    </tr>\n",
              "    <tr>\n",
              "      <td>8</td>\n",
              "      <td>0.240300</td>\n",
              "      <td>0.374308</td>\n",
              "      <td>0.937500</td>\n",
              "      <td>0.936508</td>\n",
              "      <td>0.950000</td>\n",
              "      <td>0.937500</td>\n",
              "    </tr>\n",
              "  </tbody>\n",
              "</table><p>"
            ]
          },
          "metadata": {}
        },
        {
          "output_type": "stream",
          "name": "stderr",
          "text": [
            "/usr/local/lib/python3.11/dist-packages/sklearn/metrics/_classification.py:1565: UndefinedMetricWarning: Precision is ill-defined and being set to 0.0 in labels with no predicted samples. Use `zero_division` parameter to control this behavior.\n",
            "  _warn_prf(average, modifier, f\"{metric.capitalize()} is\", len(result))\n",
            "/usr/local/lib/python3.11/dist-packages/sklearn/metrics/_classification.py:1565: UndefinedMetricWarning: Precision is ill-defined and being set to 0.0 in labels with no predicted samples. Use `zero_division` parameter to control this behavior.\n",
            "  _warn_prf(average, modifier, f\"{metric.capitalize()} is\", len(result))\n"
          ]
        },
        {
          "output_type": "display_data",
          "data": {
            "text/plain": [
              "<IPython.core.display.HTML object>"
            ],
            "text/html": []
          },
          "metadata": {}
        },
        {
          "output_type": "stream",
          "name": "stdout",
          "text": [
            "\n",
            "=== Classification Report ===\n",
            "              precision    recall  f1-score   support\n",
            "\n",
            "     disgust       0.91      0.83      0.87        12\n",
            "       happy       1.00      0.92      0.96        12\n",
            "     neutral       0.86      1.00      0.92        12\n",
            "    surprise       1.00      1.00      1.00        12\n",
            "\n",
            "    accuracy                           0.94        48\n",
            "   macro avg       0.94      0.94      0.94        48\n",
            "weighted avg       0.94      0.94      0.94        48\n",
            "\n",
            "\n",
            "✅ Classification report saved to: /content/drive/MyDrive/model/hasil-train-wav2vec2--basemodel/indonesia/classification_report.csv\n"
          ]
        },
        {
          "output_type": "display_data",
          "data": {
            "text/plain": [
              "<Figure size 800x800 with 2 Axes>"
            ],
            "image/png": "[encoded data removed]"
          },
          "metadata": {}
        },
        {
          "output_type": "display_data",
          "data": {
            "text/plain": [
              "<Figure size 800x800 with 2 Axes>"
            ],
            "image/png": "[encoded data removed]"
          },
          "metadata": {}
        },
        {
          "output_type": "stream",
          "name": "stdout",
          "text": [
            "\n",
            "✅ Confusion matrices saved to: /content/drive/MyDrive/model/hasil-train-wav2vec2--basemodel/indonesia/confusion_matrices\n"
          ]
        }
      ]
    },
    {
      "cell_type": "code",
      "source": [],
      "metadata": {
        "id": "m3FDH5APtXkc"
      },
      "execution_count": null,
      "outputs": []
    },
    {
      "cell_type": "markdown",
      "source": [
        "## train model 2 (bhs inggris) wav2vec 2.0 base model (parameter sama dgn pretrained)"
      ],
      "metadata": {
        "id": "h_AjLvKqtX2-"
      }
    },
    {
      "cell_type": "code",
      "source": [
        "# =========================================================\n",
        "# === 0. IMPORT\n",
        "# =========================================================\n",
        "\n",
        "import os\n",
        "import numpy as np\n",
        "import pandas as pd\n",
        "import matplotlib.pyplot as plt\n",
        "import torch\n",
        "\n",
        "from sklearn.model_selection import train_test_split\n",
        "from sklearn.metrics import (\n",
        "    accuracy_score, f1_score, precision_score, recall_score,\n",
        "    confusion_matrix, ConfusionMatrixDisplay, classification_report\n",
        ")\n",
        "\n",
        "from datasets import Dataset, Audio\n",
        "from transformers import (\n",
        "    Wav2Vec2Processor,\n",
        "    Wav2Vec2ForSequenceClassification,\n",
        "    TrainingArguments,\n",
        "    Trainer,\n",
        "    EarlyStoppingCallback\n",
        ")"
      ],
      "metadata": {
        "id": "-pr5_eeDtX2-"
      },
      "execution_count": 1,
      "outputs": []
    },
    {
      "cell_type": "code",
      "source": [
        "def load_data_from_folder(data_dir, allowed_labels):\n",
        "    all_data = []\n",
        "    for label in os.listdir(data_dir):\n",
        "        if label.lower() in allowed_labels:\n",
        "            label_dir = os.path.join(data_dir, label)\n",
        "            for file in os.listdir(label_dir):\n",
        "                if file.endswith(\".wav\"):\n",
        "                    all_data.append({\n",
        "                        \"path\": os.path.join(label_dir, file),\n",
        "                        \"label\": label.lower()\n",
        "                    })\n",
        "    df = pd.DataFrame(all_data)\n",
        "    return df"
      ],
      "metadata": {
        "id": "kYsVu8N6tX2-"
      },
      "execution_count": 2,
      "outputs": []
    },
    {
      "cell_type": "code",
      "source": [
        "def encode_labels(df):\n",
        "    unique_labels = sorted(df[\"label\"].unique())\n",
        "    label2id = {label: idx for idx, label in enumerate(unique_labels)}\n",
        "    id2label = {v: k for k, v in label2id.items()}\n",
        "    df[\"label_id\"] = df[\"label\"].map(label2id)\n",
        "    return df, label2id, id2label\n"
      ],
      "metadata": {
        "id": "9h2jtnYXtX2-"
      },
      "execution_count": 3,
      "outputs": []
    },
    {
      "cell_type": "code",
      "source": [
        "def stratified_split(df, test_size=0.2, seed=42):\n",
        "    train_df, test_df = train_test_split(\n",
        "        df,\n",
        "        test_size=test_size,\n",
        "        stratify=df[\"label\"],\n",
        "        random_state=seed\n",
        "    )\n",
        "    return train_df.reset_index(drop=True), test_df.reset_index(drop=True)"
      ],
      "metadata": {
        "id": "7twDRwX2tX2-"
      },
      "execution_count": 4,
      "outputs": []
    },
    {
      "cell_type": "code",
      "source": [
        "# =========================================================\n",
        "# === 2. PREPARE HF DATASET\n",
        "# =========================================================\n",
        "\n",
        "def prepare_hf_dataset(train_df, test_df, processor):\n",
        "    train_dataset = Dataset.from_pandas(train_df)\n",
        "    test_dataset = Dataset.from_pandas(test_df)\n",
        "\n",
        "    train_dataset = train_dataset.cast_column(\"path\", Audio(sampling_rate=16000))\n",
        "    test_dataset = test_dataset.cast_column(\"path\", Audio(sampling_rate=16000))\n",
        "\n",
        "    def preprocess(batch):\n",
        "        audio_arrays = [x[\"array\"] for x in batch[\"path\"]]\n",
        "        inputs = processor(audio_arrays, sampling_rate=16000, padding=True, return_tensors=\"pt\")\n",
        "        inputs[\"labels\"] = batch[\"label_id\"]\n",
        "        return inputs\n",
        "\n",
        "    train_dataset = train_dataset.map(preprocess, batched=True, remove_columns=[\"path\", \"label\"])\n",
        "    test_dataset = test_dataset.map(preprocess, batched=True, remove_columns=[\"path\", \"label\"])\n",
        "\n",
        "    return train_dataset, test_dataset"
      ],
      "metadata": {
        "id": "Z14kesrgtX2_"
      },
      "execution_count": 5,
      "outputs": []
    },
    {
      "cell_type": "code",
      "source": [
        "# =========================================================\n",
        "# === 3. METRICS\n",
        "# =========================================================\n",
        "\n",
        "def compute_metrics(pred):\n",
        "    preds = np.argmax(pred.predictions, axis=1)\n",
        "    labels = pred.label_ids\n",
        "    return {\n",
        "        \"accuracy\": accuracy_score(labels, preds),\n",
        "        \"f1\": f1_score(labels, preds, average='weighted'),\n",
        "        \"precision\": precision_score(labels, preds, average='weighted'),\n",
        "        \"recall\": recall_score(labels, preds, average='weighted')\n",
        "    }"
      ],
      "metadata": {
        "id": "wsK7PYKvtX2_"
      },
      "execution_count": 7,
      "outputs": []
    },
    {
      "cell_type": "code",
      "source": [
        "def train_model(\n",
        "    train_dataset,\n",
        "    eval_dataset,\n",
        "    label2id,\n",
        "    id2label,\n",
        "    processor,\n",
        "    output_dir\n",
        "):\n",
        "\n",
        "    # Load Pretrained Model\n",
        "    model = Wav2Vec2ForSequenceClassification.from_pretrained(\n",
        "        \"facebook/wav2vec2-base\",\n",
        "        num_labels=len(label2id),\n",
        "        label2id=label2id,\n",
        "        id2label=id2label,\n",
        "        problem_type=\"single_label_classification\"\n",
        "    )\n",
        "\n",
        "    # Define Training Arguments\n",
        "    # training_args = TrainingArguments(\n",
        "    #     output_dir=output_dir,\n",
        "    #     eval_strategy=\"epoch\",\n",
        "    #     save_strategy=\"epoch\",\n",
        "    #     learning_rate=2e-5,\n",
        "    #     per_device_train_batch_size=8,\n",
        "    #     per_device_eval_batch_size=8,\n",
        "    #     gradient_accumulation_steps=2,\n",
        "    #     num_train_epochs=12,\n",
        "    #     warmup_ratio=0.1,\n",
        "    #     weight_decay=0.005,\n",
        "    #     logging_steps=10,\n",
        "    #     seed=42,\n",
        "    #     fp16=True,\n",
        "    #     save_total_limit=2,\n",
        "    #     load_best_model_at_end=True,\n",
        "    #     metric_for_best_model=\"accuracy\",\n",
        "    #     greater_is_better=True,\n",
        "    #     lr_scheduler_type=\"cosine\"\n",
        "    # )\n",
        "    # training_args = TrainingArguments(\n",
        "    #     output_dir=output_dir,\n",
        "    #     eval_strategy=\"epoch\",\n",
        "    #     save_strategy=\"epoch\",\n",
        "    #     learning_rate=1e-4,\n",
        "    #     per_device_train_batch_size=4,\n",
        "    #     per_device_eval_batch_size=4,\n",
        "    #     gradient_accumulation_steps=2,\n",
        "    #     num_train_epochs=10,\n",
        "    #     seed=42,\n",
        "    #     fp16=True,\n",
        "    #     save_total_limit=2,\n",
        "    #     # load_best_model_at_end=True,\n",
        "    #     metric_for_best_model=\"accuracy\",\n",
        "    #     greater_is_better=True,\n",
        "    #     logging_steps=10,\n",
        "    #     lr_scheduler_type=\"linear\"\n",
        "    # )\n",
        "\n",
        "    training_args = TrainingArguments(\n",
        "        output_dir=output_dir,\n",
        "        eval_strategy=\"epoch\",\n",
        "        save_strategy=\"epoch\",\n",
        "        learning_rate=3e-5,                          # ✅ lebih kecil → stabil untuk data kecil\n",
        "        per_device_train_batch_size=2,              # ✅ batch kecil → lebih hati-hati\n",
        "        per_device_eval_batch_size=2,\n",
        "        gradient_accumulation_steps=4,              # ✅ agar batch efektif tetap besar\n",
        "        num_train_epochs=10,                        # ✅ cukup banyak, tapi early stopping akan batasi\n",
        "        warmup_ratio=0.1,                           # ✅ pemanasan, penting untuk dataset kecil\n",
        "        weight_decay=0.01,                          # ✅ regularisasi ringan\n",
        "        logging_steps=10,\n",
        "        seed=42,\n",
        "        fp16=True,\n",
        "        save_total_limit=2,\n",
        "        load_best_model_at_end=True,\n",
        "        metric_for_best_model=\"accuracy\",\n",
        "        greater_is_better=True,\n",
        "        lr_scheduler_type=\"linear\"\n",
        "    )\n",
        "\n",
        "    # Define Trainer\n",
        "    trainer = Trainer(\n",
        "        model=model,\n",
        "        args=training_args,\n",
        "        train_dataset=train_dataset,\n",
        "        eval_dataset=eval_dataset,\n",
        "        tokenizer=processor,\n",
        "        compute_metrics=compute_metrics,\n",
        "        callbacks=[\n",
        "            EarlyStoppingCallback(early_stopping_patience=3)\n",
        "        ]\n",
        "    )\n",
        "\n",
        "    # === TRAIN ===\n",
        "    trainer.train()\n",
        "    trainer.evaluate()\n",
        "\n",
        "    # === PREDICT ON TEST SET ===\n",
        "    predictions = trainer.predict(eval_dataset)\n",
        "    preds = np.argmax(predictions.predictions, axis=1)\n",
        "    labels = predictions.label_ids\n",
        "\n",
        "    # === CLASSIFICATION REPORT ===\n",
        "    print(\"\\n=== Classification Report ===\")\n",
        "    target_names = [id2label[i] for i in sorted(id2label.keys())]\n",
        "    report_text = classification_report(labels, preds, target_names=target_names)\n",
        "    print(report_text)\n",
        "\n",
        "    # Save Classification Report to CSV\n",
        "    report_dict = classification_report(labels, preds, target_names=target_names, output_dict=True)\n",
        "    pd.DataFrame(report_dict).transpose().to_csv(os.path.join(output_dir, \"classification_report.csv\"))\n",
        "    print(f\"\\n✅ Classification report saved to: {output_dir}/classification_report.csv\")\n",
        "\n",
        "    # === CONFUSION MATRICES ===\n",
        "    os.makedirs(os.path.join(output_dir, \"confusion_matrices\"), exist_ok=True)\n",
        "\n",
        "    # Raw Confusion Matrix\n",
        "    cm_raw = confusion_matrix(labels, preds)\n",
        "    fig, ax = plt.subplots(figsize=(8, 8))\n",
        "    disp = ConfusionMatrixDisplay(confusion_matrix=cm_raw, display_labels=target_names)\n",
        "    disp.plot(ax=ax, cmap=\"Blues\", values_format=\"d\", xticks_rotation=45)\n",
        "    plt.title(\"Confusion Matrix (Raw)\")\n",
        "    raw_path = os.path.join(output_dir, \"confusion_matrices\", \"confusion_matrix_raw.png\")\n",
        "    plt.savefig(raw_path)\n",
        "    plt.show()\n",
        "\n",
        "    # Normalized Confusion Matrix\n",
        "    cm_norm = confusion_matrix(labels, preds, normalize=\"true\")\n",
        "    fig, ax = plt.subplots(figsize=(8, 8))\n",
        "    disp = ConfusionMatrixDisplay(confusion_matrix=cm_norm, display_labels=target_names)\n",
        "    disp.plot(ax=ax, cmap=\"Greens\", values_format=\".2f\", xticks_rotation=45)\n",
        "    plt.title(\"Confusion Matrix (Normalized)\")\n",
        "    norm_path = os.path.join(output_dir, \"confusion_matrices\", \"confusion_matrix_normalized.png\")\n",
        "    plt.savefig(norm_path)\n",
        "    plt.show()\n",
        "\n",
        "    print(f\"\\n✅ Confusion matrices saved to: {os.path.join(output_dir, 'confusion_matrices')}\")"
      ],
      "metadata": {
        "id": "c1p60kSxtX2_"
      },
      "execution_count": 14,
      "outputs": []
    },
    {
      "cell_type": "code",
      "source": [
        "# =========================================================\n",
        "# === 5. MAIN PIPELINE\n",
        "# =========================================================\n",
        "\n",
        "# 5.1 Config\n",
        "allowed_labels = [\"disgust\", \"happy\", \"neutral\", \"surprise\"]\n",
        "data_dir = \"/content/drive/MyDrive/dataset/normalized_audio_emotions\"\n",
        "output_dir = \"/content/drive/MyDrive/model/hasil-train-wav2vec2--basemodel/inggris\"\n",
        "\n",
        "# 5.2 Load Data\n",
        "df = load_data_from_folder(data_dir, allowed_labels)\n",
        "df, label2id, id2label = encode_labels(df)\n",
        "train_df, test_df = stratified_split(df)\n",
        "\n",
        "print(\"\\n✅ Data Loaded\")\n",
        "print(df.head())\n",
        "print(df['label'].value_counts())\n",
        "print(\"\\nTrain Split:\")\n",
        "print(train_df['label'].value_counts())\n",
        "print(\"\\nTest Split:\")\n",
        "print(test_df['label'].value_counts())"
      ],
      "metadata": {
        "colab": {
          "base_uri": "https://localhost:8080/"
        },
        "outputId": "a7ba3633-6df4-4b48-9654-7f51ee927b73",
        "id": "sXtcD5g9tX3A"
      },
      "execution_count": 15,
      "outputs": [
        {
          "output_type": "stream",
          "name": "stdout",
          "text": [
            "\n",
            "✅ Data Loaded\n",
            "                                                path     label  label_id\n",
            "0  /content/drive/MyDrive/dataset/normalized_audi...  surprise         3\n",
            "1  /content/drive/MyDrive/dataset/normalized_audi...  surprise         3\n",
            "2  /content/drive/MyDrive/dataset/normalized_audi...  surprise         3\n",
            "3  /content/drive/MyDrive/dataset/normalized_audi...  surprise         3\n",
            "4  /content/drive/MyDrive/dataset/normalized_audi...  surprise         3\n",
            "label\n",
            "surprise    60\n",
            "disgust     60\n",
            "neutral     60\n",
            "happy       60\n",
            "Name: count, dtype: int64\n",
            "\n",
            "Train Split:\n",
            "label\n",
            "happy       48\n",
            "neutral     48\n",
            "surprise    48\n",
            "disgust     48\n",
            "Name: count, dtype: int64\n",
            "\n",
            "Test Split:\n",
            "label\n",
            "disgust     12\n",
            "surprise    12\n",
            "neutral     12\n",
            "happy       12\n",
            "Name: count, dtype: int64\n"
          ]
        }
      ]
    },
    {
      "cell_type": "code",
      "source": [
        "# 5.3 Load Processor\n",
        "processor = Wav2Vec2Processor.from_pretrained(\"facebook/wav2vec2-base\")\n",
        "print(\"\\n✅ Processor Loaded\")\n"
      ],
      "metadata": {
        "colab": {
          "base_uri": "https://localhost:8080/"
        },
        "outputId": "0a19fae9-d7e1-4226-ac2c-7434ae159dab",
        "id": "Y-r4_5vmtX3A"
      },
      "execution_count": 16,
      "outputs": [
        {
          "output_type": "stream",
          "name": "stderr",
          "text": [
            "/usr/local/lib/python3.11/dist-packages/transformers/configuration_utils.py:309: UserWarning: Passing `gradient_checkpointing` to a config initialization is deprecated and will be removed in v5 Transformers. Using `model.gradient_checkpointing_enable()` instead, or if you are using the `Trainer` API, pass `gradient_checkpointing=True` in your `TrainingArguments`.\n",
            "  warnings.warn(\n"
          ]
        },
        {
          "output_type": "stream",
          "name": "stdout",
          "text": [
            "\n",
            "✅ Processor Loaded\n"
          ]
        }
      ]
    },
    {
      "cell_type": "code",
      "source": [
        "# 5.4 Prepare HF Dataset\n",
        "train_dataset, eval_dataset = prepare_hf_dataset(train_df, test_df, processor)\n",
        "print(\"\\n✅ Dataset Prepared\")\n",
        "print(train_dataset)\n",
        "print(train_dataset.features)"
      ],
      "metadata": {
        "colab": {
          "base_uri": "https://localhost:8080/",
          "height": 203,
          "referenced_widgets": [
            "6eb02a4b7c624ad9911776754e75d668",
            "af28310e89cf43b09331eb8ca65aaf59",
            "644397cdc2e44396a4dfcee32557d26c",
            "c9cac9ead20a49b88e38df21d5111baf",
            "173ee9e06ac0441b85a205fb06dcfa31",
            "3f0bdecaf448437b9150a58bef1cf716",
            "1d2cc05c2af74d03864318637d37f40a",
            "d647bf4f61b84c25a226c5fe99a9b742",
            "865e7fa5279a4e04b660ce691d6aee07",
            "8efc5fae50fe4706bdff84aea21c7046",
            "20eebf5dc9e546c6b3b309ea17caf047",
            "a30b9389e8a64ec8af1b2ca2a772693c",
            "b8da2a6d68e2450785b1f8801141ace6",
            "93ae3d83bc5e4dd8872e400faa971dbd",
            "041121b21a6e422b8cd63f4728636297",
            "cf267bef6ccc43a1b51d5903b96b4df8",
            "a0fe757924c74cbab95c322be67f8d82",
            "09d6868b0e384e62a2a69f8264b75816",
            "5e71521995494924b6ada2b6db88a14d",
            "6f8dbf0fa6ae46a98147f954f40859e0",
            "abb8995882b345f8a6a534002f628e01",
            "e73453db01194c6ab6a4c0010f4f915e"
          ]
        },
        "outputId": "4180e6b0-5c43-4d99-d75c-edd4e87c8b6c",
        "id": "UiEmO0JitX3A"
      },
      "execution_count": 17,
      "outputs": [
        {
          "output_type": "display_data",
          "data": {
            "text/plain": [
              "Map:   0%|          | 0/192 [00:00<?, ? examples/s]"
            ],
            "application/vnd.jupyter.widget-view+json": {
              "version_major": 2,
              "version_minor": 0,
              "model_id": "6eb02a4b7c624ad9911776754e75d668"
            }
          },
          "metadata": {}
        },
        {
          "output_type": "display_data",
          "data": {
            "text/plain": [
              "Map:   0%|          | 0/48 [00:00<?, ? examples/s]"
            ],
            "application/vnd.jupyter.widget-view+json": {
              "version_major": 2,
              "version_minor": 0,
              "model_id": "a30b9389e8a64ec8af1b2ca2a772693c"
            }
          },
          "metadata": {}
        },
        {
          "output_type": "stream",
          "name": "stdout",
          "text": [
            "\n",
            "✅ Dataset Prepared\n",
            "Dataset({\n",
            "    features: ['label_id', 'input_values', 'labels'],\n",
            "    num_rows: 192\n",
            "})\n",
            "{'label_id': Value(dtype='int64', id=None), 'input_values': Sequence(feature=Value(dtype='float32', id=None), length=-1, id=None), 'labels': Value(dtype='int64', id=None)}\n"
          ]
        }
      ]
    },
    {
      "cell_type": "code",
      "source": [
        "import wandb\n",
        "wandb.init(mode=\"disabled\")"
      ],
      "metadata": {
        "colab": {
          "base_uri": "https://localhost:8080/",
          "height": 38
        },
        "outputId": "6e3c2e02-41fd-463a-e1a6-b3b5ee80ebb2",
        "id": "b45nQi1ztX3A"
      },
      "execution_count": 18,
      "outputs": [
        {
          "output_type": "execute_result",
          "data": {
            "text/html": [
              "<button onClick=\"this.nextSibling.style.display='block';this.style.display='none';\">Display W&B run</button><iframe src='https://wandb.ai/dummy/dummy/runs/g6enag12?jupyter=true' style='border:none;width:100%;height:420px;display:none;'></iframe>"
            ],
            "text/plain": [
              "<wandb.sdk.wandb_run.Run at 0x78e4ae2c1e90>"
            ]
          },
          "metadata": {},
          "execution_count": 18
        }
      ]
    },
    {
      "cell_type": "code",
      "source": [
        "# 5.6 Train Model\n",
        "train_model(train_dataset, eval_dataset, label2id, id2label, processor, output_dir)"
      ],
      "metadata": {
        "colab": {
          "base_uri": "https://localhost:8080/",
          "height": 1000
        },
        "outputId": "0c464291-dedd-4e28-8b2f-1bf31d730452",
        "id": "9YOxH4tftX3A"
      },
      "execution_count": 19,
      "outputs": [
        {
          "output_type": "stream",
          "name": "stderr",
          "text": [
            "Some weights of Wav2Vec2ForSequenceClassification were not initialized from the model checkpoint at facebook/wav2vec2-base and are newly initialized: ['classifier.bias', 'classifier.weight', 'projector.bias', 'projector.weight']\n",
            "You should probably TRAIN this model on a down-stream task to be able to use it for predictions and inference.\n",
            "/tmp/ipython-input-14-2960376541.py:81: FutureWarning: `tokenizer` is deprecated and will be removed in version 5.0.0 for `Trainer.__init__`. Use `processing_class` instead.\n",
            "  trainer = Trainer(\n",
            "\u001b[34m\u001b[1mwandb\u001b[0m: \u001b[33mWARNING\u001b[0m The `run_name` is currently set to the same value as `TrainingArguments.output_dir`. If this was not intended, please specify a different run name by setting the `TrainingArguments.run_name` parameter.\n"
          ]
        },
        {
          "output_type": "display_data",
          "data": {
            "text/plain": [
              "<IPython.core.display.HTML object>"
            ],
            "text/html": [
              "\n",
              "    <div>\n",
              "      \n",
              "      <progress value='312' max='480' style='width:300px; height:20px; vertical-align: middle;'></progress>\n",
              "      [312/480 07:55 < 04:17, 0.65 it/s, Epoch 13/20]\n",
              "    </div>\n",
              "    <table border=\"1\" class=\"dataframe\">\n",
              "  <thead>\n",
              " <tr style=\"text-align: left;\">\n",
              "      <th>Epoch</th>\n",
              "      <th>Training Loss</th>\n",
              "      <th>Validation Loss</th>\n",
              "      <th>Accuracy</th>\n",
              "      <th>F1</th>\n",
              "      <th>Precision</th>\n",
              "      <th>Recall</th>\n",
              "    </tr>\n",
              "  </thead>\n",
              "  <tbody>\n",
              "    <tr>\n",
              "      <td>1</td>\n",
              "      <td>1.385500</td>\n",
              "      <td>1.376444</td>\n",
              "      <td>0.291667</td>\n",
              "      <td>0.178571</td>\n",
              "      <td>0.318182</td>\n",
              "      <td>0.291667</td>\n",
              "    </tr>\n",
              "    <tr>\n",
              "      <td>2</td>\n",
              "      <td>1.358100</td>\n",
              "      <td>1.296692</td>\n",
              "      <td>0.500000</td>\n",
              "      <td>0.403846</td>\n",
              "      <td>0.486111</td>\n",
              "      <td>0.500000</td>\n",
              "    </tr>\n",
              "    <tr>\n",
              "      <td>3</td>\n",
              "      <td>1.173700</td>\n",
              "      <td>1.118103</td>\n",
              "      <td>0.645833</td>\n",
              "      <td>0.583661</td>\n",
              "      <td>0.751623</td>\n",
              "      <td>0.645833</td>\n",
              "    </tr>\n",
              "    <tr>\n",
              "      <td>4</td>\n",
              "      <td>0.987100</td>\n",
              "      <td>0.969874</td>\n",
              "      <td>0.708333</td>\n",
              "      <td>0.636772</td>\n",
              "      <td>0.788103</td>\n",
              "      <td>0.708333</td>\n",
              "    </tr>\n",
              "    <tr>\n",
              "      <td>5</td>\n",
              "      <td>0.776200</td>\n",
              "      <td>0.753471</td>\n",
              "      <td>0.833333</td>\n",
              "      <td>0.820202</td>\n",
              "      <td>0.836538</td>\n",
              "      <td>0.833333</td>\n",
              "    </tr>\n",
              "    <tr>\n",
              "      <td>6</td>\n",
              "      <td>0.716400</td>\n",
              "      <td>0.690491</td>\n",
              "      <td>0.791667</td>\n",
              "      <td>0.748759</td>\n",
              "      <td>0.835119</td>\n",
              "      <td>0.791667</td>\n",
              "    </tr>\n",
              "    <tr>\n",
              "      <td>7</td>\n",
              "      <td>0.532200</td>\n",
              "      <td>0.597163</td>\n",
              "      <td>0.875000</td>\n",
              "      <td>0.867663</td>\n",
              "      <td>0.897436</td>\n",
              "      <td>0.875000</td>\n",
              "    </tr>\n",
              "    <tr>\n",
              "      <td>8</td>\n",
              "      <td>0.418300</td>\n",
              "      <td>0.600643</td>\n",
              "      <td>0.854167</td>\n",
              "      <td>0.840952</td>\n",
              "      <td>0.879808</td>\n",
              "      <td>0.854167</td>\n",
              "    </tr>\n",
              "    <tr>\n",
              "      <td>9</td>\n",
              "      <td>0.334300</td>\n",
              "      <td>0.532195</td>\n",
              "      <td>0.875000</td>\n",
              "      <td>0.867663</td>\n",
              "      <td>0.897436</td>\n",
              "      <td>0.875000</td>\n",
              "    </tr>\n",
              "    <tr>\n",
              "      <td>10</td>\n",
              "      <td>0.114100</td>\n",
              "      <td>0.329479</td>\n",
              "      <td>0.916667</td>\n",
              "      <td>0.914222</td>\n",
              "      <td>0.924222</td>\n",
              "      <td>0.916667</td>\n",
              "    </tr>\n",
              "    <tr>\n",
              "      <td>11</td>\n",
              "      <td>0.102000</td>\n",
              "      <td>0.355773</td>\n",
              "      <td>0.916667</td>\n",
              "      <td>0.915638</td>\n",
              "      <td>0.930769</td>\n",
              "      <td>0.916667</td>\n",
              "    </tr>\n",
              "    <tr>\n",
              "      <td>12</td>\n",
              "      <td>0.063900</td>\n",
              "      <td>0.434835</td>\n",
              "      <td>0.895833</td>\n",
              "      <td>0.893416</td>\n",
              "      <td>0.918269</td>\n",
              "      <td>0.895833</td>\n",
              "    </tr>\n",
              "    <tr>\n",
              "      <td>13</td>\n",
              "      <td>0.049800</td>\n",
              "      <td>0.582201</td>\n",
              "      <td>0.875000</td>\n",
              "      <td>0.867663</td>\n",
              "      <td>0.897436</td>\n",
              "      <td>0.875000</td>\n",
              "    </tr>\n",
              "  </tbody>\n",
              "</table><p>"
            ]
          },
          "metadata": {}
        },
        {
          "output_type": "stream",
          "name": "stderr",
          "text": [
            "/usr/local/lib/python3.11/dist-packages/sklearn/metrics/_classification.py:1565: UndefinedMetricWarning: Precision is ill-defined and being set to 0.0 in labels with no predicted samples. Use `zero_division` parameter to control this behavior.\n",
            "  _warn_prf(average, modifier, f\"{metric.capitalize()} is\", len(result))\n",
            "/usr/local/lib/python3.11/dist-packages/sklearn/metrics/_classification.py:1565: UndefinedMetricWarning: Precision is ill-defined and being set to 0.0 in labels with no predicted samples. Use `zero_division` parameter to control this behavior.\n",
            "  _warn_prf(average, modifier, f\"{metric.capitalize()} is\", len(result))\n"
          ]
        },
        {
          "output_type": "display_data",
          "data": {
            "text/plain": [
              "<IPython.core.display.HTML object>"
            ],
            "text/html": []
          },
          "metadata": {}
        },
        {
          "output_type": "stream",
          "name": "stdout",
          "text": [
            "\n",
            "=== Classification Report ===\n",
            "              precision    recall  f1-score   support\n",
            "\n",
            "     disgust       0.92      1.00      0.96        12\n",
            "       happy       1.00      0.75      0.86        12\n",
            "     neutral       0.86      1.00      0.92        12\n",
            "    surprise       0.92      0.92      0.92        12\n",
            "\n",
            "    accuracy                           0.92        48\n",
            "   macro avg       0.92      0.92      0.91        48\n",
            "weighted avg       0.92      0.92      0.91        48\n",
            "\n",
            "\n",
            "✅ Classification report saved to: /content/drive/MyDrive/model/hasil-train-wav2vec2--basemodel/inggris/classification_report.csv\n"
          ]
        },
        {
          "output_type": "display_data",
          "data": {
            "text/plain": [
              "<Figure size 800x800 with 2 Axes>"
            ],
            "image/png": "[encoded data removed]"
          },
          "metadata": {}
        },
        {
          "output_type": "display_data",
          "data": {
            "text/plain": [
              "<Figure size 800x800 with 2 Axes>"
            ],
            "image/png": "[encoded data removed]"
          },
          "metadata": {}
        },
        {
          "output_type": "stream",
          "name": "stdout",
          "text": [
            "\n",
            "✅ Confusion matrices saved to: /content/drive/MyDrive/model/hasil-train-wav2vec2--basemodel/inggris/confusion_matrices\n"
          ]
        }
      ]
    },
    {
      "cell_type": "markdown",
      "source": [
        "## train model 3 (bhs gabungan) wav2vec 2.0 base model (parameter sama dgn pretrained)"
      ],
      "metadata": {
        "id": "uU1g4gTKxmve"
      }
    },
    {
      "cell_type": "code",
      "source": [
        "# =========================================================\n",
        "# === 0. IMPORT\n",
        "# =========================================================\n",
        "\n",
        "import os\n",
        "import numpy as np\n",
        "import pandas as pd\n",
        "import matplotlib.pyplot as plt\n",
        "import torch\n",
        "\n",
        "from sklearn.model_selection import train_test_split\n",
        "from sklearn.metrics import (\n",
        "    accuracy_score, f1_score, precision_score, recall_score,\n",
        "    confusion_matrix, ConfusionMatrixDisplay, classification_report\n",
        ")\n",
        "\n",
        "from datasets import Dataset, Audio\n",
        "from transformers import (\n",
        "    Wav2Vec2Processor,\n",
        "    Wav2Vec2ForSequenceClassification,\n",
        "    TrainingArguments,\n",
        "    Trainer,\n",
        "    EarlyStoppingCallback\n",
        ")"
      ],
      "metadata": {
        "id": "0X-Qz__dxmvj"
      },
      "execution_count": 1,
      "outputs": []
    },
    {
      "cell_type": "code",
      "source": [
        "def load_data_from_folder(data_dir, allowed_labels):\n",
        "    all_data = []\n",
        "    for label in os.listdir(data_dir):\n",
        "        if label.lower() in allowed_labels:\n",
        "            label_dir = os.path.join(data_dir, label)\n",
        "            for file in os.listdir(label_dir):\n",
        "                if file.endswith(\".wav\"):\n",
        "                    all_data.append({\n",
        "                        \"path\": os.path.join(label_dir, file),\n",
        "                        \"label\": label.lower()\n",
        "                    })\n",
        "    df = pd.DataFrame(all_data)\n",
        "    return df"
      ],
      "metadata": {
        "id": "BpeBTQgRxmvj"
      },
      "execution_count": 2,
      "outputs": []
    },
    {
      "cell_type": "code",
      "source": [
        "def encode_labels(df):\n",
        "    unique_labels = sorted(df[\"label\"].unique())\n",
        "    label2id = {label: idx for idx, label in enumerate(unique_labels)}\n",
        "    id2label = {v: k for k, v in label2id.items()}\n",
        "    df[\"label_id\"] = df[\"label\"].map(label2id)\n",
        "    return df, label2id, id2label\n"
      ],
      "metadata": {
        "id": "ONf7vT_7xmvk"
      },
      "execution_count": 3,
      "outputs": []
    },
    {
      "cell_type": "code",
      "source": [
        "def stratified_split(df, test_size=0.2, seed=42):\n",
        "    train_df, test_df = train_test_split(\n",
        "        df,\n",
        "        test_size=test_size,\n",
        "        stratify=df[\"label\"],\n",
        "        random_state=seed\n",
        "    )\n",
        "    return train_df.reset_index(drop=True), test_df.reset_index(drop=True)"
      ],
      "metadata": {
        "id": "V6vEKOCZxmvk"
      },
      "execution_count": 4,
      "outputs": []
    },
    {
      "cell_type": "code",
      "source": [
        "# =========================================================\n",
        "# === 2. PREPARE HF DATASET\n",
        "# =========================================================\n",
        "\n",
        "def prepare_hf_dataset(train_df, test_df, processor):\n",
        "    train_dataset = Dataset.from_pandas(train_df)\n",
        "    test_dataset = Dataset.from_pandas(test_df)\n",
        "\n",
        "    train_dataset = train_dataset.cast_column(\"path\", Audio(sampling_rate=16000))\n",
        "    test_dataset = test_dataset.cast_column(\"path\", Audio(sampling_rate=16000))\n",
        "\n",
        "    def preprocess(batch):\n",
        "        audio_arrays = [x[\"array\"] for x in batch[\"path\"]]\n",
        "        inputs = processor(audio_arrays, sampling_rate=16000, padding=True, return_tensors=\"pt\")\n",
        "        inputs[\"labels\"] = batch[\"label_id\"]\n",
        "        return inputs\n",
        "\n",
        "    train_dataset = train_dataset.map(preprocess, batched=True, remove_columns=[\"path\", \"label\"])\n",
        "    test_dataset = test_dataset.map(preprocess, batched=True, remove_columns=[\"path\", \"label\"])\n",
        "\n",
        "    return train_dataset, test_dataset"
      ],
      "metadata": {
        "id": "D3u9f7v4xmvl"
      },
      "execution_count": 5,
      "outputs": []
    },
    {
      "cell_type": "code",
      "source": [
        "# =========================================================\n",
        "# === 3. METRICS\n",
        "# =========================================================\n",
        "\n",
        "def compute_metrics(pred):\n",
        "    preds = np.argmax(pred.predictions, axis=1)\n",
        "    labels = pred.label_ids\n",
        "    return {\n",
        "        \"accuracy\": accuracy_score(labels, preds),\n",
        "        \"f1\": f1_score(labels, preds, average='weighted'),\n",
        "        \"precision\": precision_score(labels, preds, average='weighted'),\n",
        "        \"recall\": recall_score(labels, preds, average='weighted')\n",
        "    }"
      ],
      "metadata": {
        "id": "crnO2dlcxmvl"
      },
      "execution_count": 6,
      "outputs": []
    },
    {
      "cell_type": "code",
      "source": [
        "def train_model(\n",
        "    train_dataset,\n",
        "    eval_dataset,\n",
        "    label2id,\n",
        "    id2label,\n",
        "    processor,\n",
        "    output_dir\n",
        "):\n",
        "\n",
        "    # Load Pretrained Model\n",
        "    model = Wav2Vec2ForSequenceClassification.from_pretrained(\n",
        "        \"facebook/wav2vec2-base\",\n",
        "        num_labels=len(label2id),\n",
        "        label2id=label2id,\n",
        "        id2label=id2label,\n",
        "        problem_type=\"single_label_classification\"\n",
        "    )\n",
        "\n",
        "    # Define Training Arguments\n",
        "    # training_args = TrainingArguments(\n",
        "    #     output_dir=output_dir,\n",
        "    #     eval_strategy=\"epoch\",\n",
        "    #     save_strategy=\"epoch\",\n",
        "    #     learning_rate=2e-5,\n",
        "    #     per_device_train_batch_size=8,\n",
        "    #     per_device_eval_batch_size=8,\n",
        "    #     gradient_accumulation_steps=2,\n",
        "    #     num_train_epochs=12,\n",
        "    #     warmup_ratio=0.1,\n",
        "    #     weight_decay=0.005,\n",
        "    #     logging_steps=10,\n",
        "    #     seed=42,\n",
        "    #     fp16=True,\n",
        "    #     save_total_limit=2,\n",
        "    #     load_best_model_at_end=True,\n",
        "    #     metric_for_best_model=\"accuracy\",\n",
        "    #     greater_is_better=True,\n",
        "    #     lr_scheduler_type=\"cosine\"\n",
        "    # )\n",
        "    training_args = TrainingArguments(\n",
        "        output_dir=output_dir,\n",
        "        eval_strategy=\"epoch\",\n",
        "        save_strategy=\"epoch\",\n",
        "        learning_rate=3e-5,                          # ✅ lebih kecil → stabil untuk data kecil\n",
        "        per_device_train_batch_size=2,              # ✅ batch kecil → lebih hati-hati\n",
        "        per_device_eval_batch_size=2,\n",
        "        gradient_accumulation_steps=4,              # ✅ agar batch efektif tetap besar\n",
        "        num_train_epochs=10,                        # ✅ cukup banyak, tapi early stopping akan batasi\n",
        "        warmup_ratio=0.1,                           # ✅ pemanasan, penting untuk dataset kecil\n",
        "        weight_decay=0.01,                          # ✅ regularisasi ringan\n",
        "        logging_steps=10,\n",
        "        seed=42,\n",
        "        fp16=True,\n",
        "        save_total_limit=2,\n",
        "        load_best_model_at_end=True,\n",
        "        metric_for_best_model=\"accuracy\",\n",
        "        greater_is_better=True,\n",
        "        lr_scheduler_type=\"linear\"\n",
        "    )\n",
        "\n",
        "    # Define Trainer\n",
        "    trainer = Trainer(\n",
        "        model=model,\n",
        "        args=training_args,\n",
        "        train_dataset=train_dataset,\n",
        "        eval_dataset=eval_dataset,\n",
        "        tokenizer=processor,\n",
        "        compute_metrics=compute_metrics,\n",
        "        callbacks=[\n",
        "            EarlyStoppingCallback(early_stopping_patience=3)\n",
        "        ]\n",
        "    )\n",
        "\n",
        "    # === TRAIN ===\n",
        "    trainer.train()\n",
        "    trainer.evaluate()\n",
        "\n",
        "    # === PREDICT ON TEST SET ===\n",
        "    predictions = trainer.predict(eval_dataset)\n",
        "    preds = np.argmax(predictions.predictions, axis=1)\n",
        "    labels = predictions.label_ids\n",
        "\n",
        "    # === CLASSIFICATION REPORT ===\n",
        "    print(\"\\n=== Classification Report ===\")\n",
        "    target_names = [id2label[i] for i in sorted(id2label.keys())]\n",
        "    report_text = classification_report(labels, preds, target_names=target_names)\n",
        "    print(report_text)\n",
        "\n",
        "    # Save Classification Report to CSV\n",
        "    report_dict = classification_report(labels, preds, target_names=target_names, output_dict=True)\n",
        "    pd.DataFrame(report_dict).transpose().to_csv(os.path.join(output_dir, \"classification_report.csv\"))\n",
        "    print(f\"\\n✅ Classification report saved to: {output_dir}/classification_report.csv\")\n",
        "\n",
        "    # === CONFUSION MATRICES ===\n",
        "    os.makedirs(os.path.join(output_dir, \"confusion_matrices\"), exist_ok=True)\n",
        "\n",
        "    # Raw Confusion Matrix\n",
        "    cm_raw = confusion_matrix(labels, preds)\n",
        "    fig, ax = plt.subplots(figsize=(8, 8))\n",
        "    disp = ConfusionMatrixDisplay(confusion_matrix=cm_raw, display_labels=target_names)\n",
        "    disp.plot(ax=ax, cmap=\"Blues\", values_format=\"d\", xticks_rotation=45)\n",
        "    plt.title(\"Confusion Matrix (Raw)\")\n",
        "    raw_path = os.path.join(output_dir, \"confusion_matrices\", \"confusion_matrix_raw.png\")\n",
        "    plt.savefig(raw_path)\n",
        "    plt.show()\n",
        "\n",
        "    # Normalized Confusion Matrix\n",
        "    cm_norm = confusion_matrix(labels, preds, normalize=\"true\")\n",
        "    fig, ax = plt.subplots(figsize=(8, 8))\n",
        "    disp = ConfusionMatrixDisplay(confusion_matrix=cm_norm, display_labels=target_names)\n",
        "    disp.plot(ax=ax, cmap=\"Greens\", values_format=\".2f\", xticks_rotation=45)\n",
        "    plt.title(\"Confusion Matrix (Normalized)\")\n",
        "    norm_path = os.path.join(output_dir, \"confusion_matrices\", \"confusion_matrix_normalized.png\")\n",
        "    plt.savefig(norm_path)\n",
        "    plt.show()\n",
        "\n",
        "    print(f\"\\n✅ Confusion matrices saved to: {os.path.join(output_dir, 'confusion_matrices')}\")"
      ],
      "metadata": {
        "id": "7aoWl3q3xmvl"
      },
      "execution_count": 7,
      "outputs": []
    },
    {
      "cell_type": "code",
      "source": [
        "# ==== CONFIG UNTUK MODEL 3 ====\n",
        "allowed_labels = [\"disgust\", \"happy\", \"neutral\", \"surprise\"]\n",
        "\n",
        "# Path ke dataset Indonesia & Inggris\n",
        "indo_data_dir = \"/content/drive/MyDrive/dataset/datasetindo_sorted_preprocess_4s\"\n",
        "eng_data_dir = \"/content/drive/MyDrive/dataset/normalized_audio_emotions\"\n",
        "\n",
        "# Load masing-masing dataset\n",
        "df_indo = load_data_from_folder(indo_data_dir, allowed_labels)\n",
        "df_eng = load_data_from_folder(eng_data_dir, allowed_labels)\n",
        "\n",
        "print(\"\\n✅ Loaded raw counts:\")\n",
        "print(df_indo['label'].value_counts())\n",
        "print(df_eng['label'].value_counts())\n",
        "\n",
        "# ==== Custom Split: stratified per domain ====\n",
        "train_indo, test_indo = stratified_split(df_indo)\n",
        "train_eng, test_eng = stratified_split(df_eng)\n",
        "\n",
        "print(\"\\n✅ Split Indo:\")\n",
        "print(\"Train:\", train_indo['label'].value_counts())\n",
        "print(\"Test:\", test_indo['label'].value_counts())\n",
        "\n",
        "print(\"\\n✅ Split Inggris:\")\n",
        "print(\"Train:\", train_eng['label'].value_counts())\n",
        "print(\"Test:\", test_eng['label'].value_counts())\n"
      ],
      "metadata": {
        "colab": {
          "base_uri": "https://localhost:8080/"
        },
        "outputId": "dfb84c19-2ade-40a7-ad7a-14dadf7550b2",
        "id": "4vOqjt2dxmvm"
      },
      "execution_count": 8,
      "outputs": [
        {
          "output_type": "stream",
          "name": "stdout",
          "text": [
            "\n",
            "✅ Loaded raw counts:\n",
            "label\n",
            "neutral     60\n",
            "surprise    60\n",
            "disgust     60\n",
            "happy       60\n",
            "Name: count, dtype: int64\n",
            "label\n",
            "surprise    60\n",
            "disgust     60\n",
            "neutral     60\n",
            "happy       60\n",
            "Name: count, dtype: int64\n",
            "\n",
            "✅ Split Indo:\n",
            "Train: label\n",
            "happy       48\n",
            "neutral     48\n",
            "surprise    48\n",
            "disgust     48\n",
            "Name: count, dtype: int64\n",
            "Test: label\n",
            "disgust     12\n",
            "surprise    12\n",
            "neutral     12\n",
            "happy       12\n",
            "Name: count, dtype: int64\n",
            "\n",
            "✅ Split Inggris:\n",
            "Train: label\n",
            "happy       48\n",
            "neutral     48\n",
            "surprise    48\n",
            "disgust     48\n",
            "Name: count, dtype: int64\n",
            "Test: label\n",
            "disgust     12\n",
            "surprise    12\n",
            "neutral     12\n",
            "happy       12\n",
            "Name: count, dtype: int64\n"
          ]
        }
      ]
    },
    {
      "cell_type": "code",
      "source": [
        "# Gabungkan hasil split\n",
        "train_df = pd.concat([train_indo, train_eng]).reset_index(drop=True)\n",
        "test_df  = pd.concat([test_indo, test_eng]).reset_index(drop=True)\n",
        "\n",
        "print(\"\\n✅ Gabungan Train Split:\")\n",
        "print(train_df['label'].value_counts())\n",
        "print(\"\\n✅ Gabungan Test Split:\")\n",
        "print(test_df['label'].value_counts())"
      ],
      "metadata": {
        "colab": {
          "base_uri": "https://localhost:8080/"
        },
        "id": "6z-p56Oh9efe",
        "outputId": "c252668a-dac7-4b7d-ae12-8ea8039b5901"
      },
      "execution_count": 9,
      "outputs": [
        {
          "output_type": "stream",
          "name": "stdout",
          "text": [
            "\n",
            "✅ Gabungan Train Split:\n",
            "label\n",
            "happy       96\n",
            "neutral     96\n",
            "surprise    96\n",
            "disgust     96\n",
            "Name: count, dtype: int64\n",
            "\n",
            "✅ Gabungan Test Split:\n",
            "label\n",
            "disgust     24\n",
            "surprise    24\n",
            "neutral     24\n",
            "happy       24\n",
            "Name: count, dtype: int64\n"
          ]
        }
      ]
    },
    {
      "cell_type": "code",
      "source": [
        "# ==== Encode Labels\n",
        "full_df = pd.concat([train_df, test_df]).reset_index(drop=True)\n",
        "full_df, label2id, id2label = encode_labels(full_df)\n",
        "train_df[\"label_id\"] = train_df[\"label\"].map(label2id)\n",
        "test_df[\"label_id\"] = test_df[\"label\"].map(label2id)\n",
        "\n",
        "print(\"\\n✅ Label Encoding Done\")\n",
        "print(\"label2id:\", label2id)\n"
      ],
      "metadata": {
        "colab": {
          "base_uri": "https://localhost:8080/"
        },
        "id": "mOCxyyr29f5G",
        "outputId": "9d7aa41c-11b5-4ba1-d3b9-41cf1e7ee6ec"
      },
      "execution_count": 10,
      "outputs": [
        {
          "output_type": "stream",
          "name": "stdout",
          "text": [
            "\n",
            "✅ Label Encoding Done\n",
            "label2id: {'disgust': 0, 'happy': 1, 'neutral': 2, 'surprise': 3}\n"
          ]
        }
      ]
    },
    {
      "cell_type": "code",
      "source": [
        "# 5.3 Load Processor\n",
        "processor = Wav2Vec2Processor.from_pretrained(\"facebook/wav2vec2-base\")\n",
        "print(\"\\n✅ Processor Loaded\")\n"
      ],
      "metadata": {
        "colab": {
          "base_uri": "https://localhost:8080/"
        },
        "outputId": "bb9a4bee-0a9d-4c79-cccd-3c10ea5adbad",
        "id": "xLfFpJlZxmvm"
      },
      "execution_count": 11,
      "outputs": [
        {
          "output_type": "stream",
          "name": "stderr",
          "text": [
            "/usr/local/lib/python3.11/dist-packages/huggingface_hub/utils/_auth.py:94: UserWarning: \n",
            "The secret `HF_TOKEN` does not exist in your Colab secrets.\n",
            "To authenticate with the Hugging Face Hub, create a token in your settings tab (https://huggingface.co/settings/tokens), set it as secret in your Google Colab and restart your session.\n",
            "You will be able to reuse this secret in all of your notebooks.\n",
            "Please note that authentication is recommended but still optional to access public models or datasets.\n",
            "  warnings.warn(\n",
            "/usr/local/lib/python3.11/dist-packages/transformers/configuration_utils.py:309: UserWarning: Passing `gradient_checkpointing` to a config initialization is deprecated and will be removed in v5 Transformers. Using `model.gradient_checkpointing_enable()` instead, or if you are using the `Trainer` API, pass `gradient_checkpointing=True` in your `TrainingArguments`.\n",
            "  warnings.warn(\n"
          ]
        },
        {
          "output_type": "stream",
          "name": "stdout",
          "text": [
            "\n",
            "✅ Processor Loaded\n"
          ]
        }
      ]
    },
    {
      "cell_type": "code",
      "source": [
        "# 5.4 Prepare HF Dataset\n",
        "train_dataset, eval_dataset = prepare_hf_dataset(train_df, test_df, processor)\n",
        "print(\"\\n✅ Dataset Prepared\")\n",
        "print(train_dataset)\n",
        "print(train_dataset.features)"
      ],
      "metadata": {
        "colab": {
          "base_uri": "https://localhost:8080/",
          "height": 203,
          "referenced_widgets": [
            "4a0f86afe937476fb73f8568ea89b257",
            "041183393fd04bba808f9ea555f91b07",
            "ffc485dae2e7437887dc75bf6d194d2d",
            "382dd975da3f49d9be18a74a6ef6bbab",
            "0c2135c4d7b9490f89f6ca5fa2ab0fbc",
            "1f106882306040c28e80f77f761220ab",
            "d96d173790ca4d17884bf86896750e12",
            "d20040cafa304ad28fd77cbfe5b01ed3",
            "004e937bfa8c487d93a8f25f94931675",
            "fa0125f4aafa46b7866880e962fd4462",
            "b39b33717ecd4c3ba454a0651828c70a",
            "3f3fcb60d32643258ed3f96f678397a5",
            "086b1a8daa81486991dcdb812d255c71",
            "35f89dcef7d240b9b98398c304f8105c",
            "c74645519a2a4443bf73060374f1803c",
            "4cc649e4394c4818891417fd18e78733",
            "9c5ec858dfb644949f09887c488da9ff",
            "9fcdc03ddccc420186c9905364d2fc1d",
            "8b5e7417240e48b09651cc1231ec68d8",
            "6de89beb58f9480882641ac410c53bc4",
            "2d143bae291049739c781a5fbfc58865",
            "de263360315b465c98117917b79825ea"
          ]
        },
        "outputId": "1b5e79c3-4641-48a9-c702-64b10e111b78",
        "id": "-j9v_AnBxmvm"
      },
      "execution_count": 12,
      "outputs": [
        {
          "output_type": "display_data",
          "data": {
            "text/plain": [
              "Map:   0%|          | 0/384 [00:00<?, ? examples/s]"
            ],
            "application/vnd.jupyter.widget-view+json": {
              "version_major": 2,
              "version_minor": 0,
              "model_id": "4a0f86afe937476fb73f8568ea89b257"
            }
          },
          "metadata": {}
        },
        {
          "output_type": "display_data",
          "data": {
            "text/plain": [
              "Map:   0%|          | 0/96 [00:00<?, ? examples/s]"
            ],
            "application/vnd.jupyter.widget-view+json": {
              "version_major": 2,
              "version_minor": 0,
              "model_id": "3f3fcb60d32643258ed3f96f678397a5"
            }
          },
          "metadata": {}
        },
        {
          "output_type": "stream",
          "name": "stdout",
          "text": [
            "\n",
            "✅ Dataset Prepared\n",
            "Dataset({\n",
            "    features: ['label_id', 'input_values', 'labels'],\n",
            "    num_rows: 384\n",
            "})\n",
            "{'label_id': Value(dtype='int64', id=None), 'input_values': Sequence(feature=Value(dtype='float32', id=None), length=-1, id=None), 'labels': Value(dtype='int64', id=None)}\n"
          ]
        }
      ]
    },
    {
      "cell_type": "code",
      "source": [
        "import wandb\n",
        "wandb.init(mode=\"disabled\")"
      ],
      "metadata": {
        "colab": {
          "base_uri": "https://localhost:8080/",
          "height": 38
        },
        "outputId": "012cf6a3-63a8-4f11-bfc9-4024e754300e",
        "id": "creLpuYpxmvm"
      },
      "execution_count": 13,
      "outputs": [
        {
          "output_type": "execute_result",
          "data": {
            "text/html": [
              "<button onClick=\"this.nextSibling.style.display='block';this.style.display='none';\">Display W&B run</button><iframe src='https://wandb.ai/dummy/dummy/runs/01jbkdqn?jupyter=true' style='border:none;width:100%;height:420px;display:none;'></iframe>"
            ],
            "text/plain": [
              "<wandb.sdk.wandb_run.Run at 0x7cfed4388d90>"
            ]
          },
          "metadata": {},
          "execution_count": 13
        }
      ]
    },
    {
      "cell_type": "code",
      "source": [
        "# 5.6 Train Model\n",
        "output_dir = \"/content/drive/MyDrive/model/hasil-train-wav2vec2--basemodel/gabungan\"\n",
        "train_model(train_dataset, eval_dataset, label2id, id2label, processor, output_dir)"
      ],
      "metadata": {
        "colab": {
          "base_uri": "https://localhost:8080/",
          "height": 1000
        },
        "outputId": "6f5194cd-170c-450b-b93e-d2b7ff5a4246",
        "id": "g7CrsCS8xmvm"
      },
      "execution_count": 14,
      "outputs": [
        {
          "output_type": "stream",
          "name": "stderr",
          "text": [
            "/usr/local/lib/python3.11/dist-packages/transformers/configuration_utils.py:309: UserWarning: Passing `gradient_checkpointing` to a config initialization is deprecated and will be removed in v5 Transformers. Using `model.gradient_checkpointing_enable()` instead, or if you are using the `Trainer` API, pass `gradient_checkpointing=True` in your `TrainingArguments`.\n",
            "  warnings.warn(\n",
            "Some weights of Wav2Vec2ForSequenceClassification were not initialized from the model checkpoint at facebook/wav2vec2-base and are newly initialized: ['classifier.bias', 'classifier.weight', 'projector.bias', 'projector.weight']\n",
            "You should probably TRAIN this model on a down-stream task to be able to use it for predictions and inference.\n",
            "/tmp/ipython-input-7-1360498009.py:62: FutureWarning: `tokenizer` is deprecated and will be removed in version 5.0.0 for `Trainer.__init__`. Use `processing_class` instead.\n",
            "  trainer = Trainer(\n",
            "\u001b[34m\u001b[1mwandb\u001b[0m: \u001b[33mWARNING\u001b[0m The `run_name` is currently set to the same value as `TrainingArguments.output_dir`. If this was not intended, please specify a different run name by setting the `TrainingArguments.run_name` parameter.\n"
          ]
        },
        {
          "output_type": "display_data",
          "data": {
            "text/plain": [
              "<IPython.core.display.HTML object>"
            ],
            "text/html": [
              "\n",
              "    <div>\n",
              "      \n",
              "      <progress value='480' max='480' style='width:300px; height:20px; vertical-align: middle;'></progress>\n",
              "      [480/480 09:09, Epoch 10/10]\n",
              "    </div>\n",
              "    <table border=\"1\" class=\"dataframe\">\n",
              "  <thead>\n",
              " <tr style=\"text-align: left;\">\n",
              "      <th>Epoch</th>\n",
              "      <th>Training Loss</th>\n",
              "      <th>Validation Loss</th>\n",
              "      <th>Accuracy</th>\n",
              "      <th>F1</th>\n",
              "      <th>Precision</th>\n",
              "      <th>Recall</th>\n",
              "    </tr>\n",
              "  </thead>\n",
              "  <tbody>\n",
              "    <tr>\n",
              "      <td>1</td>\n",
              "      <td>1.376700</td>\n",
              "      <td>1.340515</td>\n",
              "      <td>0.468750</td>\n",
              "      <td>0.372927</td>\n",
              "      <td>0.499715</td>\n",
              "      <td>0.468750</td>\n",
              "    </tr>\n",
              "    <tr>\n",
              "      <td>2</td>\n",
              "      <td>1.111100</td>\n",
              "      <td>1.002096</td>\n",
              "      <td>0.520833</td>\n",
              "      <td>0.443965</td>\n",
              "      <td>0.463015</td>\n",
              "      <td>0.520833</td>\n",
              "    </tr>\n",
              "    <tr>\n",
              "      <td>3</td>\n",
              "      <td>0.869000</td>\n",
              "      <td>0.778742</td>\n",
              "      <td>0.687500</td>\n",
              "      <td>0.650852</td>\n",
              "      <td>0.679203</td>\n",
              "      <td>0.687500</td>\n",
              "    </tr>\n",
              "    <tr>\n",
              "      <td>4</td>\n",
              "      <td>0.722000</td>\n",
              "      <td>0.607511</td>\n",
              "      <td>0.708333</td>\n",
              "      <td>0.657995</td>\n",
              "      <td>0.699185</td>\n",
              "      <td>0.708333</td>\n",
              "    </tr>\n",
              "    <tr>\n",
              "      <td>5</td>\n",
              "      <td>0.515000</td>\n",
              "      <td>0.764812</td>\n",
              "      <td>0.687500</td>\n",
              "      <td>0.671421</td>\n",
              "      <td>0.677784</td>\n",
              "      <td>0.687500</td>\n",
              "    </tr>\n",
              "    <tr>\n",
              "      <td>6</td>\n",
              "      <td>0.388400</td>\n",
              "      <td>0.727623</td>\n",
              "      <td>0.802083</td>\n",
              "      <td>0.798732</td>\n",
              "      <td>0.820764</td>\n",
              "      <td>0.802083</td>\n",
              "    </tr>\n",
              "    <tr>\n",
              "      <td>7</td>\n",
              "      <td>0.275400</td>\n",
              "      <td>0.368486</td>\n",
              "      <td>0.906250</td>\n",
              "      <td>0.905404</td>\n",
              "      <td>0.918269</td>\n",
              "      <td>0.906250</td>\n",
              "    </tr>\n",
              "    <tr>\n",
              "      <td>8</td>\n",
              "      <td>0.266900</td>\n",
              "      <td>0.411804</td>\n",
              "      <td>0.895833</td>\n",
              "      <td>0.891109</td>\n",
              "      <td>0.908050</td>\n",
              "      <td>0.895833</td>\n",
              "    </tr>\n",
              "    <tr>\n",
              "      <td>9</td>\n",
              "      <td>0.106100</td>\n",
              "      <td>0.382953</td>\n",
              "      <td>0.906250</td>\n",
              "      <td>0.906385</td>\n",
              "      <td>0.924318</td>\n",
              "      <td>0.906250</td>\n",
              "    </tr>\n",
              "    <tr>\n",
              "      <td>10</td>\n",
              "      <td>0.117900</td>\n",
              "      <td>0.425802</td>\n",
              "      <td>0.895833</td>\n",
              "      <td>0.896058</td>\n",
              "      <td>0.911048</td>\n",
              "      <td>0.895833</td>\n",
              "    </tr>\n",
              "  </tbody>\n",
              "</table><p>"
            ]
          },
          "metadata": {}
        },
        {
          "output_type": "stream",
          "name": "stderr",
          "text": [
            "/usr/local/lib/python3.11/dist-packages/sklearn/metrics/_classification.py:1565: UndefinedMetricWarning: Precision is ill-defined and being set to 0.0 in labels with no predicted samples. Use `zero_division` parameter to control this behavior.\n",
            "  _warn_prf(average, modifier, f\"{metric.capitalize()} is\", len(result))\n",
            "/usr/local/lib/python3.11/dist-packages/sklearn/metrics/_classification.py:1565: UndefinedMetricWarning: Precision is ill-defined and being set to 0.0 in labels with no predicted samples. Use `zero_division` parameter to control this behavior.\n",
            "  _warn_prf(average, modifier, f\"{metric.capitalize()} is\", len(result))\n"
          ]
        },
        {
          "output_type": "display_data",
          "data": {
            "text/plain": [
              "<IPython.core.display.HTML object>"
            ],
            "text/html": []
          },
          "metadata": {}
        },
        {
          "output_type": "stream",
          "name": "stdout",
          "text": [
            "\n",
            "=== Classification Report ===\n",
            "              precision    recall  f1-score   support\n",
            "\n",
            "     disgust       1.00      0.83      0.91        24\n",
            "       happy       0.95      0.79      0.86        24\n",
            "     neutral       0.80      1.00      0.89        24\n",
            "    surprise       0.92      1.00      0.96        24\n",
            "\n",
            "    accuracy                           0.91        96\n",
            "   macro avg       0.92      0.91      0.91        96\n",
            "weighted avg       0.92      0.91      0.91        96\n",
            "\n",
            "\n",
            "✅ Classification report saved to: /content/drive/MyDrive/model/hasil-train-wav2vec2--basemodel/gabungan/classification_report.csv\n"
          ]
        },
        {
          "output_type": "display_data",
          "data": {
            "text/plain": [
              "<Figure size 800x800 with 2 Axes>"
            ],
            "image/png": "[encoded data removed]"
          },
          "metadata": {}
        },
        {
          "output_type": "display_data",
          "data": {
            "text/plain": [
              "<Figure size 800x800 with 2 Axes>"
            ],
            "image/png": "[encoded data removed]"
          },
          "metadata": {}
        },
        {
          "output_type": "stream",
          "name": "stdout",
          "text": [
            "\n",
            "✅ Confusion matrices saved to: /content/drive/MyDrive/model/hasil-train-wav2vec2--basemodel/gabungan/confusion_matrices\n"
          ]
        }
      ]
    },
    {
      "cell_type": "markdown",
      "source": [
        "## test model 1 (bhs indonesia) menggunakan dataset inggris"
      ],
      "metadata": {
        "id": "3nbkuFQG3fF9"
      }
    },
    {
      "cell_type": "code",
      "source": [
        "import os\n",
        "import numpy as np\n",
        "import pandas as pd\n",
        "import torch\n",
        "import matplotlib.pyplot as plt\n",
        "from sklearn.metrics import classification_report, confusion_matrix, ConfusionMatrixDisplay\n",
        "from datasets import Dataset, Audio\n",
        "from transformers import Wav2Vec2ForSequenceClassification, Wav2Vec2Processor, Trainer\n"
      ],
      "metadata": {
        "id": "GQdVh4NG2pim"
      },
      "execution_count": 1,
      "outputs": []
    },
    {
      "cell_type": "code",
      "source": [
        "def load_data_from_folder(data_dir, allowed_labels):\n",
        "    all_data = []\n",
        "    for label in os.listdir(data_dir):\n",
        "        if label.lower() in allowed_labels:\n",
        "            label_dir = os.path.join(data_dir, label)\n",
        "            for file in os.listdir(label_dir):\n",
        "                if file.endswith(\".wav\"):\n",
        "                    all_data.append({\"path\": os.path.join(label_dir, file), \"label\": label.lower()})\n",
        "    df = pd.DataFrame(all_data)\n",
        "    return df\n",
        "\n",
        "def encode_labels(df, label2id):\n",
        "    df[\"label_id\"] = df[\"label\"].map(label2id)\n",
        "    return df\n"
      ],
      "metadata": {
        "id": "kE5evSuF3j06"
      },
      "execution_count": 2,
      "outputs": []
    },
    {
      "cell_type": "code",
      "source": [
        "def prepare_hf_dataset_from_df(df, processor):\n",
        "    dataset = Dataset.from_pandas(df)\n",
        "    dataset = dataset.cast_column(\"path\", Audio(sampling_rate=16000))\n",
        "\n",
        "    def preprocess(batch):\n",
        "        audio_arrays = [x[\"array\"] for x in batch[\"path\"]]\n",
        "        inputs = processor(audio_arrays, sampling_rate=16000, padding=True, return_tensors=\"pt\")\n",
        "        inputs[\"labels\"] = batch[\"label_id\"]\n",
        "        return inputs\n",
        "\n",
        "    dataset = dataset.map(preprocess, batched=True, remove_columns=[\"path\", \"label\"])\n",
        "    return dataset\n"
      ],
      "metadata": {
        "id": "17FQZsb63k3j"
      },
      "execution_count": 3,
      "outputs": []
    },
    {
      "cell_type": "code",
      "source": [
        "def evaluate_model_on_dataset(model_dir, test_data_dir, allowed_labels, label2id, id2label, output_dir_eval):\n",
        "    os.makedirs(output_dir_eval, exist_ok=True)\n",
        "\n",
        "    print(f\"\\n=== Loading model from {model_dir}\")\n",
        "    model = Wav2Vec2ForSequenceClassification.from_pretrained(model_dir)\n",
        "    processor = Wav2Vec2Processor.from_pretrained(\"facebook/wav2vec2-base\")\n",
        "\n",
        "    # Load test data\n",
        "    df_test = load_data_from_folder(test_data_dir, allowed_labels)\n",
        "    df_test = encode_labels(df_test, label2id)\n",
        "    print(f\"Test samples: {len(df_test)}\")\n",
        "    print(df_test['label'].value_counts())\n",
        "\n",
        "    # Prepare HF Dataset\n",
        "    test_dataset = prepare_hf_dataset_from_df(df_test, processor)\n",
        "\n",
        "    # Init Trainer\n",
        "    trainer = Trainer(\n",
        "        model=model,\n",
        "        tokenizer=processor\n",
        "    )\n",
        "\n",
        "    # Predict\n",
        "    predictions = trainer.predict(test_dataset)\n",
        "    preds = np.argmax(predictions.predictions, axis=1)\n",
        "    labels = predictions.label_ids\n",
        "\n",
        "    target_names = [id2label[i] for i in sorted(id2label.keys())]\n",
        "\n",
        "    # Classification Report\n",
        "    report = classification_report(labels, preds, target_names=target_names)\n",
        "    print(\"\\n=== CLASSIFICATION REPORT ===\")\n",
        "    print(report)\n",
        "\n",
        "    # Save report\n",
        "    report_dict = classification_report(labels, preds, target_names=target_names, output_dict=True)\n",
        "    pd.DataFrame(report_dict).transpose().to_csv(os.path.join(output_dir_eval, \"classification_report.csv\"))\n",
        "    print(f\"Classification report saved to: {os.path.join(output_dir_eval, 'classification_report.csv')}\")\n",
        "\n",
        "    # Confusion Matrix\n",
        "    cm = confusion_matrix(labels, preds)\n",
        "    disp = ConfusionMatrixDisplay(confusion_matrix=cm, display_labels=target_names)\n",
        "    fig, ax = plt.subplots(figsize=(8,8))\n",
        "    disp.plot(ax=ax, cmap=\"Blues\", values_format=\"d\", xticks_rotation=45)\n",
        "    plt.title(\"Confusion Matrix (Raw)\")\n",
        "    fig.savefig(os.path.join(output_dir_eval, \"confusion_matrix_raw.png\"))\n",
        "    plt.show()\n",
        "\n",
        "    # Normalized CM\n",
        "    cm_norm = confusion_matrix(labels, preds, normalize=\"true\")\n",
        "    disp_norm = ConfusionMatrixDisplay(confusion_matrix=cm_norm, display_labels=target_names)\n",
        "    fig, ax = plt.subplots(figsize=(8,8))\n",
        "    disp_norm.plot(ax=ax, cmap=\"Greens\", values_format=\".2f\", xticks_rotation=45)\n",
        "    plt.title(\"Confusion Matrix (Normalized)\")\n",
        "    fig.savefig(os.path.join(output_dir_eval, \"confusion_matrix_norm.png\"))\n",
        "    plt.show()\n",
        "\n",
        "    print(f\"Confusion matrices saved to: {output_dir_eval}\")\n"
      ],
      "metadata": {
        "id": "RgYXKNUZ3lx1"
      },
      "execution_count": 4,
      "outputs": []
    },
    {
      "cell_type": "code",
      "source": [
        "import wandb\n",
        "wandb.init(mode=\"disabled\")"
      ],
      "metadata": {
        "colab": {
          "base_uri": "https://localhost:8080/",
          "height": 38
        },
        "id": "h8vbBfs44tEP",
        "outputId": "6434e13b-bed2-48b7-b8ec-e69188554483"
      },
      "execution_count": 5,
      "outputs": [
        {
          "output_type": "execute_result",
          "data": {
            "text/html": [
              "<button onClick=\"this.nextSibling.style.display='block';this.style.display='none';\">Display W&B run</button><iframe src='https://wandb.ai/dummy/dummy/runs/81hybz6t?jupyter=true' style='border:none;width:100%;height:420px;display:none;'></iframe>"
            ],
            "text/plain": [
              "<wandb.sdk.wandb_run.Run at 0x791cc1287210>"
            ]
          },
          "metadata": {},
          "execution_count": 5
        }
      ]
    },
    {
      "cell_type": "code",
      "source": [
        "# === Model 1 (Indonesia) tested on English ===\n",
        "allowed_labels = [\"disgust\", \"happy\", \"neutral\", \"surprise\"]\n",
        "label2id = {\"disgust\": 0, \"happy\": 1, \"neutral\": 2, \"surprise\": 3}\n",
        "id2label = {v:k for k,v in label2id.items()}\n",
        "\n",
        "evaluate_model_on_dataset(\n",
        "    model_dir=\"/content/drive/MyDrive/model/hasil-train-wav2vec2--basemodel/indonesia/checkpoint-192\",    # path model 1\n",
        "    test_data_dir=\"/content/drive/MyDrive/dataset/normalized_audio_emotions\", # path test ravdess\n",
        "    allowed_labels=allowed_labels,\n",
        "    label2id=label2id,\n",
        "    id2label=id2label,\n",
        "    output_dir_eval=\"/content/drive/MyDrive/model/hasil-train-wav2vec2--basemodel/evaluation/indo_model_on_ravdess\"\n",
        ")\n"
      ],
      "metadata": {
        "colab": {
          "base_uri": "https://localhost:8080/",
          "height": 1000,
          "referenced_widgets": [
            "09c0babb8e9d4d9391ca7138d909cf19",
            "6752c95ae0624989b1e45c5422ea78be",
            "63f7018739d34ba4a463f35c40223fcf",
            "55cc3d037bab48debf07b9cebc9cb087",
            "239592c807dc44fdb655cf0948317544",
            "e7ba71b96f0343b1824156556759e1d2",
            "49c478693923460bb40c9627ec56bc5a",
            "dd1ed1f477064b9ab995dea77556ac8c",
            "f0b4276a5ea5402f8d4e5158c3e36c4b",
            "49509adaa6794d86965fd2d8906b5156",
            "7aceabd832884a90a7ff10353494f50e"
          ]
        },
        "id": "gyx268DK3olZ",
        "outputId": "e3ee5533-b8d5-4e92-85cd-b5c5940497e8"
      },
      "execution_count": 7,
      "outputs": [
        {
          "output_type": "stream",
          "name": "stdout",
          "text": [
            "\n",
            "=== Loading model from /content/drive/MyDrive/model/hasil-train-wav2vec2--basemodel/indonesia/checkpoint-192\n"
          ]
        },
        {
          "output_type": "stream",
          "name": "stderr",
          "text": [
            "/usr/local/lib/python3.11/dist-packages/huggingface_hub/utils/_auth.py:94: UserWarning: \n",
            "The secret `HF_TOKEN` does not exist in your Colab secrets.\n",
            "To authenticate with the Hugging Face Hub, create a token in your settings tab (https://huggingface.co/settings/tokens), set it as secret in your Google Colab and restart your session.\n",
            "You will be able to reuse this secret in all of your notebooks.\n",
            "Please note that authentication is recommended but still optional to access public models or datasets.\n",
            "  warnings.warn(\n",
            "/usr/local/lib/python3.11/dist-packages/transformers/configuration_utils.py:309: UserWarning: Passing `gradient_checkpointing` to a config initialization is deprecated and will be removed in v5 Transformers. Using `model.gradient_checkpointing_enable()` instead, or if you are using the `Trainer` API, pass `gradient_checkpointing=True` in your `TrainingArguments`.\n",
            "  warnings.warn(\n"
          ]
        },
        {
          "output_type": "stream",
          "name": "stdout",
          "text": [
            "Test samples: 240\n",
            "label\n",
            "surprise    60\n",
            "disgust     60\n",
            "neutral     60\n",
            "happy       60\n",
            "Name: count, dtype: int64\n"
          ]
        },
        {
          "output_type": "display_data",
          "data": {
            "text/plain": [
              "Map:   0%|          | 0/240 [00:00<?, ? examples/s]"
            ],
            "application/vnd.jupyter.widget-view+json": {
              "version_major": 2,
              "version_minor": 0,
              "model_id": "09c0babb8e9d4d9391ca7138d909cf19"
            }
          },
          "metadata": {}
        },
        {
          "output_type": "stream",
          "name": "stderr",
          "text": [
            "/tmp/ipython-input-4-555381172.py:18: FutureWarning: `tokenizer` is deprecated and will be removed in version 5.0.0 for `Trainer.__init__`. Use `processing_class` instead.\n",
            "  trainer = Trainer(\n"
          ]
        },
        {
          "output_type": "display_data",
          "data": {
            "text/plain": [
              "<IPython.core.display.HTML object>"
            ],
            "text/html": []
          },
          "metadata": {}
        },
        {
          "output_type": "stream",
          "name": "stderr",
          "text": [
            "\u001b[34m\u001b[1mwandb\u001b[0m: \u001b[33mWARNING\u001b[0m The `run_name` is currently set to the same value as `TrainingArguments.output_dir`. If this was not intended, please specify a different run name by setting the `TrainingArguments.run_name` parameter.\n"
          ]
        },
        {
          "output_type": "stream",
          "name": "stdout",
          "text": [
            "\n",
            "=== CLASSIFICATION REPORT ===\n",
            "              precision    recall  f1-score   support\n",
            "\n",
            "     disgust       1.00      0.05      0.10        60\n",
            "       happy       0.19      0.28      0.23        60\n",
            "     neutral       0.54      1.00      0.70        60\n",
            "    surprise       0.11      0.07      0.08        60\n",
            "\n",
            "    accuracy                           0.35       240\n",
            "   macro avg       0.46      0.35      0.28       240\n",
            "weighted avg       0.46      0.35      0.28       240\n",
            "\n",
            "Classification report saved to: /content/drive/MyDrive/model/hasil-train-wav2vec2--basemodel/evaluation/indo_model_on_ravdess/classification_report.csv\n"
          ]
        },
        {
          "output_type": "display_data",
          "data": {
            "text/plain": [
              "<Figure size 800x800 with 2 Axes>"
            ],
            "image/png": "[encoded data removed]"
          },
          "metadata": {}
        },
        {
          "output_type": "display_data",
          "data": {
            "text/plain": [
              "<Figure size 800x800 with 2 Axes>"
            ],
            "image/png": "[encoded data removed]"
          },
          "metadata": {}
        },
        {
          "output_type": "stream",
          "name": "stdout",
          "text": [
            "Confusion matrices saved to: /content/drive/MyDrive/model/hasil-train-wav2vec2--basemodel/evaluation/indo_model_on_ravdess\n"
          ]
        }
      ]
    },
    {
      "cell_type": "markdown",
      "source": [
        "## test model 2 (bhs inggris) menggunakan dataset indonesia"
      ],
      "metadata": {
        "id": "Zpt6VcWz5YCt"
      }
    },
    {
      "cell_type": "code",
      "source": [
        "import os\n",
        "import numpy as np\n",
        "import pandas as pd\n",
        "import torch\n",
        "import matplotlib.pyplot as plt\n",
        "from sklearn.metrics import classification_report, confusion_matrix, ConfusionMatrixDisplay\n",
        "from datasets import Dataset, Audio\n",
        "from transformers import Wav2Vec2ForSequenceClassification, Wav2Vec2Processor, Trainer\n"
      ],
      "metadata": {
        "id": "0RbeR8bD5YCu"
      },
      "execution_count": 1,
      "outputs": []
    },
    {
      "cell_type": "code",
      "source": [
        "def load_data_from_folder(data_dir, allowed_labels):\n",
        "    all_data = []\n",
        "    for label in os.listdir(data_dir):\n",
        "        if label.lower() in allowed_labels:\n",
        "            label_dir = os.path.join(data_dir, label)\n",
        "            for file in os.listdir(label_dir):\n",
        "                if file.endswith(\".wav\"):\n",
        "                    all_data.append({\"path\": os.path.join(label_dir, file), \"label\": label.lower()})\n",
        "    df = pd.DataFrame(all_data)\n",
        "    return df\n",
        "\n",
        "def encode_labels(df, label2id):\n",
        "    df[\"label_id\"] = df[\"label\"].map(label2id)\n",
        "    return df\n"
      ],
      "metadata": {
        "id": "Yb5ov1d65YCu"
      },
      "execution_count": 2,
      "outputs": []
    },
    {
      "cell_type": "code",
      "source": [
        "def prepare_hf_dataset_from_df(df, processor):\n",
        "    dataset = Dataset.from_pandas(df)\n",
        "    dataset = dataset.cast_column(\"path\", Audio(sampling_rate=16000))\n",
        "\n",
        "    def preprocess(batch):\n",
        "        audio_arrays = [x[\"array\"] for x in batch[\"path\"]]\n",
        "        inputs = processor(audio_arrays, sampling_rate=16000, padding=True, return_tensors=\"pt\")\n",
        "        inputs[\"labels\"] = batch[\"label_id\"]\n",
        "        return inputs\n",
        "\n",
        "    dataset = dataset.map(preprocess, batched=True, remove_columns=[\"path\", \"label\"])\n",
        "    return dataset\n"
      ],
      "metadata": {
        "id": "fa63tvlA5YCu"
      },
      "execution_count": 3,
      "outputs": []
    },
    {
      "cell_type": "code",
      "source": [
        "def evaluate_model_on_dataset(model_dir, test_data_dir, allowed_labels, label2id, id2label, output_dir_eval):\n",
        "    os.makedirs(output_dir_eval, exist_ok=True)\n",
        "\n",
        "    print(f\"\\n=== Loading model from {model_dir}\")\n",
        "    model = Wav2Vec2ForSequenceClassification.from_pretrained(model_dir)\n",
        "    processor = Wav2Vec2Processor.from_pretrained(\"facebook/wav2vec2-base\")\n",
        "\n",
        "    # Load test data\n",
        "    df_test = load_data_from_folder(test_data_dir, allowed_labels)\n",
        "    df_test = encode_labels(df_test, label2id)\n",
        "    print(f\"Test samples: {len(df_test)}\")\n",
        "    print(df_test['label'].value_counts())\n",
        "\n",
        "    # Prepare HF Dataset\n",
        "    test_dataset = prepare_hf_dataset_from_df(df_test, processor)\n",
        "\n",
        "    # Init Trainer\n",
        "    trainer = Trainer(\n",
        "        model=model,\n",
        "        tokenizer=processor\n",
        "    )\n",
        "\n",
        "    # Predict\n",
        "    predictions = trainer.predict(test_dataset)\n",
        "    preds = np.argmax(predictions.predictions, axis=1)\n",
        "    labels = predictions.label_ids\n",
        "\n",
        "    target_names = [id2label[i] for i in sorted(id2label.keys())]\n",
        "\n",
        "    # Classification Report\n",
        "    report = classification_report(labels, preds, target_names=target_names)\n",
        "    print(\"\\n=== CLASSIFICATION REPORT ===\")\n",
        "    print(report)\n",
        "\n",
        "    # Save report\n",
        "    report_dict = classification_report(labels, preds, target_names=target_names, output_dict=True)\n",
        "    pd.DataFrame(report_dict).transpose().to_csv(os.path.join(output_dir_eval, \"classification_report.csv\"))\n",
        "    print(f\"Classification report saved to: {os.path.join(output_dir_eval, 'classification_report.csv')}\")\n",
        "\n",
        "    # Confusion Matrix\n",
        "    cm = confusion_matrix(labels, preds)\n",
        "    disp = ConfusionMatrixDisplay(confusion_matrix=cm, display_labels=target_names)\n",
        "    fig, ax = plt.subplots(figsize=(8,8))\n",
        "    disp.plot(ax=ax, cmap=\"Blues\", values_format=\"d\", xticks_rotation=45)\n",
        "    plt.title(\"Confusion Matrix (Raw)\")\n",
        "    fig.savefig(os.path.join(output_dir_eval, \"confusion_matrix_raw.png\"))\n",
        "    plt.show()\n",
        "\n",
        "    # Normalized CM\n",
        "    cm_norm = confusion_matrix(labels, preds, normalize=\"true\")\n",
        "    disp_norm = ConfusionMatrixDisplay(confusion_matrix=cm_norm, display_labels=target_names)\n",
        "    fig, ax = plt.subplots(figsize=(8,8))\n",
        "    disp_norm.plot(ax=ax, cmap=\"Greens\", values_format=\".2f\", xticks_rotation=45)\n",
        "    plt.title(\"Confusion Matrix (Normalized)\")\n",
        "    fig.savefig(os.path.join(output_dir_eval, \"confusion_matrix_norm.png\"))\n",
        "    plt.show()\n",
        "\n",
        "    print(f\"Confusion matrices saved to: {output_dir_eval}\")\n"
      ],
      "metadata": {
        "id": "QSTXCf5b5YCv"
      },
      "execution_count": 4,
      "outputs": []
    },
    {
      "cell_type": "code",
      "source": [
        "import wandb\n",
        "wandb.init(mode=\"disabled\")"
      ],
      "metadata": {
        "colab": {
          "base_uri": "https://localhost:8080/",
          "height": 38
        },
        "outputId": "d74cda04-c42c-4a69-ee57-226a1feb2b3c",
        "id": "ptZ8UXl65YCv"
      },
      "execution_count": 5,
      "outputs": [
        {
          "output_type": "execute_result",
          "data": {
            "text/html": [
              "<button onClick=\"this.nextSibling.style.display='block';this.style.display='none';\">Display W&B run</button><iframe src='https://wandb.ai/dummy/dummy/runs/lx7edv37?jupyter=true' style='border:none;width:100%;height:420px;display:none;'></iframe>"
            ],
            "text/plain": [
              "<wandb.sdk.wandb_run.Run at 0x7ae6bb4a5590>"
            ]
          },
          "metadata": {},
          "execution_count": 5
        }
      ]
    },
    {
      "cell_type": "code",
      "source": [
        "# === Model 2 (inggris) tested on Indonesian ===\n",
        "allowed_labels = [\"disgust\", \"happy\", \"neutral\", \"surprise\"]\n",
        "label2id = {\"disgust\": 0, \"happy\": 1, \"neutral\": 2, \"surprise\": 3}\n",
        "id2label = {v:k for k,v in label2id.items()}\n",
        "\n",
        "evaluate_model_on_dataset(\n",
        "    model_dir=\"/content/drive/MyDrive/model/hasil-train-wav2vec2--basemodel/inggris/checkpoint-312\",    # path model 2\n",
        "    test_data_dir=\"/content/drive/MyDrive/dataset/datasetindo_sorted_preprocess_4s\", # path test indowavesentiment\n",
        "    allowed_labels=allowed_labels,\n",
        "    label2id=label2id,\n",
        "    id2label=id2label,\n",
        "    output_dir_eval=\"/content/drive/MyDrive/model/hasil-train-wav2vec2--basemodel/evaluation/eng_model_on_indo\"\n",
        ")\n"
      ],
      "metadata": {
        "colab": {
          "base_uri": "https://localhost:8080/",
          "height": 1000,
          "referenced_widgets": [
            "5483657d0c3944bbacd12198d5a6f712",
            "07e9ea131e094b54928be25702b3b16e",
            "289b99b8802449839298a07eb99546ad",
            "08db1408686c44c9a7e8ab86406b0754",
            "909adcb05d8e41dfbb38d85a31d70226",
            "7c47b244f4a042278906ac0d08621802",
            "6434588627b44a1dbbdbcb650e591c7f",
            "cc32b6142b5f491cbc7b0fbe2f4cc99c",
            "7c178c20ac9c4c2693245746550b2c68",
            "a347c700cb4547c08c4c6616df7fb467",
            "a8382f0d98e542ab8326d2ad20d4245e"
          ]
        },
        "outputId": "d2a484ae-de87-41f7-ee5f-d62742748db6",
        "id": "0gI9DRE55YCv"
      },
      "execution_count": 6,
      "outputs": [
        {
          "output_type": "stream",
          "name": "stdout",
          "text": [
            "\n",
            "=== Loading model from /content/drive/MyDrive/model/hasil-train-wav2vec2--basemodel/inggris/checkpoint-312\n"
          ]
        },
        {
          "output_type": "stream",
          "name": "stderr",
          "text": [
            "/usr/local/lib/python3.11/dist-packages/huggingface_hub/utils/_auth.py:94: UserWarning: \n",
            "The secret `HF_TOKEN` does not exist in your Colab secrets.\n",
            "To authenticate with the Hugging Face Hub, create a token in your settings tab (https://huggingface.co/settings/tokens), set it as secret in your Google Colab and restart your session.\n",
            "You will be able to reuse this secret in all of your notebooks.\n",
            "Please note that authentication is recommended but still optional to access public models or datasets.\n",
            "  warnings.warn(\n",
            "/usr/local/lib/python3.11/dist-packages/transformers/configuration_utils.py:309: UserWarning: Passing `gradient_checkpointing` to a config initialization is deprecated and will be removed in v5 Transformers. Using `model.gradient_checkpointing_enable()` instead, or if you are using the `Trainer` API, pass `gradient_checkpointing=True` in your `TrainingArguments`.\n",
            "  warnings.warn(\n"
          ]
        },
        {
          "output_type": "stream",
          "name": "stdout",
          "text": [
            "Test samples: 240\n",
            "label\n",
            "neutral     60\n",
            "surprise    60\n",
            "disgust     60\n",
            "happy       60\n",
            "Name: count, dtype: int64\n"
          ]
        },
        {
          "output_type": "display_data",
          "data": {
            "text/plain": [
              "Map:   0%|          | 0/240 [00:00<?, ? examples/s]"
            ],
            "application/vnd.jupyter.widget-view+json": {
              "version_major": 2,
              "version_minor": 0,
              "model_id": "5483657d0c3944bbacd12198d5a6f712"
            }
          },
          "metadata": {}
        },
        {
          "output_type": "stream",
          "name": "stderr",
          "text": [
            "/tmp/ipython-input-4-555381172.py:18: FutureWarning: `tokenizer` is deprecated and will be removed in version 5.0.0 for `Trainer.__init__`. Use `processing_class` instead.\n",
            "  trainer = Trainer(\n"
          ]
        },
        {
          "output_type": "display_data",
          "data": {
            "text/plain": [
              "<IPython.core.display.HTML object>"
            ],
            "text/html": []
          },
          "metadata": {}
        },
        {
          "output_type": "stream",
          "name": "stderr",
          "text": [
            "\u001b[34m\u001b[1mwandb\u001b[0m: \u001b[33mWARNING\u001b[0m The `run_name` is currently set to the same value as `TrainingArguments.output_dir`. If this was not intended, please specify a different run name by setting the `TrainingArguments.run_name` parameter.\n"
          ]
        },
        {
          "output_type": "stream",
          "name": "stdout",
          "text": [
            "\n",
            "=== CLASSIFICATION REPORT ===\n",
            "              precision    recall  f1-score   support\n",
            "\n",
            "     disgust       0.75      0.45      0.56        60\n",
            "       happy       0.25      0.53      0.34        60\n",
            "     neutral       0.80      0.13      0.23        60\n",
            "    surprise       0.51      0.55      0.53        60\n",
            "\n",
            "    accuracy                           0.42       240\n",
            "   macro avg       0.58      0.42      0.41       240\n",
            "weighted avg       0.58      0.42      0.41       240\n",
            "\n",
            "Classification report saved to: /content/drive/MyDrive/model/hasil-train-wav2vec2--basemodel/evaluation/eng_model_on_indo/classification_report.csv\n"
          ]
        },
        {
          "output_type": "display_data",
          "data": {
            "text/plain": [
              "<Figure size 800x800 with 2 Axes>"
            ],
            "image/png": "[encoded data removed]"
          },
          "metadata": {}
        },
        {
          "output_type": "display_data",
          "data": {
            "text/plain": [
              "<Figure size 800x800 with 2 Axes>"
            ],
            "image/png": "[encoded data removed]"
          },
          "metadata": {}
        },
        {
          "output_type": "stream",
          "name": "stdout",
          "text": [
            "Confusion matrices saved to: /content/drive/MyDrive/model/hasil-train-wav2vec2--basemodel/evaluation/eng_model_on_indo\n"
          ]
        }
      ]
    }
  ]
}